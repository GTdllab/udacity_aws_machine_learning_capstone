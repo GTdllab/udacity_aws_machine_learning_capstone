{
 "cells": [
  {
   "cell_type": "markdown",
   "metadata": {
    "papermill": {
     "duration": 0.019263,
     "end_time": "2025-07-04T00:04:12.188506",
     "exception": false,
     "start_time": "2025-07-04T00:04:12.169243",
     "status": "completed"
    },
    "tags": []
   },
   "source": [
    "# SageMaker Debugger Profiling Report\n",
    "\n",
    "SageMaker Debugger auto generated this report. You can generate similar reports on all supported training jobs. The report provides summary of training job, system resource usage statistics, framework metrics, rules summary, and detailed analysis from each rule. The graphs and tables are interactive. \n",
    "\n",
    "**Legal disclaimer:** This report and any recommendations are provided for informational purposes only and are not definitive. You are responsible for making your own independent assessment of the information.\n"
   ]
  },
  {
   "cell_type": "code",
   "execution_count": 1,
   "metadata": {
    "execution": {
     "iopub.execute_input": "2025-07-04T00:04:12.233631Z",
     "iopub.status.busy": "2025-07-04T00:04:12.233089Z",
     "iopub.status.idle": "2025-07-04T00:04:12.821073Z",
     "shell.execute_reply": "2025-07-04T00:04:12.821528Z"
    },
    "papermill": {
     "duration": 0.614262,
     "end_time": "2025-07-04T00:04:12.821745",
     "exception": false,
     "start_time": "2025-07-04T00:04:12.207483",
     "status": "completed"
    },
    "tags": [
     "hide-output",
     "hide-input"
    ]
   },
   "outputs": [
    {
     "name": "stdout",
     "output_type": "stream",
     "text": [
      "[2025-07-04 00:04:12.813 ip-10-0-146-182.ec2.internal:702 INFO utils.py:27] RULE_JOB_STOP_SIGNAL_FILENAME: /opt/ml/processing/input/profiler/signals/ProfilerReport\n"
     ]
    }
   ],
   "source": [
    "import json\n",
    "import pandas as pd\n",
    "import glob\n",
    "import matplotlib.pyplot as plt\n",
    "import numpy as np\n",
    "import datetime\n",
    "from smdebug.profiler.utils import us_since_epoch_to_human_readable_time, ns_since_epoch_to_human_readable_time\n",
    "from smdebug.core.utils import setup_profiler_report\n"
   ]
  },
  {
   "cell_type": "code",
   "execution_count": 2,
   "metadata": {
    "execution": {
     "iopub.execute_input": "2025-07-04T00:04:12.866752Z",
     "iopub.status.busy": "2025-07-04T00:04:12.866229Z",
     "iopub.status.idle": "2025-07-04T00:04:13.068980Z",
     "shell.execute_reply": "2025-07-04T00:04:13.069421Z"
    },
    "papermill": {
     "duration": 0.226965,
     "end_time": "2025-07-04T00:04:13.069566",
     "exception": false,
     "start_time": "2025-07-04T00:04:12.842601",
     "status": "completed"
    },
    "tags": [
     "hide-input"
    ]
   },
   "outputs": [
    {
     "data": {
      "application/javascript": [
       "\n",
       "(function(root) {\n",
       "  function now() {\n",
       "    return new Date();\n",
       "  }\n",
       "\n",
       "  var force = true;\n",
       "\n",
       "  if (typeof root._bokeh_onload_callbacks === \"undefined\" || force === true) {\n",
       "    root._bokeh_onload_callbacks = [];\n",
       "    root._bokeh_is_loading = undefined;\n",
       "  }\n",
       "\n",
       "  var JS_MIME_TYPE = 'application/javascript';\n",
       "  var HTML_MIME_TYPE = 'text/html';\n",
       "  var EXEC_MIME_TYPE = 'application/vnd.bokehjs_exec.v0+json';\n",
       "  var CLASS_NAME = 'output_bokeh rendered_html';\n",
       "\n",
       "  /**\n",
       "   * Render data to the DOM node\n",
       "   */\n",
       "  function render(props, node) {\n",
       "    var script = document.createElement(\"script\");\n",
       "    node.appendChild(script);\n",
       "  }\n",
       "\n",
       "  /**\n",
       "   * Handle when an output is cleared or removed\n",
       "   */\n",
       "  function handleClearOutput(event, handle) {\n",
       "    var cell = handle.cell;\n",
       "\n",
       "    var id = cell.output_area._bokeh_element_id;\n",
       "    var server_id = cell.output_area._bokeh_server_id;\n",
       "    // Clean up Bokeh references\n",
       "    if (id != null && id in Bokeh.index) {\n",
       "      Bokeh.index[id].model.document.clear();\n",
       "      delete Bokeh.index[id];\n",
       "    }\n",
       "\n",
       "    if (server_id !== undefined) {\n",
       "      // Clean up Bokeh references\n",
       "      var cmd = \"from bokeh.io.state import curstate; print(curstate().uuid_to_server['\" + server_id + \"'].get_sessions()[0].document.roots[0]._id)\";\n",
       "      cell.notebook.kernel.execute(cmd, {\n",
       "        iopub: {\n",
       "          output: function(msg) {\n",
       "            var id = msg.content.text.trim();\n",
       "            if (id in Bokeh.index) {\n",
       "              Bokeh.index[id].model.document.clear();\n",
       "              delete Bokeh.index[id];\n",
       "            }\n",
       "          }\n",
       "        }\n",
       "      });\n",
       "      // Destroy server and session\n",
       "      var cmd = \"import bokeh.io.notebook as ion; ion.destroy_server('\" + server_id + \"')\";\n",
       "      cell.notebook.kernel.execute(cmd);\n",
       "    }\n",
       "  }\n",
       "\n",
       "  /**\n",
       "   * Handle when a new output is added\n",
       "   */\n",
       "  function handleAddOutput(event, handle) {\n",
       "    var output_area = handle.output_area;\n",
       "    var output = handle.output;\n",
       "\n",
       "    // limit handleAddOutput to display_data with EXEC_MIME_TYPE content only\n",
       "    if ((output.output_type != \"display_data\") || (!output.data.hasOwnProperty(EXEC_MIME_TYPE))) {\n",
       "      return\n",
       "    }\n",
       "\n",
       "    var toinsert = output_area.element.find(\".\" + CLASS_NAME.split(' ')[0]);\n",
       "\n",
       "    if (output.metadata[EXEC_MIME_TYPE][\"id\"] !== undefined) {\n",
       "      toinsert[toinsert.length - 1].firstChild.textContent = output.data[JS_MIME_TYPE];\n",
       "      // store reference to embed id on output_area\n",
       "      output_area._bokeh_element_id = output.metadata[EXEC_MIME_TYPE][\"id\"];\n",
       "    }\n",
       "    if (output.metadata[EXEC_MIME_TYPE][\"server_id\"] !== undefined) {\n",
       "      var bk_div = document.createElement(\"div\");\n",
       "      bk_div.innerHTML = output.data[HTML_MIME_TYPE];\n",
       "      var script_attrs = bk_div.children[0].attributes;\n",
       "      for (var i = 0; i < script_attrs.length; i++) {\n",
       "        toinsert[toinsert.length - 1].firstChild.setAttribute(script_attrs[i].name, script_attrs[i].value);\n",
       "        toinsert[toinsert.length - 1].firstChild.textContent = bk_div.children[0].textContent\n",
       "      }\n",
       "      // store reference to server id on output_area\n",
       "      output_area._bokeh_server_id = output.metadata[EXEC_MIME_TYPE][\"server_id\"];\n",
       "    }\n",
       "  }\n",
       "\n",
       "  function register_renderer(events, OutputArea) {\n",
       "\n",
       "    function append_mime(data, metadata, element) {\n",
       "      // create a DOM node to render to\n",
       "      var toinsert = this.create_output_subarea(\n",
       "        metadata,\n",
       "        CLASS_NAME,\n",
       "        EXEC_MIME_TYPE\n",
       "      );\n",
       "      this.keyboard_manager.register_events(toinsert);\n",
       "      // Render to node\n",
       "      var props = {data: data, metadata: metadata[EXEC_MIME_TYPE]};\n",
       "      render(props, toinsert[toinsert.length - 1]);\n",
       "      element.append(toinsert);\n",
       "      return toinsert\n",
       "    }\n",
       "\n",
       "    /* Handle when an output is cleared or removed */\n",
       "    events.on('clear_output.CodeCell', handleClearOutput);\n",
       "    events.on('delete.Cell', handleClearOutput);\n",
       "\n",
       "    /* Handle when a new output is added */\n",
       "    events.on('output_added.OutputArea', handleAddOutput);\n",
       "\n",
       "    /**\n",
       "     * Register the mime type and append_mime function with output_area\n",
       "     */\n",
       "    OutputArea.prototype.register_mime_type(EXEC_MIME_TYPE, append_mime, {\n",
       "      /* Is output safe? */\n",
       "      safe: true,\n",
       "      /* Index of renderer in `output_area.display_order` */\n",
       "      index: 0\n",
       "    });\n",
       "  }\n",
       "\n",
       "  // register the mime type if in Jupyter Notebook environment and previously unregistered\n",
       "  if (root.Jupyter !== undefined) {\n",
       "    var events = require('base/js/events');\n",
       "    var OutputArea = require('notebook/js/outputarea').OutputArea;\n",
       "\n",
       "    if (OutputArea.prototype.mime_types().indexOf(EXEC_MIME_TYPE) == -1) {\n",
       "      register_renderer(events, OutputArea);\n",
       "    }\n",
       "  }\n",
       "\n",
       "  \n",
       "  if (typeof (root._bokeh_timeout) === \"undefined\" || force === true) {\n",
       "    root._bokeh_timeout = Date.now() + 5000;\n",
       "    root._bokeh_failed_load = false;\n",
       "  }\n",
       "\n",
       "  var NB_LOAD_WARNING = {'data': {'text/html':\n",
       "     \"<div style='background-color: #fdd'>\\n\"+\n",
       "     \"<p>\\n\"+\n",
       "     \"BokehJS does not appear to have successfully loaded. If loading BokehJS from CDN, this \\n\"+\n",
       "     \"may be due to a slow or bad network connection. Possible fixes:\\n\"+\n",
       "     \"</p>\\n\"+\n",
       "     \"<ul>\\n\"+\n",
       "     \"<li>re-rerun `output_notebook()` to attempt to load from CDN again, or</li>\\n\"+\n",
       "     \"<li>use INLINE resources instead, as so:</li>\\n\"+\n",
       "     \"</ul>\\n\"+\n",
       "     \"<code>\\n\"+\n",
       "     \"from bokeh.resources import INLINE\\n\"+\n",
       "     \"output_notebook(resources=INLINE)\\n\"+\n",
       "     \"</code>\\n\"+\n",
       "     \"</div>\"}};\n",
       "\n",
       "  function display_loaded() {\n",
       "    var el = document.getElementById(null);\n",
       "    if (el != null) {\n",
       "      el.textContent = \"BokehJS is loading...\";\n",
       "    }\n",
       "    if (root.Bokeh !== undefined) {\n",
       "      if (el != null) {\n",
       "        el.textContent = \"BokehJS \" + root.Bokeh.version + \" successfully loaded.\";\n",
       "      }\n",
       "    } else if (Date.now() < root._bokeh_timeout) {\n",
       "      setTimeout(display_loaded, 100)\n",
       "    }\n",
       "  }\n",
       "\n",
       "\n",
       "  function run_callbacks() {\n",
       "    try {\n",
       "      root._bokeh_onload_callbacks.forEach(function(callback) {\n",
       "        if (callback != null)\n",
       "          callback();\n",
       "      });\n",
       "    } finally {\n",
       "      delete root._bokeh_onload_callbacks\n",
       "    }\n",
       "    console.debug(\"Bokeh: all callbacks have finished\");\n",
       "  }\n",
       "\n",
       "  function load_libs(css_urls, js_urls, callback) {\n",
       "    if (css_urls == null) css_urls = [];\n",
       "    if (js_urls == null) js_urls = [];\n",
       "\n",
       "    root._bokeh_onload_callbacks.push(callback);\n",
       "    if (root._bokeh_is_loading > 0) {\n",
       "      console.debug(\"Bokeh: BokehJS is being loaded, scheduling callback at\", now());\n",
       "      return null;\n",
       "    }\n",
       "    if (js_urls == null || js_urls.length === 0) {\n",
       "      run_callbacks();\n",
       "      return null;\n",
       "    }\n",
       "    console.debug(\"Bokeh: BokehJS not loaded, scheduling load and callback at\", now());\n",
       "    root._bokeh_is_loading = css_urls.length + js_urls.length;\n",
       "\n",
       "    function on_load() {\n",
       "      root._bokeh_is_loading--;\n",
       "      if (root._bokeh_is_loading === 0) {\n",
       "        console.debug(\"Bokeh: all BokehJS libraries/stylesheets loaded\");\n",
       "        run_callbacks()\n",
       "      }\n",
       "    }\n",
       "\n",
       "    function on_error() {\n",
       "      console.error(\"failed to load \" + url);\n",
       "    }\n",
       "\n",
       "    for (var i = 0; i < css_urls.length; i++) {\n",
       "      var url = css_urls[i];\n",
       "      const element = document.createElement(\"link\");\n",
       "      element.onload = on_load;\n",
       "      element.onerror = on_error;\n",
       "      element.rel = \"stylesheet\";\n",
       "      element.type = \"text/css\";\n",
       "      element.href = url;\n",
       "      console.debug(\"Bokeh: injecting link tag for BokehJS stylesheet: \", url);\n",
       "      document.body.appendChild(element);\n",
       "    }\n",
       "\n",
       "    const hashes = {\"https://cdn.bokeh.org/bokeh/release/bokeh-2.2.3.min.js\": \"T2yuo9Oe71Cz/I4X9Ac5+gpEa5a8PpJCDlqKYO0CfAuEszu1JrXLl8YugMqYe3sM\", \"https://cdn.bokeh.org/bokeh/release/bokeh-widgets-2.2.3.min.js\": \"98GDGJ0kOMCUMUePhksaQ/GYgB3+NH9h996V88sh3aOiUNX3N+fLXAtry6xctSZ6\", \"https://cdn.bokeh.org/bokeh/release/bokeh-tables-2.2.3.min.js\": \"89bArO+nlbP3sgakeHjCo1JYxYR5wufVgA3IbUvDY+K7w4zyxJqssu7wVnfeKCq8\"};\n",
       "\n",
       "    for (var i = 0; i < js_urls.length; i++) {\n",
       "      var url = js_urls[i];\n",
       "      var element = document.createElement('script');\n",
       "      element.onload = on_load;\n",
       "      element.onerror = on_error;\n",
       "      element.async = false;\n",
       "      element.src = url;\n",
       "      if (url in hashes) {\n",
       "        element.crossOrigin = \"anonymous\";\n",
       "        element.integrity = \"sha384-\" + hashes[url];\n",
       "      }\n",
       "      console.debug(\"Bokeh: injecting script tag for BokehJS library: \", url);\n",
       "      document.head.appendChild(element);\n",
       "    }\n",
       "  };\n",
       "\n",
       "  function inject_raw_css(css) {\n",
       "    const element = document.createElement(\"style\");\n",
       "    element.appendChild(document.createTextNode(css));\n",
       "    document.body.appendChild(element);\n",
       "  }\n",
       "\n",
       "  \n",
       "  var js_urls = [\"https://cdn.bokeh.org/bokeh/release/bokeh-2.2.3.min.js\", \"https://cdn.bokeh.org/bokeh/release/bokeh-widgets-2.2.3.min.js\", \"https://cdn.bokeh.org/bokeh/release/bokeh-tables-2.2.3.min.js\"];\n",
       "  var css_urls = [];\n",
       "  \n",
       "\n",
       "  var inline_js = [\n",
       "    function(Bokeh) {\n",
       "      Bokeh.set_log_level(\"info\");\n",
       "    },\n",
       "    function(Bokeh) {\n",
       "    \n",
       "    \n",
       "    }\n",
       "  ];\n",
       "\n",
       "  function run_inline_js() {\n",
       "    \n",
       "    if (root.Bokeh !== undefined || force === true) {\n",
       "      \n",
       "    for (var i = 0; i < inline_js.length; i++) {\n",
       "      inline_js[i].call(root, root.Bokeh);\n",
       "    }\n",
       "    } else if (Date.now() < root._bokeh_timeout) {\n",
       "      setTimeout(run_inline_js, 100);\n",
       "    } else if (!root._bokeh_failed_load) {\n",
       "      console.log(\"Bokeh: BokehJS failed to load within specified timeout.\");\n",
       "      root._bokeh_failed_load = true;\n",
       "    } else if (force !== true) {\n",
       "      var cell = $(document.getElementById(null)).parents('.cell').data().cell;\n",
       "      cell.output_area.append_execute_result(NB_LOAD_WARNING)\n",
       "    }\n",
       "\n",
       "  }\n",
       "\n",
       "  if (root._bokeh_is_loading === 0) {\n",
       "    console.debug(\"Bokeh: BokehJS loaded, going straight to plotting\");\n",
       "    run_inline_js();\n",
       "  } else {\n",
       "    load_libs(css_urls, js_urls, function() {\n",
       "      console.debug(\"Bokeh: BokehJS plotting callback run at\", now());\n",
       "      run_inline_js();\n",
       "    });\n",
       "  }\n",
       "}(window));"
      ],
      "application/vnd.bokehjs_load.v0+json": "\n(function(root) {\n  function now() {\n    return new Date();\n  }\n\n  var force = true;\n\n  if (typeof root._bokeh_onload_callbacks === \"undefined\" || force === true) {\n    root._bokeh_onload_callbacks = [];\n    root._bokeh_is_loading = undefined;\n  }\n\n  \n\n  \n  if (typeof (root._bokeh_timeout) === \"undefined\" || force === true) {\n    root._bokeh_timeout = Date.now() + 5000;\n    root._bokeh_failed_load = false;\n  }\n\n  var NB_LOAD_WARNING = {'data': {'text/html':\n     \"<div style='background-color: #fdd'>\\n\"+\n     \"<p>\\n\"+\n     \"BokehJS does not appear to have successfully loaded. If loading BokehJS from CDN, this \\n\"+\n     \"may be due to a slow or bad network connection. Possible fixes:\\n\"+\n     \"</p>\\n\"+\n     \"<ul>\\n\"+\n     \"<li>re-rerun `output_notebook()` to attempt to load from CDN again, or</li>\\n\"+\n     \"<li>use INLINE resources instead, as so:</li>\\n\"+\n     \"</ul>\\n\"+\n     \"<code>\\n\"+\n     \"from bokeh.resources import INLINE\\n\"+\n     \"output_notebook(resources=INLINE)\\n\"+\n     \"</code>\\n\"+\n     \"</div>\"}};\n\n  function display_loaded() {\n    var el = document.getElementById(null);\n    if (el != null) {\n      el.textContent = \"BokehJS is loading...\";\n    }\n    if (root.Bokeh !== undefined) {\n      if (el != null) {\n        el.textContent = \"BokehJS \" + root.Bokeh.version + \" successfully loaded.\";\n      }\n    } else if (Date.now() < root._bokeh_timeout) {\n      setTimeout(display_loaded, 100)\n    }\n  }\n\n\n  function run_callbacks() {\n    try {\n      root._bokeh_onload_callbacks.forEach(function(callback) {\n        if (callback != null)\n          callback();\n      });\n    } finally {\n      delete root._bokeh_onload_callbacks\n    }\n    console.debug(\"Bokeh: all callbacks have finished\");\n  }\n\n  function load_libs(css_urls, js_urls, callback) {\n    if (css_urls == null) css_urls = [];\n    if (js_urls == null) js_urls = [];\n\n    root._bokeh_onload_callbacks.push(callback);\n    if (root._bokeh_is_loading > 0) {\n      console.debug(\"Bokeh: BokehJS is being loaded, scheduling callback at\", now());\n      return null;\n    }\n    if (js_urls == null || js_urls.length === 0) {\n      run_callbacks();\n      return null;\n    }\n    console.debug(\"Bokeh: BokehJS not loaded, scheduling load and callback at\", now());\n    root._bokeh_is_loading = css_urls.length + js_urls.length;\n\n    function on_load() {\n      root._bokeh_is_loading--;\n      if (root._bokeh_is_loading === 0) {\n        console.debug(\"Bokeh: all BokehJS libraries/stylesheets loaded\");\n        run_callbacks()\n      }\n    }\n\n    function on_error() {\n      console.error(\"failed to load \" + url);\n    }\n\n    for (var i = 0; i < css_urls.length; i++) {\n      var url = css_urls[i];\n      const element = document.createElement(\"link\");\n      element.onload = on_load;\n      element.onerror = on_error;\n      element.rel = \"stylesheet\";\n      element.type = \"text/css\";\n      element.href = url;\n      console.debug(\"Bokeh: injecting link tag for BokehJS stylesheet: \", url);\n      document.body.appendChild(element);\n    }\n\n    const hashes = {\"https://cdn.bokeh.org/bokeh/release/bokeh-2.2.3.min.js\": \"T2yuo9Oe71Cz/I4X9Ac5+gpEa5a8PpJCDlqKYO0CfAuEszu1JrXLl8YugMqYe3sM\", \"https://cdn.bokeh.org/bokeh/release/bokeh-widgets-2.2.3.min.js\": \"98GDGJ0kOMCUMUePhksaQ/GYgB3+NH9h996V88sh3aOiUNX3N+fLXAtry6xctSZ6\", \"https://cdn.bokeh.org/bokeh/release/bokeh-tables-2.2.3.min.js\": \"89bArO+nlbP3sgakeHjCo1JYxYR5wufVgA3IbUvDY+K7w4zyxJqssu7wVnfeKCq8\"};\n\n    for (var i = 0; i < js_urls.length; i++) {\n      var url = js_urls[i];\n      var element = document.createElement('script');\n      element.onload = on_load;\n      element.onerror = on_error;\n      element.async = false;\n      element.src = url;\n      if (url in hashes) {\n        element.crossOrigin = \"anonymous\";\n        element.integrity = \"sha384-\" + hashes[url];\n      }\n      console.debug(\"Bokeh: injecting script tag for BokehJS library: \", url);\n      document.head.appendChild(element);\n    }\n  };\n\n  function inject_raw_css(css) {\n    const element = document.createElement(\"style\");\n    element.appendChild(document.createTextNode(css));\n    document.body.appendChild(element);\n  }\n\n  \n  var js_urls = [\"https://cdn.bokeh.org/bokeh/release/bokeh-2.2.3.min.js\", \"https://cdn.bokeh.org/bokeh/release/bokeh-widgets-2.2.3.min.js\", \"https://cdn.bokeh.org/bokeh/release/bokeh-tables-2.2.3.min.js\"];\n  var css_urls = [];\n  \n\n  var inline_js = [\n    function(Bokeh) {\n      Bokeh.set_log_level(\"info\");\n    },\n    function(Bokeh) {\n    \n    \n    }\n  ];\n\n  function run_inline_js() {\n    \n    if (root.Bokeh !== undefined || force === true) {\n      \n    for (var i = 0; i < inline_js.length; i++) {\n      inline_js[i].call(root, root.Bokeh);\n    }\n    } else if (Date.now() < root._bokeh_timeout) {\n      setTimeout(run_inline_js, 100);\n    } else if (!root._bokeh_failed_load) {\n      console.log(\"Bokeh: BokehJS failed to load within specified timeout.\");\n      root._bokeh_failed_load = true;\n    } else if (force !== true) {\n      var cell = $(document.getElementById(null)).parents('.cell').data().cell;\n      cell.output_area.append_execute_result(NB_LOAD_WARNING)\n    }\n\n  }\n\n  if (root._bokeh_is_loading === 0) {\n    console.debug(\"Bokeh: BokehJS loaded, going straight to plotting\");\n    run_inline_js();\n  } else {\n    load_libs(css_urls, js_urls, function() {\n      console.debug(\"Bokeh: BokehJS plotting callback run at\", now());\n      run_inline_js();\n    });\n  }\n}(window));"
     },
     "metadata": {},
     "output_type": "display_data"
    }
   ],
   "source": [
    "import bokeh\n",
    "from bokeh.io import output_notebook, show\n",
    "from bokeh.layouts import column, row\n",
    "from bokeh.plotting import figure\n",
    "from bokeh.models.widgets import DataTable, DateFormatter, TableColumn\n",
    "from bokeh.models import ColumnDataSource, PreText\n",
    "from math import pi\n",
    "from bokeh.transform import cumsum\n",
    "import warnings\n",
    "from bokeh.models.widgets import Paragraph\n",
    "from bokeh.models import Legend\n",
    "from bokeh.util.warnings import BokehDeprecationWarning, BokehUserWarning\n",
    "warnings.simplefilter('ignore', BokehDeprecationWarning)\n",
    "warnings.simplefilter('ignore', BokehUserWarning)\n",
    "\n",
    "output_notebook(hide_banner=True)"
   ]
  },
  {
   "cell_type": "code",
   "execution_count": 3,
   "metadata": {
    "execution": {
     "iopub.execute_input": "2025-07-04T00:04:13.111872Z",
     "iopub.status.busy": "2025-07-04T00:04:13.111356Z",
     "iopub.status.idle": "2025-07-04T00:04:13.113408Z",
     "shell.execute_reply": "2025-07-04T00:04:13.113819Z"
    },
    "papermill": {
     "duration": 0.024618,
     "end_time": "2025-07-04T00:04:13.113940",
     "exception": false,
     "start_time": "2025-07-04T00:04:13.089322",
     "status": "completed"
    },
    "tags": [
     "parameters",
     "hide-input",
     "hide-output"
    ]
   },
   "outputs": [],
   "source": [
    "processing_job_arn = \"\""
   ]
  },
  {
   "cell_type": "code",
   "execution_count": 4,
   "id": "6ddd83f1",
   "metadata": {
    "execution": {
     "iopub.execute_input": "2025-07-04T00:04:13.155229Z",
     "iopub.status.busy": "2025-07-04T00:04:13.154734Z",
     "iopub.status.idle": "2025-07-04T00:04:13.157116Z",
     "shell.execute_reply": "2025-07-04T00:04:13.156630Z"
    },
    "papermill": {
     "duration": 0.024057,
     "end_time": "2025-07-04T00:04:13.157235",
     "exception": false,
     "start_time": "2025-07-04T00:04:13.133178",
     "status": "completed"
    },
    "tags": [
     "injected-parameters"
    ]
   },
   "outputs": [],
   "source": [
    "# Parameters\n",
    "processing_job_arn = \"arn:aws:sagemaker:us-east-1:266735838622:processing-job/IMPROVED-2025-07-03-23-38--ProfilerReport-42498f82\"\n"
   ]
  },
  {
   "cell_type": "code",
   "execution_count": 5,
   "metadata": {
    "execution": {
     "iopub.execute_input": "2025-07-04T00:04:13.199063Z",
     "iopub.status.busy": "2025-07-04T00:04:13.198572Z",
     "iopub.status.idle": "2025-07-04T00:04:13.200521Z",
     "shell.execute_reply": "2025-07-04T00:04:13.200915Z"
    },
    "papermill": {
     "duration": 0.024148,
     "end_time": "2025-07-04T00:04:13.201026",
     "exception": false,
     "start_time": "2025-07-04T00:04:13.176878",
     "status": "completed"
    },
    "tags": [
     "hide-input",
     "hide-output"
    ]
   },
   "outputs": [],
   "source": [
    "setup_profiler_report(processing_job_arn)"
   ]
  },
  {
   "cell_type": "code",
   "execution_count": 6,
   "metadata": {
    "execution": {
     "iopub.execute_input": "2025-07-04T00:04:13.246595Z",
     "iopub.status.busy": "2025-07-04T00:04:13.246070Z",
     "iopub.status.idle": "2025-07-04T00:04:13.248460Z",
     "shell.execute_reply": "2025-07-04T00:04:13.248045Z"
    },
    "papermill": {
     "duration": 0.028365,
     "end_time": "2025-07-04T00:04:13.248555",
     "exception": false,
     "start_time": "2025-07-04T00:04:13.220190",
     "status": "completed"
    },
    "tags": [
     "hide-input"
    ]
   },
   "outputs": [],
   "source": [
    "def create_piechart(data_dict, title=None, height=400, width=400, x1=0, x2=0.1, radius=0.4, toolbar_location='right'):\n",
    "   \n",
    "    plot = figure(plot_height=height, \n",
    "                  plot_width=width,\n",
    "                  toolbar_location=toolbar_location,\n",
    "                  tools=\"hover,wheel_zoom,reset,pan\", \n",
    "                  tooltips=\"@phase:@value\", \n",
    "                  title=title,\n",
    "                  x_range=(-radius-x1, radius+x2))\n",
    "\n",
    "    data = pd.Series(data_dict).reset_index(name='value').rename(columns={'index':'phase'})\n",
    "    data['angle'] = data['value']/data['value'].sum() * 2*pi\n",
    "    data['color'] = bokeh.palettes.viridis(len(data_dict))\n",
    "\n",
    "    plot.wedge(x=0, y=0., radius=radius,\n",
    "        start_angle=cumsum('angle', include_zero=True), \n",
    "        end_angle=cumsum('angle'),\n",
    "        line_color=\"white\", \n",
    "        source=data, \n",
    "        fill_color='color', \n",
    "        legend='phase'\n",
    "              )\n",
    "    plot.legend.label_text_font_size = \"8pt\"\n",
    "    plot.legend.location = 'center_right'\n",
    "    plot.axis.axis_label=None\n",
    "    plot.axis.visible=False\n",
    "    plot.grid.grid_line_color = None\n",
    "    plot.outline_line_color = \"white\"\n",
    "    \n",
    "    return plot"
   ]
  },
  {
   "cell_type": "code",
   "execution_count": 7,
   "metadata": {
    "execution": {
     "iopub.execute_input": "2025-07-04T00:04:13.290502Z",
     "iopub.status.busy": "2025-07-04T00:04:13.289996Z",
     "iopub.status.idle": "2025-07-04T00:04:13.291929Z",
     "shell.execute_reply": "2025-07-04T00:04:13.292349Z"
    },
    "papermill": {
     "duration": 0.024868,
     "end_time": "2025-07-04T00:04:13.292461",
     "exception": false,
     "start_time": "2025-07-04T00:04:13.267593",
     "status": "completed"
    },
    "tags": [
     "hide-input"
    ]
   },
   "outputs": [],
   "source": [
    "from IPython.display import display, HTML, Markdown, Image\n",
    "def pretty_print(df):\n",
    "    raw_html = df.to_html().replace(\"\\\\n\",\"<br>\").replace('<tr>','<tr style=\"text-align: left;\">')\n",
    "    return display(HTML(raw_html))"
   ]
  },
  {
   "cell_type": "markdown",
   "metadata": {
    "papermill": {
     "duration": 0.019218,
     "end_time": "2025-07-04T00:04:13.330939",
     "exception": false,
     "start_time": "2025-07-04T00:04:13.311721",
     "status": "completed"
    },
    "tags": []
   },
   "source": [
    "## Training job summary"
   ]
  },
  {
   "cell_type": "code",
   "execution_count": 8,
   "metadata": {
    "execution": {
     "iopub.execute_input": "2025-07-04T00:04:13.373273Z",
     "iopub.status.busy": "2025-07-04T00:04:13.372743Z",
     "iopub.status.idle": "2025-07-04T00:04:13.374778Z",
     "shell.execute_reply": "2025-07-04T00:04:13.375175Z"
    },
    "papermill": {
     "duration": 0.02495,
     "end_time": "2025-07-04T00:04:13.375288",
     "exception": false,
     "start_time": "2025-07-04T00:04:13.350338",
     "status": "completed"
    },
    "tags": [
     "hide-input"
    ]
   },
   "outputs": [],
   "source": [
    "def load_report(rule_name):\n",
    "    try:\n",
    "        report = json.load(open('/opt/ml/processing/output/rule/profiler-output/profiler-reports/'+rule_name+'.json'))\n",
    "        return report\n",
    "    except FileNotFoundError:\n",
    "        print (rule_name + ' not triggered')"
   ]
  },
  {
   "cell_type": "code",
   "execution_count": 9,
   "metadata": {
    "execution": {
     "iopub.execute_input": "2025-07-04T00:04:13.426012Z",
     "iopub.status.busy": "2025-07-04T00:04:13.424353Z",
     "iopub.status.idle": "2025-07-04T00:04:13.428209Z",
     "shell.execute_reply": "2025-07-04T00:04:13.427769Z"
    },
    "papermill": {
     "duration": 0.033694,
     "end_time": "2025-07-04T00:04:13.428307",
     "exception": false,
     "start_time": "2025-07-04T00:04:13.394613",
     "status": "completed"
    },
    "tags": [
     "hide-input",
     "hide-output"
    ]
   },
   "outputs": [],
   "source": [
    "\n",
    "job_statistics = {}\n",
    "report = load_report('MaxInitializationTime')\n",
    "if report:\n",
    "    if \"first\" in report['Details'][\"step_num\"] and \"last\" in report['Details'][\"step_num\"]:\n",
    "        first_step = report['Details'][\"step_num\"][\"first\"]\n",
    "        last_step = report['Details'][\"step_num\"][\"last\"]\n",
    "    tmp = us_since_epoch_to_human_readable_time(report['Details']['job_start'] * 1000000)\n",
    "    date = datetime.datetime.strptime(tmp, '%Y-%m-%dT%H:%M:%S:%f')\n",
    "    day = date.date().strftime(\"%m/%d/%Y\")\n",
    "    hour = date.time().strftime(\"%H:%M:%S\")\n",
    "    job_statistics[\"Start time\"] = f\"{hour} {day}\"\n",
    "    tmp = us_since_epoch_to_human_readable_time(report['Details']['job_end'] * 1000000)\n",
    "    date = datetime.datetime.strptime(tmp, '%Y-%m-%dT%H:%M:%S:%f')\n",
    "    day = date.date().strftime(\"%m/%d/%Y\")\n",
    "    hour = date.time().strftime(\"%H:%M:%S\")\n",
    "    job_statistics[\"End time\"] = f\"{hour} {day}\"\n",
    "    job_duration_in_seconds = int(report['Details']['job_end'] - report['Details']['job_start']) \n",
    "    job_statistics[\"Job duration\"] = f\"{job_duration_in_seconds} seconds\"\n",
    "    if \"first\" in report['Details'][\"step_num\"] and \"last\" in report['Details'][\"step_num\"]:\n",
    "        tmp = us_since_epoch_to_human_readable_time(first_step)\n",
    "        date = datetime.datetime.strptime(tmp, '%Y-%m-%dT%H:%M:%S:%f')\n",
    "        day = date.date().strftime(\"%m/%d/%Y\")\n",
    "        hour = date.time().strftime(\"%H:%M:%S\")\n",
    "        job_statistics[\"Training loop start\"] = f\"{hour} {day}\"\n",
    "        tmp = us_since_epoch_to_human_readable_time(last_step)\n",
    "        date = datetime.datetime.strptime(tmp, '%Y-%m-%dT%H:%M:%S:%f')\n",
    "        day = date.date().strftime(\"%m/%d/%Y\")\n",
    "        hour = date.time().strftime(\"%H:%M:%S\")\n",
    "        job_statistics[\"Training loop end\"] = f\"{hour} {day}\"\n",
    "        training_loop_duration_in_seconds = int((last_step - first_step) / 1000000)\n",
    "        job_statistics[\"Training loop duration\"] = f\"{training_loop_duration_in_seconds} seconds\"\n",
    "        initialization_in_seconds = int(first_step/1000000 - report['Details']['job_start'])\n",
    "        job_statistics[\"Initialization time\"] = f\"{initialization_in_seconds} seconds\"\n",
    "        finalization_in_seconds = int(np.abs(report['Details']['job_end'] - last_step/1000000))\n",
    "        job_statistics[\"Finalization time\"] = f\"{finalization_in_seconds} seconds\"\n",
    "        initialization_perc = int(initialization_in_seconds / job_duration_in_seconds * 100)\n",
    "        job_statistics[\"Initialization\"] = f\"{initialization_perc} %\"\n",
    "        training_loop_perc = int(training_loop_duration_in_seconds / job_duration_in_seconds * 100)\n",
    "        job_statistics[\"Training loop\"] = f\"{training_loop_perc} %\"\n",
    "        finalization_perc = int(finalization_in_seconds / job_duration_in_seconds * 100)\n",
    "        job_statistics[\"Finalization\"] = f\"{finalization_perc} %\""
   ]
  },
  {
   "cell_type": "code",
   "execution_count": 10,
   "metadata": {
    "execution": {
     "iopub.execute_input": "2025-07-04T00:04:13.497572Z",
     "iopub.status.busy": "2025-07-04T00:04:13.489883Z",
     "iopub.status.idle": "2025-07-04T00:04:13.517129Z",
     "shell.execute_reply": "2025-07-04T00:04:13.516616Z"
    },
    "papermill": {
     "duration": 0.06772,
     "end_time": "2025-07-04T00:04:13.517253",
     "exception": false,
     "start_time": "2025-07-04T00:04:13.449533",
     "status": "completed"
    },
    "tags": [
     "hide-input"
    ]
   },
   "outputs": [
    {
     "data": {
      "text/html": [
       "\n",
       "\n",
       "\n",
       "\n",
       "\n",
       "\n",
       "  <div class=\"bk-root\" id=\"cc444c8e-c7ff-46d4-bda6-3a00365e0790\" data-root-id=\"1052\"></div>\n"
      ]
     },
     "metadata": {},
     "output_type": "display_data"
    },
    {
     "data": {
      "application/javascript": [
       "(function(root) {\n",
       "  function embed_document(root) {\n",
       "    \n",
       "  var docs_json = {\"1b172814-c2b0-4e83-95b5-7b4882b1c196\":{\"roots\":{\"references\":[{\"attributes\":{\"children\":[{\"id\":\"1050\"},{\"id\":\"1051\"}]},\"id\":\"1052\",\"type\":\"Column\"},{\"attributes\":{},\"id\":\"1058\",\"type\":\"StringFormatter\"},{\"attributes\":{},\"id\":\"1055\",\"type\":\"Selection\"},{\"attributes\":{\"columns\":[{\"id\":\"1002\"},{\"id\":\"1003\"}],\"height\":380,\"source\":{\"id\":\"1001\"},\"view\":{\"id\":\"1005\"},\"width\":450},\"id\":\"1004\",\"type\":\"DataTable\"},{\"attributes\":{},\"id\":\"1056\",\"type\":\"StringFormatter\"},{\"attributes\":{},\"id\":\"1042\",\"type\":\"BasicTickFormatter\"},{\"attributes\":{\"children\":[{\"id\":\"1004\"},{\"id\":\"1006\"}]},\"id\":\"1051\",\"type\":\"Row\"},{\"attributes\":{},\"id\":\"1014\",\"type\":\"LinearScale\"},{\"attributes\":{\"field\":\"angle\"},\"id\":\"1034\",\"type\":\"CumSum\"},{\"attributes\":{\"source\":{\"id\":\"1001\"}},\"id\":\"1005\",\"type\":\"CDSView\"},{\"attributes\":{},\"id\":\"1057\",\"type\":\"StringEditor\"},{\"attributes\":{\"end_angle\":{\"expr\":{\"id\":\"1034\"},\"units\":\"rad\"},\"fill_color\":{\"field\":\"color\"},\"line_color\":{\"value\":\"white\"},\"radius\":{\"units\":\"data\",\"value\":0.15},\"start_angle\":{\"expr\":{\"id\":\"1033\"},\"units\":\"rad\"},\"x\":{\"value\":0},\"y\":{\"value\":0.0}},\"id\":\"1037\",\"type\":\"Wedge\"},{\"attributes\":{\"text\":\"The following table gives a summary about the training job. The table includes information about when the training job started and ended, how much time initialization, training loop and finalization took. \\n Your training job started on 07/03/2025 at 23:39:14 and ran for 1485 seconds.\",\"width\":800},\"id\":\"1050\",\"type\":\"Paragraph\"},{\"attributes\":{\"source\":{\"id\":\"1035\"}},\"id\":\"1040\",\"type\":\"CDSView\"},{\"attributes\":{\"data\":{\"0\":[\"Start time\",\"End time\",\"Job duration\",\"Training loop start\",\"Training loop end\",\"Training loop duration\",\"Initialization time\",\"Finalization time\",\"Initialization\",\"Training loop\",\"Finalization\"],\"1\":[\"23:39:14 07/03/2025\",\"00:03:59 07/04/2025\",\"1485 seconds\",\"23:44:04 07/03/2025\",\"00:03:50 07/04/2025\",\"1186 seconds\",\"290 seconds\",\"8 seconds\",\"19 %\",\"79 %\",\"0 %\"],\"index\":[0,1,2,3,4,5,6,7,8,9,10]},\"selected\":{\"id\":\"1055\"},\"selection_policy\":{\"id\":\"1054\"}},\"id\":\"1001\",\"type\":\"ColumnDataSource\"},{\"attributes\":{\"items\":[{\"id\":\"1049\"}],\"label_text_font_size\":\"8pt\",\"location\":\"center_right\"},\"id\":\"1048\",\"type\":\"Legend\"},{\"attributes\":{},\"id\":\"1059\",\"type\":\"StringEditor\"},{\"attributes\":{\"axis\":{\"id\":\"1016\"},\"grid_line_color\":null,\"ticker\":null},\"id\":\"1019\",\"type\":\"Grid\"},{\"attributes\":{\"data\":{\"angle\":{\"__ndarray__\":\"/lE/Vp598z+ZWLS+k0IUQAAAAAAAAAAA\",\"dtype\":\"float64\",\"order\":\"little\",\"shape\":[3]},\"color\":[\"#440154\",\"#208F8C\",\"#FDE724\"],\"index\":[0,1,2],\"phase\":[\"Initialization\",\"Training loop\",\"Finalization\"],\"value\":[19,79,0]},\"selected\":{\"id\":\"1047\"},\"selection_policy\":{\"id\":\"1046\"}},\"id\":\"1035\",\"type\":\"ColumnDataSource\"},{\"attributes\":{\"axis_label\":null,\"formatter\":{\"id\":\"1044\"},\"ticker\":{\"id\":\"1017\"},\"visible\":false},\"id\":\"1016\",\"type\":\"LinearAxis\"},{\"attributes\":{\"label\":{\"field\":\"phase\"},\"renderers\":[{\"id\":\"1039\"}]},\"id\":\"1049\",\"type\":\"LegendItem\"},{\"attributes\":{},\"id\":\"1021\",\"type\":\"BasicTicker\"},{\"attributes\":{\"below\":[{\"id\":\"1016\"}],\"center\":[{\"id\":\"1019\"},{\"id\":\"1023\"},{\"id\":\"1048\"}],\"left\":[{\"id\":\"1020\"}],\"outline_line_color\":\"white\",\"plot_height\":350,\"plot_width\":500,\"renderers\":[{\"id\":\"1039\"}],\"title\":null,\"toolbar\":{\"id\":\"1028\"},\"toolbar_location\":null,\"x_range\":{\"id\":\"1008\"},\"x_scale\":{\"id\":\"1012\"},\"y_range\":{\"id\":\"1010\"},\"y_scale\":{\"id\":\"1014\"}},\"id\":\"1006\",\"subtype\":\"Figure\",\"type\":\"Plot\"},{\"attributes\":{},\"id\":\"1017\",\"type\":\"BasicTicker\"},{\"attributes\":{},\"id\":\"1026\",\"type\":\"ResetTool\"},{\"attributes\":{\"editor\":{\"id\":\"1057\"},\"field\":\"0\",\"formatter\":{\"id\":\"1056\"},\"title\":\"\"},\"id\":\"1002\",\"type\":\"TableColumn\"},{\"attributes\":{\"end\":0.3,\"start\":-0.3},\"id\":\"1008\",\"type\":\"Range1d\"},{\"attributes\":{},\"id\":\"1010\",\"type\":\"DataRange1d\"},{\"attributes\":{\"axis\":{\"id\":\"1020\"},\"dimension\":1,\"grid_line_color\":null,\"ticker\":null},\"id\":\"1023\",\"type\":\"Grid\"},{\"attributes\":{},\"id\":\"1047\",\"type\":\"Selection\"},{\"attributes\":{\"data_source\":{\"id\":\"1035\"},\"glyph\":{\"id\":\"1037\"},\"hover_glyph\":null,\"muted_glyph\":null,\"nonselection_glyph\":{\"id\":\"1038\"},\"selection_glyph\":null,\"view\":{\"id\":\"1040\"}},\"id\":\"1039\",\"type\":\"GlyphRenderer\"},{\"attributes\":{\"axis_label\":null,\"formatter\":{\"id\":\"1042\"},\"ticker\":{\"id\":\"1021\"},\"visible\":false},\"id\":\"1020\",\"type\":\"LinearAxis\"},{\"attributes\":{},\"id\":\"1054\",\"type\":\"UnionRenderers\"},{\"attributes\":{},\"id\":\"1044\",\"type\":\"BasicTickFormatter\"},{\"attributes\":{},\"id\":\"1012\",\"type\":\"LinearScale\"},{\"attributes\":{\"active_drag\":\"auto\",\"active_inspect\":\"auto\",\"active_multi\":null,\"active_scroll\":\"auto\",\"active_tap\":\"auto\",\"tools\":[{\"id\":\"1024\"},{\"id\":\"1025\"},{\"id\":\"1026\"},{\"id\":\"1027\"}]},\"id\":\"1028\",\"type\":\"Toolbar\"},{\"attributes\":{\"end_angle\":{\"expr\":{\"id\":\"1034\"},\"units\":\"rad\"},\"fill_alpha\":{\"value\":0.1},\"fill_color\":{\"field\":\"color\"},\"line_alpha\":{\"value\":0.1},\"line_color\":{\"value\":\"white\"},\"radius\":{\"units\":\"data\",\"value\":0.15},\"start_angle\":{\"expr\":{\"id\":\"1033\"},\"units\":\"rad\"},\"x\":{\"value\":0},\"y\":{\"value\":0.0}},\"id\":\"1038\",\"type\":\"Wedge\"},{\"attributes\":{\"editor\":{\"id\":\"1059\"},\"field\":\"1\",\"formatter\":{\"id\":\"1058\"},\"title\":\"Job Statistics\"},\"id\":\"1003\",\"type\":\"TableColumn\"},{\"attributes\":{\"field\":\"angle\",\"include_zero\":true},\"id\":\"1033\",\"type\":\"CumSum\"},{\"attributes\":{\"callback\":null,\"tooltips\":\"@phase:@value\"},\"id\":\"1024\",\"type\":\"HoverTool\"},{\"attributes\":{},\"id\":\"1025\",\"type\":\"WheelZoomTool\"},{\"attributes\":{},\"id\":\"1046\",\"type\":\"UnionRenderers\"},{\"attributes\":{},\"id\":\"1027\",\"type\":\"PanTool\"}],\"root_ids\":[\"1052\"]},\"title\":\"Bokeh Application\",\"version\":\"2.2.3\"}};\n",
       "  var render_items = [{\"docid\":\"1b172814-c2b0-4e83-95b5-7b4882b1c196\",\"root_ids\":[\"1052\"],\"roots\":{\"1052\":\"cc444c8e-c7ff-46d4-bda6-3a00365e0790\"}}];\n",
       "  root.Bokeh.embed.embed_items_notebook(docs_json, render_items);\n",
       "\n",
       "  }\n",
       "  if (root.Bokeh !== undefined) {\n",
       "    embed_document(root);\n",
       "  } else {\n",
       "    var attempts = 0;\n",
       "    var timer = setInterval(function(root) {\n",
       "      if (root.Bokeh !== undefined) {\n",
       "        clearInterval(timer);\n",
       "        embed_document(root);\n",
       "      } else {\n",
       "        attempts++;\n",
       "        if (attempts > 100) {\n",
       "          clearInterval(timer);\n",
       "          console.log(\"Bokeh: ERROR: Unable to run BokehJS code because BokehJS library is missing\");\n",
       "        }\n",
       "      }\n",
       "    }, 10, root)\n",
       "  }\n",
       "})(window);"
      ],
      "application/vnd.bokehjs_exec.v0+json": ""
     },
     "metadata": {
      "application/vnd.bokehjs_exec.v0+json": {
       "id": "1052"
      }
     },
     "output_type": "display_data"
    }
   ],
   "source": [
    "if report:\n",
    "    text =  \"\"\"The following table gives a summary about the training job. The table includes information about when the training job started and ended, how much time initialization, training loop and finalization took.\"\"\"\n",
    "    if len(job_statistics) > 0:\n",
    "        df = pd.DataFrame.from_dict(job_statistics, orient='index')\n",
    "        start_time = us_since_epoch_to_human_readable_time(report['Details']['job_start'] * 1000000)\n",
    "        date = datetime.datetime.strptime(start_time, '%Y-%m-%dT%H:%M:%S:%f')\n",
    "        day = date.date().strftime(\"%m/%d/%Y\")\n",
    "        hour = date.time().strftime(\"%H:%M:%S\")\n",
    "        duration = job_duration_in_seconds\n",
    "        text = f\"\"\"{text} \\n Your training job started on {day} at {hour} and ran for {duration} seconds.\"\"\"\n",
    "\n",
    "        #pretty_print(df)\n",
    "        if \"first\" in report['Details'][\"step_num\"] and \"last\" in report['Details'][\"step_num\"]:\n",
    "            if finalization_perc  < 0:\n",
    "                job_statistics[\"Finalization%\"]  = 0\n",
    "            if training_loop_perc < 0:\n",
    "                job_statistics[\"Training loop\"] = 0\n",
    "            if initialization_perc < 0:\n",
    "                job_statistics[\"Initialization\"] = 0\n",
    "        else:\n",
    "            text = f\"\"\"{text} \\n Your training job started on {day} at {hour} and ran for {duration} seconds.\"\"\"\n",
    "            \n",
    "    if len(job_statistics) > 0:\n",
    "        df2 = df.reset_index()\n",
    "        df2.columns = [\"0\", \"1\"]\n",
    "        source = ColumnDataSource(data=df2)\n",
    "        columns = [TableColumn(field='0', title=\"\"),\n",
    "                   TableColumn(field='1', title=\"Job Statistics\"),]\n",
    "        table = DataTable(source=source, columns=columns, width=450, height=380)\n",
    "\n",
    "    plot = None\n",
    "\n",
    "    if \"Initialization\" in job_statistics:\n",
    "        piechart_data = {}\n",
    "        piechart_data[\"Initialization\"] = initialization_perc  \n",
    "        piechart_data[\"Training loop\"]  = training_loop_perc\n",
    "        piechart_data[\"Finalization\"]  = finalization_perc \n",
    "\n",
    "        plot = create_piechart(piechart_data, \n",
    "                               height=350,\n",
    "                               width=500,\n",
    "                               x1=0.15,\n",
    "                               x2=0.15,\n",
    "                               radius=0.15, \n",
    "                               toolbar_location=None)\n",
    "\n",
    "    if plot != None:\n",
    "        paragraph = Paragraph(text=f\"\"\"{text}\"\"\", width = 800)\n",
    "        show(column(paragraph, row(table, plot)))\n",
    "    else:\n",
    "        paragraph = Paragraph(text=f\"\"\"{text}. No step information was profiled from your training job. The time spent on initialization and finalization cannot be computed.\"\"\" , width = 800)\n",
    "        show(column(paragraph, row(table)))"
   ]
  },
  {
   "cell_type": "markdown",
   "metadata": {
    "papermill": {
     "duration": 0.019846,
     "end_time": "2025-07-04T00:04:13.557651",
     "exception": false,
     "start_time": "2025-07-04T00:04:13.537805",
     "status": "completed"
    },
    "tags": []
   },
   "source": [
    "## System usage statistics"
   ]
  },
  {
   "cell_type": "code",
   "execution_count": 11,
   "metadata": {
    "execution": {
     "iopub.execute_input": "2025-07-04T00:04:13.600630Z",
     "iopub.status.busy": "2025-07-04T00:04:13.600157Z",
     "iopub.status.idle": "2025-07-04T00:04:13.602606Z",
     "shell.execute_reply": "2025-07-04T00:04:13.602195Z"
    },
    "papermill": {
     "duration": 0.025169,
     "end_time": "2025-07-04T00:04:13.602699",
     "exception": false,
     "start_time": "2025-07-04T00:04:13.577530",
     "status": "completed"
    },
    "tags": [
     "hide-input"
    ]
   },
   "outputs": [],
   "source": [
    "report = load_report('OverallSystemUsage')"
   ]
  },
  {
   "cell_type": "code",
   "execution_count": 12,
   "metadata": {
    "execution": {
     "iopub.execute_input": "2025-07-04T00:04:13.650509Z",
     "iopub.status.busy": "2025-07-04T00:04:13.644897Z",
     "iopub.status.idle": "2025-07-04T00:04:13.652200Z",
     "shell.execute_reply": "2025-07-04T00:04:13.652583Z"
    },
    "papermill": {
     "duration": 0.030037,
     "end_time": "2025-07-04T00:04:13.652690",
     "exception": false,
     "start_time": "2025-07-04T00:04:13.622653",
     "status": "completed"
    },
    "tags": [
     "hide-input"
    ]
   },
   "outputs": [],
   "source": [
    "text1 = ''\n",
    "if report:\n",
    "    if \"GPU\" in report[\"Details\"]:\n",
    "        for node_id in report[\"Details\"][\"GPU\"]:\n",
    "            gpu_p95 = report[\"Details\"][\"GPU\"][node_id][\"p95\"]\n",
    "            gpu_p50 = report[\"Details\"][\"GPU\"][node_id][\"p50\"]\n",
    "            cpu_p95 = report[\"Details\"][\"CPU\"][node_id][\"p95\"]\n",
    "            cpu_p50 = report[\"Details\"][\"CPU\"][node_id][\"p50\"]\n",
    "            \n",
    "            if gpu_p95 < 70 and cpu_p95 < 70:\n",
    "                text1 = f\"\"\"{text1}The 95th percentile of the total GPU utilization on node {node_id} is only {int(gpu_p95)}%. \n",
    "                The 95th percentile of the total CPU utilization is only {int(cpu_p95)}%. Node {node_id} is underutilized. \n",
    "                You may want to consider switching to a smaller instance type.\"\"\"\n",
    "            elif gpu_p95 < 70 and cpu_p95 > 70:\n",
    "                text1 = f\"\"\"{text1}The 95th percentile of the total GPU utilization on node {node_id} is only {int(gpu_p95)}%. \n",
    "                However, the 95th percentile of the total CPU utilization is {int(cpu_p95)}%. GPUs on node {node_id} are underutilized, \n",
    "                likely because of CPU bottlenecks.\"\"\"\n",
    "            elif gpu_p50 > 70:\n",
    "                text1 = f\"\"\"{text1}The median total GPU utilization on node {node_id} is {int(gpu_p50)}%. \n",
    "                GPUs on node {node_id} are well utilized.\"\"\"\n",
    "            else:\n",
    "                text1 = f\"\"\"{text1}The median total GPU utilization on node {node_id} is {int(gpu_p50)}%. \n",
    "                The median total CPU utilization is {int(cpu_p50)}%.\"\"\"\n",
    "    else:\n",
    "        for node_id in report[\"Details\"][\"CPU\"]:\n",
    "            cpu_p95 = report[\"Details\"][\"CPU\"][node_id][\"p95\"]\n",
    "            if cpu_p95 > 70:\n",
    "                text1 = f\"\"\"{text1}The 95th percentile of the total CPU utilization on node {node_id} is {int**(cpu_p95)}%. CPUs on node {node_id} are well utilized.\"\"\"\n",
    "    text1 = Paragraph(text=f\"\"\"{text1}\"\"\", width=1100)\n",
    "    text2 = Paragraph(text=f\"\"\"The following table shows statistics of resource utilization per worker (node), \n",
    "    such as the total CPU and GPU utilization, and the memory utilization on CPU and GPU. \n",
    "    The table also includes the total I/O wait time and the total amount of data sent or received in bytes.\n",
    "    The table shows min and max values as well as p99, p90 and p50 percentiles.\"\"\", width=900)\n"
   ]
  },
  {
   "cell_type": "code",
   "execution_count": 13,
   "metadata": {
    "execution": {
     "iopub.execute_input": "2025-07-04T00:04:13.700945Z",
     "iopub.status.busy": "2025-07-04T00:04:13.699905Z",
     "iopub.status.idle": "2025-07-04T00:04:13.721287Z",
     "shell.execute_reply": "2025-07-04T00:04:13.721679Z"
    },
    "papermill": {
     "duration": 0.048915,
     "end_time": "2025-07-04T00:04:13.721788",
     "exception": false,
     "start_time": "2025-07-04T00:04:13.672873",
     "status": "completed"
    },
    "tags": [
     "hide-input"
    ]
   },
   "outputs": [
    {
     "data": {
      "text/html": [
       "\n",
       "\n",
       "\n",
       "\n",
       "\n",
       "\n",
       "  <div class=\"bk-root\" id=\"bfa4ef0c-f165-4dd7-9ca3-bca06f5d737d\" data-root-id=\"1145\"></div>\n"
      ]
     },
     "metadata": {},
     "output_type": "display_data"
    },
    {
     "data": {
      "application/javascript": [
       "(function(root) {\n",
       "  function embed_document(root) {\n",
       "    \n",
       "  var docs_json = {\"7b946f48-5e83-4989-abb5-6e11bf535ae6\":{\"roots\":{\"references\":[{\"attributes\":{\"children\":[{\"id\":\"1131\"},{\"id\":\"1132\"},{\"id\":\"1144\"}]},\"id\":\"1145\",\"type\":\"Column\"},{\"attributes\":{\"editor\":{\"id\":\"1176\"},\"field\":\"min\",\"formatter\":{\"id\":\"1175\"},\"title\":\"min\"},\"id\":\"1141\",\"type\":\"TableColumn\"},{\"attributes\":{},\"id\":\"1175\",\"type\":\"StringFormatter\"},{\"attributes\":{},\"id\":\"1171\",\"type\":\"StringFormatter\"},{\"attributes\":{\"source\":{\"id\":\"1133\"}},\"id\":\"1143\",\"type\":\"CDSView\"},{\"attributes\":{},\"id\":\"1160\",\"type\":\"Selection\"},{\"attributes\":{},\"id\":\"1168\",\"type\":\"StringEditor\"},{\"attributes\":{},\"id\":\"1169\",\"type\":\"StringFormatter\"},{\"attributes\":{},\"id\":\"1173\",\"type\":\"StringFormatter\"},{\"attributes\":{\"columns\":[{\"id\":\"1134\"},{\"id\":\"1135\"},{\"id\":\"1136\"},{\"id\":\"1137\"},{\"id\":\"1138\"},{\"id\":\"1139\"},{\"id\":\"1140\"},{\"id\":\"1141\"}],\"height\":180,\"source\":{\"id\":\"1133\"},\"view\":{\"id\":\"1143\"},\"width\":800},\"id\":\"1142\",\"type\":\"DataTable\"},{\"attributes\":{\"children\":[{\"id\":\"1142\"}]},\"id\":\"1144\",\"type\":\"Row\"},{\"attributes\":{},\"id\":\"1162\",\"type\":\"StringEditor\"},{\"attributes\":{},\"id\":\"1170\",\"type\":\"StringEditor\"},{\"attributes\":{},\"id\":\"1176\",\"type\":\"StringEditor\"},{\"attributes\":{},\"id\":\"1174\",\"type\":\"StringEditor\"},{\"attributes\":{},\"id\":\"1172\",\"type\":\"StringEditor\"},{\"attributes\":{},\"id\":\"1165\",\"type\":\"StringFormatter\"},{\"attributes\":{\"editor\":{\"id\":\"1164\"},\"field\":\"metric\",\"formatter\":{\"id\":\"1163\"},\"title\":\"metric\"},\"id\":\"1135\",\"type\":\"TableColumn\"},{\"attributes\":{\"editor\":{\"id\":\"1168\"},\"field\":\"max\",\"formatter\":{\"id\":\"1167\"},\"title\":\"max\"},\"id\":\"1137\",\"type\":\"TableColumn\"},{\"attributes\":{},\"id\":\"1163\",\"type\":\"StringFormatter\"},{\"attributes\":{},\"id\":\"1167\",\"type\":\"StringFormatter\"},{\"attributes\":{},\"id\":\"1164\",\"type\":\"StringEditor\"},{\"attributes\":{},\"id\":\"1159\",\"type\":\"UnionRenderers\"},{\"attributes\":{},\"id\":\"1166\",\"type\":\"StringEditor\"},{\"attributes\":{\"text\":\"The 95th percentile of the total GPU utilization on node algo-1 is only 54%. \\n                The 95th percentile of the total CPU utilization is only 33%. Node algo-1 is underutilized. \\n                You may want to consider switching to a smaller instance type.\",\"width\":1100},\"id\":\"1131\",\"type\":\"Paragraph\"},{\"attributes\":{\"data\":{\"Node\":[\"algo-1\",\"algo-1\",\"algo-1\",\"algo-1\",\"algo-1\",\"algo-1\"],\"index\":[0,1,2,3,4,5],\"level_0\":[0,1,2,3,4,5],\"max\":{\"__ndarray__\":\"AAAAvS4JkUEAAAAAAIBLQFK4HoXr8VVA7FG4HoXrJUAAAAAAAABDQI/C9ShcDy9A\",\"dtype\":\"float64\",\"order\":\"little\",\"shape\":[6]},\"metric\":[\"Network\",\"GPU\",\"CPU\",\"CPU memory\",\"GPU memory\",\"I/O\"],\"min\":{\"__ndarray__\":\"AAAAAAAAAAAAAAAAAAAAAAAAAAAAAAAAmpmZmZmZ9T8AAAAAAAAAAAAAAAAAAAAA\",\"dtype\":\"float64\",\"order\":\"little\",\"shape\":[6]},\"p50\":{\"__ndarray__\":\"AAAAAAAAAAAAAAAAAAAUQMP1KFyPQjRASOF6FK7HIEAAAAAAAAAIQAAAAAAAAAAA\",\"dtype\":\"float64\",\"order\":\"little\",\"shape\":[6]},\"p95\":{\"__ndarray__\":\"AAAAAAAAAAAAAAAAAABLQHsUrkfhukBAcT0K16NwJEAAAAAAAABDQFyPwvUoXCJA\",\"dtype\":\"float64\",\"order\":\"little\",\"shape\":[6]},\"p99\":{\"__ndarray__\":\"AAAAAAAAAAAAAAAAAABLQKRwPQrXc1BAMzMzMzOzJEAAAAAAAABDQMP1KFyPwiVA\",\"dtype\":\"float64\",\"order\":\"little\",\"shape\":[6]},\"unit\":[\"bytes\",\"percentage\",\"percentage\",\"percentage\",\"percentage\",\"percentage\"]},\"selected\":{\"id\":\"1160\"},\"selection_policy\":{\"id\":\"1159\"}},\"id\":\"1133\",\"type\":\"ColumnDataSource\"},{\"attributes\":{\"text\":\"The following table shows statistics of resource utilization per worker (node), \\n    such as the total CPU and GPU utilization, and the memory utilization on CPU and GPU. \\n    The table also includes the total I/O wait time and the total amount of data sent or received in bytes.\\n    The table shows min and max values as well as p99, p90 and p50 percentiles.\",\"width\":900},\"id\":\"1132\",\"type\":\"Paragraph\"},{\"attributes\":{\"editor\":{\"id\":\"1170\"},\"field\":\"p99\",\"formatter\":{\"id\":\"1169\"},\"title\":\"p99\"},\"id\":\"1138\",\"type\":\"TableColumn\"},{\"attributes\":{\"editor\":{\"id\":\"1162\"},\"field\":\"Node\",\"formatter\":{\"id\":\"1161\"},\"title\":\"node\"},\"id\":\"1134\",\"type\":\"TableColumn\"},{\"attributes\":{\"editor\":{\"id\":\"1172\"},\"field\":\"p95\",\"formatter\":{\"id\":\"1171\"},\"title\":\"p95\"},\"id\":\"1139\",\"type\":\"TableColumn\"},{\"attributes\":{\"editor\":{\"id\":\"1174\"},\"field\":\"p50\",\"formatter\":{\"id\":\"1173\"},\"title\":\"p50\"},\"id\":\"1140\",\"type\":\"TableColumn\"},{\"attributes\":{},\"id\":\"1161\",\"type\":\"StringFormatter\"},{\"attributes\":{\"editor\":{\"id\":\"1166\"},\"field\":\"unit\",\"formatter\":{\"id\":\"1165\"},\"title\":\"unit\"},\"id\":\"1136\",\"type\":\"TableColumn\"}],\"root_ids\":[\"1145\"]},\"title\":\"Bokeh Application\",\"version\":\"2.2.3\"}};\n",
       "  var render_items = [{\"docid\":\"7b946f48-5e83-4989-abb5-6e11bf535ae6\",\"root_ids\":[\"1145\"],\"roots\":{\"1145\":\"bfa4ef0c-f165-4dd7-9ca3-bca06f5d737d\"}}];\n",
       "  root.Bokeh.embed.embed_items_notebook(docs_json, render_items);\n",
       "\n",
       "  }\n",
       "  if (root.Bokeh !== undefined) {\n",
       "    embed_document(root);\n",
       "  } else {\n",
       "    var attempts = 0;\n",
       "    var timer = setInterval(function(root) {\n",
       "      if (root.Bokeh !== undefined) {\n",
       "        clearInterval(timer);\n",
       "        embed_document(root);\n",
       "      } else {\n",
       "        attempts++;\n",
       "        if (attempts > 100) {\n",
       "          clearInterval(timer);\n",
       "          console.log(\"Bokeh: ERROR: Unable to run BokehJS code because BokehJS library is missing\");\n",
       "        }\n",
       "      }\n",
       "    }, 10, root)\n",
       "  }\n",
       "})(window);"
      ],
      "application/vnd.bokehjs_exec.v0+json": ""
     },
     "metadata": {
      "application/vnd.bokehjs_exec.v0+json": {
       "id": "1145"
      }
     },
     "output_type": "display_data"
    }
   ],
   "source": [
    "pd.set_option('display.float_format', lambda x: '%.2f' % x)\n",
    "rows = [] \n",
    "units = {\"CPU\": \"percentage\", \"CPU memory\": \"percentage\", \"GPU\": \"percentage\", \"Network\": \"bytes\", \"GPU memory\": \"percentage\", \"I/O\": \"percentage\"}\n",
    "if report:\n",
    "    for metric in report['Details']:\n",
    "        for node_id in report['Details'][metric]:\n",
    "            values = report['Details'][metric][node_id]\n",
    "            rows.append([node_id, metric, units[metric], values['max'], values['p99'], values['p95'], values['p50'], values['min']])\n",
    "\n",
    "    df = pd.DataFrame(rows) \n",
    "    df.columns = ['Node', 'metric', 'unit', 'max', 'p99', 'p95', 'p50', 'min']\n",
    "    df2 = df.reset_index()\n",
    "    source = ColumnDataSource(data=df2)\n",
    "    columns = [TableColumn(field='Node', title=\"node\"),\n",
    "               TableColumn(field='metric', title=\"metric\"),\n",
    "               TableColumn(field='unit', title=\"unit\"),\n",
    "               TableColumn(field='max', title=\"max\"),\n",
    "               TableColumn(field='p99', title=\"p99\"),\n",
    "               TableColumn(field='p95', title=\"p95\"),\n",
    "               TableColumn(field='p50', title=\"p50\"),\n",
    "               TableColumn(field='min', title=\"min\"),]\n",
    "    table = DataTable(source=source, columns=columns, width=800, height=df2.shape[0]*30)\n",
    "\n",
    "    show(column( text1, text2, row(table)))"
   ]
  },
  {
   "cell_type": "code",
   "execution_count": 14,
   "metadata": {
    "execution": {
     "iopub.execute_input": "2025-07-04T00:04:13.779195Z",
     "iopub.status.busy": "2025-07-04T00:04:13.775919Z",
     "iopub.status.idle": "2025-07-04T00:04:13.865252Z",
     "shell.execute_reply": "2025-07-04T00:04:13.865673Z"
    },
    "papermill": {
     "duration": 0.123143,
     "end_time": "2025-07-04T00:04:13.865784",
     "exception": false,
     "start_time": "2025-07-04T00:04:13.742641",
     "status": "completed"
    },
    "tags": [
     "hide-input"
    ]
   },
   "outputs": [
    {
     "data": {
      "text/markdown": [
       "## Framework metrics summary"
      ],
      "text/plain": [
       "<IPython.core.display.Markdown object>"
      ]
     },
     "metadata": {},
     "output_type": "display_data"
    },
    {
     "data": {
      "text/html": [
       "\n",
       "\n",
       "\n",
       "\n",
       "\n",
       "\n",
       "  <div class=\"bk-root\" id=\"5b581142-6d30-4aa4-9aff-2b1848ce7bfe\" data-root-id=\"1314\"></div>\n"
      ]
     },
     "metadata": {},
     "output_type": "display_data"
    },
    {
     "data": {
      "application/javascript": [
       "(function(root) {\n",
       "  function embed_document(root) {\n",
       "    \n",
       "  var docs_json = {\"9dcec875-ca55-4b9a-92da-4395527e5da7\":{\"roots\":{\"references\":[{\"attributes\":{\"children\":[{\"id\":\"1312\"},{\"id\":\"1313\"}]},\"id\":\"1314\",\"type\":\"Column\"},{\"attributes\":{},\"id\":\"1279\",\"type\":\"BasicTicker\"},{\"attributes\":{\"axis\":{\"id\":\"1278\"},\"grid_line_color\":null,\"ticker\":null},\"id\":\"1281\",\"type\":\"Grid\"},{\"attributes\":{},\"id\":\"1309\",\"type\":\"Selection\"},{\"attributes\":{\"end\":0.8999999999999999,\"start\":-0.5},\"id\":\"1270\",\"type\":\"Range1d\"},{\"attributes\":{},\"id\":\"1283\",\"type\":\"BasicTicker\"},{\"attributes\":{\"text\":\"The following two pie charts show the time spent on the TRAIN phase, the EVAL phase, \\n            and others. The 'others' includes the time spent between steps (after one step has finished and before\\n            the next step has started). Ideally, most of the training time should be spent on the \\n            TRAIN and EVAL phases. If TRAIN/EVAL were not specified in the training script, steps will be recorded as \\n            GLOBAL. Your training job spent quite a significant amount of time (77.48%) in phase \\\"others\\\".\\n                    You should check what is happening in between the steps.\",\"width\":1100},\"id\":\"1312\",\"type\":\"Paragraph\"},{\"attributes\":{\"field\":\"angle\"},\"id\":\"1296\",\"type\":\"CumSum\"},{\"attributes\":{\"axis\":{\"id\":\"1282\"},\"dimension\":1,\"grid_line_color\":null,\"ticker\":null},\"id\":\"1285\",\"type\":\"Grid\"},{\"attributes\":{\"axis_label\":null,\"formatter\":{\"id\":\"1304\"},\"ticker\":{\"id\":\"1283\"},\"visible\":false},\"id\":\"1282\",\"type\":\"LinearAxis\"},{\"attributes\":{\"text\":\"The ratio between the time spent on the TRAIN/EVAL phase and others\"},\"id\":\"1268\",\"type\":\"Title\"},{\"attributes\":{\"active_drag\":\"auto\",\"active_inspect\":\"auto\",\"active_multi\":null,\"active_scroll\":\"auto\",\"active_tap\":\"auto\",\"tools\":[{\"id\":\"1286\"},{\"id\":\"1287\"},{\"id\":\"1288\"},{\"id\":\"1289\"}]},\"id\":\"1290\",\"type\":\"Toolbar\"},{\"attributes\":{\"children\":[{\"id\":\"1267\"}]},\"id\":\"1313\",\"type\":\"Row\"},{\"attributes\":{},\"id\":\"1306\",\"type\":\"BasicTickFormatter\"},{\"attributes\":{\"label\":{\"field\":\"phase\"},\"renderers\":[{\"id\":\"1301\"}]},\"id\":\"1311\",\"type\":\"LegendItem\"},{\"attributes\":{\"end_angle\":{\"expr\":{\"id\":\"1296\"},\"units\":\"rad\"},\"fill_color\":{\"field\":\"color\"},\"line_color\":{\"value\":\"white\"},\"radius\":{\"units\":\"data\",\"value\":0.3},\"start_angle\":{\"expr\":{\"id\":\"1295\"},\"units\":\"rad\"},\"x\":{\"value\":0},\"y\":{\"value\":0.0}},\"id\":\"1299\",\"type\":\"Wedge\"},{\"attributes\":{\"callback\":null,\"tooltips\":\"@phase:@value\"},\"id\":\"1286\",\"type\":\"HoverTool\"},{\"attributes\":{},\"id\":\"1287\",\"type\":\"WheelZoomTool\"},{\"attributes\":{},\"id\":\"1304\",\"type\":\"BasicTickFormatter\"},{\"attributes\":{},\"id\":\"1288\",\"type\":\"ResetTool\"},{\"attributes\":{\"below\":[{\"id\":\"1278\"}],\"center\":[{\"id\":\"1281\"},{\"id\":\"1285\"},{\"id\":\"1310\"}],\"left\":[{\"id\":\"1282\"}],\"outline_line_color\":\"white\",\"plot_height\":350,\"renderers\":[{\"id\":\"1301\"}],\"title\":{\"id\":\"1268\"},\"toolbar\":{\"id\":\"1290\"},\"x_range\":{\"id\":\"1270\"},\"x_scale\":{\"id\":\"1274\"},\"y_range\":{\"id\":\"1272\"},\"y_scale\":{\"id\":\"1276\"}},\"id\":\"1267\",\"subtype\":\"Figure\",\"type\":\"Plot\"},{\"attributes\":{\"data_source\":{\"id\":\"1297\"},\"glyph\":{\"id\":\"1299\"},\"hover_glyph\":null,\"muted_glyph\":null,\"nonselection_glyph\":{\"id\":\"1300\"},\"selection_glyph\":null,\"view\":{\"id\":\"1302\"}},\"id\":\"1301\",\"type\":\"GlyphRenderer\"},{\"attributes\":{},\"id\":\"1289\",\"type\":\"PanTool\"},{\"attributes\":{\"items\":[{\"id\":\"1311\"}],\"label_text_font_size\":\"8pt\",\"location\":\"center_right\"},\"id\":\"1310\",\"type\":\"Legend\"},{\"attributes\":{},\"id\":\"1308\",\"type\":\"UnionRenderers\"},{\"attributes\":{\"axis_label\":null,\"formatter\":{\"id\":\"1306\"},\"ticker\":{\"id\":\"1279\"},\"visible\":false},\"id\":\"1278\",\"type\":\"LinearAxis\"},{\"attributes\":{\"field\":\"angle\",\"include_zero\":true},\"id\":\"1295\",\"type\":\"CumSum\"},{\"attributes\":{},\"id\":\"1272\",\"type\":\"DataRange1d\"},{\"attributes\":{\"data\":{\"angle\":{\"__ndarray__\":\"pElAbOu+8j8l1AoM9HgTQDvRKKWNKc8/\",\"dtype\":\"float64\",\"order\":\"little\",\"shape\":[3]},\"color\":[\"#440154\",\"#208F8C\",\"#FDE724\"],\"index\":[0,1,2],\"phase\":[\"Step:ModeKeys.TRAIN\",\"others\",\"Step:ModeKeys.EVAL\"],\"value\":{\"__ndarray__\":\"IAS52JKlMkDAha/vn15TQA0nR0Rr/w5A\",\"dtype\":\"float64\",\"order\":\"little\",\"shape\":[3]}},\"selected\":{\"id\":\"1309\"},\"selection_policy\":{\"id\":\"1308\"}},\"id\":\"1297\",\"type\":\"ColumnDataSource\"},{\"attributes\":{\"end_angle\":{\"expr\":{\"id\":\"1296\"},\"units\":\"rad\"},\"fill_alpha\":{\"value\":0.1},\"fill_color\":{\"field\":\"color\"},\"line_alpha\":{\"value\":0.1},\"line_color\":{\"value\":\"white\"},\"radius\":{\"units\":\"data\",\"value\":0.3},\"start_angle\":{\"expr\":{\"id\":\"1295\"},\"units\":\"rad\"},\"x\":{\"value\":0},\"y\":{\"value\":0.0}},\"id\":\"1300\",\"type\":\"Wedge\"},{\"attributes\":{},\"id\":\"1274\",\"type\":\"LinearScale\"},{\"attributes\":{\"source\":{\"id\":\"1297\"}},\"id\":\"1302\",\"type\":\"CDSView\"},{\"attributes\":{},\"id\":\"1276\",\"type\":\"LinearScale\"}],\"root_ids\":[\"1314\"]},\"title\":\"Bokeh Application\",\"version\":\"2.2.3\"}};\n",
       "  var render_items = [{\"docid\":\"9dcec875-ca55-4b9a-92da-4395527e5da7\",\"root_ids\":[\"1314\"],\"roots\":{\"1314\":\"5b581142-6d30-4aa4-9aff-2b1848ce7bfe\"}}];\n",
       "  root.Bokeh.embed.embed_items_notebook(docs_json, render_items);\n",
       "\n",
       "  }\n",
       "  if (root.Bokeh !== undefined) {\n",
       "    embed_document(root);\n",
       "  } else {\n",
       "    var attempts = 0;\n",
       "    var timer = setInterval(function(root) {\n",
       "      if (root.Bokeh !== undefined) {\n",
       "        clearInterval(timer);\n",
       "        embed_document(root);\n",
       "      } else {\n",
       "        attempts++;\n",
       "        if (attempts > 100) {\n",
       "          clearInterval(timer);\n",
       "          console.log(\"Bokeh: ERROR: Unable to run BokehJS code because BokehJS library is missing\");\n",
       "        }\n",
       "      }\n",
       "    }, 10, root)\n",
       "  }\n",
       "})(window);"
      ],
      "application/vnd.bokehjs_exec.v0+json": ""
     },
     "metadata": {
      "application/vnd.bokehjs_exec.v0+json": {
       "id": "1314"
      }
     },
     "output_type": "display_data"
    },
    {
     "data": {
      "text/html": [
       "\n",
       "\n",
       "\n",
       "\n",
       "\n",
       "\n",
       "  <div class=\"bk-root\" id=\"62ea8032-7a41-4cd9-ae56-465279ae0827\" data-root-id=\"1480\"></div>\n"
      ]
     },
     "metadata": {},
     "output_type": "display_data"
    },
    {
     "data": {
      "application/javascript": [
       "(function(root) {\n",
       "  function embed_document(root) {\n",
       "    \n",
       "  var docs_json = {\"deacece8-ab68-4ee5-8315-692f7c85e68c\":{\"roots\":{\"references\":[{\"attributes\":{\"children\":[{\"id\":\"1478\"},{\"id\":\"1479\"}]},\"id\":\"1480\",\"type\":\"Column\"},{\"attributes\":{\"field\":\"angle\"},\"id\":\"1462\",\"type\":\"CumSum\"},{\"attributes\":{},\"id\":\"1440\",\"type\":\"LinearScale\"},{\"attributes\":{\"end_angle\":{\"expr\":{\"id\":\"1462\"},\"units\":\"rad\"},\"fill_color\":{\"field\":\"color\"},\"line_color\":{\"value\":\"white\"},\"radius\":{\"units\":\"data\",\"value\":0.3},\"start_angle\":{\"expr\":{\"id\":\"1461\"},\"units\":\"rad\"},\"x\":{\"value\":0},\"y\":{\"value\":0.0}},\"id\":\"1465\",\"type\":\"Wedge\"},{\"attributes\":{},\"id\":\"1453\",\"type\":\"WheelZoomTool\"},{\"attributes\":{},\"id\":\"1400\",\"type\":\"BasicTicker\"},{\"attributes\":{},\"id\":\"1454\",\"type\":\"ResetTool\"},{\"attributes\":{},\"id\":\"1429\",\"type\":\"UnionRenderers\"},{\"attributes\":{\"axis_label\":null,\"formatter\":{\"id\":\"1425\"},\"ticker\":{\"id\":\"1404\"},\"visible\":false},\"id\":\"1403\",\"type\":\"LinearAxis\"},{\"attributes\":{},\"id\":\"1425\",\"type\":\"BasicTickFormatter\"},{\"attributes\":{\"field\":\"angle\",\"include_zero\":true},\"id\":\"1416\",\"type\":\"CumSum\"},{\"attributes\":{\"axis\":{\"id\":\"1403\"},\"dimension\":1,\"grid_line_color\":null,\"ticker\":null},\"id\":\"1406\",\"type\":\"Grid\"},{\"attributes\":{\"end_angle\":{\"expr\":{\"id\":\"1417\"},\"units\":\"rad\"},\"fill_alpha\":{\"value\":0.1},\"fill_color\":{\"field\":\"color\"},\"line_alpha\":{\"value\":0.1},\"line_color\":{\"value\":\"white\"},\"radius\":{\"units\":\"data\",\"value\":0.3},\"start_angle\":{\"expr\":{\"id\":\"1416\"},\"units\":\"rad\"},\"x\":{\"value\":0},\"y\":{\"value\":0.0}},\"id\":\"1421\",\"type\":\"Wedge\"},{\"attributes\":{},\"id\":\"1427\",\"type\":\"BasicTickFormatter\"},{\"attributes\":{},\"id\":\"1455\",\"type\":\"PanTool\"},{\"attributes\":{\"end\":0.8999999999999999,\"start\":-0.5},\"id\":\"1391\",\"type\":\"Range1d\"},{\"attributes\":{\"below\":[{\"id\":\"1444\"}],\"center\":[{\"id\":\"1447\"},{\"id\":\"1451\"},{\"id\":\"1476\"}],\"left\":[{\"id\":\"1448\"}],\"outline_line_color\":\"white\",\"plot_height\":350,\"renderers\":[{\"id\":\"1467\"}],\"title\":{\"id\":\"1434\"},\"toolbar\":{\"id\":\"1456\"},\"x_range\":{\"id\":\"1436\"},\"x_scale\":{\"id\":\"1440\"},\"y_range\":{\"id\":\"1438\"},\"y_scale\":{\"id\":\"1442\"}},\"id\":\"1433\",\"subtype\":\"Figure\",\"type\":\"Plot\"},{\"attributes\":{},\"id\":\"1430\",\"type\":\"Selection\"},{\"attributes\":{\"axis\":{\"id\":\"1399\"},\"grid_line_color\":null,\"ticker\":null},\"id\":\"1402\",\"type\":\"Grid\"},{\"attributes\":{\"end\":0.8999999999999999,\"start\":-0.5},\"id\":\"1436\",\"type\":\"Range1d\"},{\"attributes\":{\"data_source\":{\"id\":\"1463\"},\"glyph\":{\"id\":\"1465\"},\"hover_glyph\":null,\"muted_glyph\":null,\"nonselection_glyph\":{\"id\":\"1466\"},\"selection_glyph\":null,\"view\":{\"id\":\"1468\"}},\"id\":\"1467\",\"type\":\"GlyphRenderer\"},{\"attributes\":{\"text\":\"General framework operations\"},\"id\":\"1434\",\"type\":\"Title\"},{\"attributes\":{\"label\":{\"field\":\"phase\"},\"renderers\":[{\"id\":\"1422\"}]},\"id\":\"1432\",\"type\":\"LegendItem\"},{\"attributes\":{},\"id\":\"1438\",\"type\":\"DataRange1d\"},{\"attributes\":{\"items\":[{\"id\":\"1477\"}],\"label_text_font_size\":\"8pt\",\"location\":\"center_right\"},\"id\":\"1476\",\"type\":\"Legend\"},{\"attributes\":{\"field\":\"angle\"},\"id\":\"1417\",\"type\":\"CumSum\"},{\"attributes\":{\"data\":{\"angle\":{\"__ndarray__\":\"K1ucPA00CUAF/+tr6Q8JQA==\",\"dtype\":\"float64\",\"order\":\"little\",\"shape\":[2]},\"color\":[\"#440154\",\"#FDE724\"],\"index\":[0,1],\"phase\":[\"gpu_functions-dev:0\",\"cpu_functions\"],\"value\":{\"__ndarray__\":\"8DiyefkRSUAQx02GBu5IQA==\",\"dtype\":\"float64\",\"order\":\"little\",\"shape\":[2]}},\"selected\":{\"id\":\"1430\"},\"selection_policy\":{\"id\":\"1429\"}},\"id\":\"1418\",\"type\":\"ColumnDataSource\"},{\"attributes\":{\"source\":{\"id\":\"1418\"}},\"id\":\"1423\",\"type\":\"CDSView\"},{\"attributes\":{},\"id\":\"1470\",\"type\":\"BasicTickFormatter\"},{\"attributes\":{},\"id\":\"1395\",\"type\":\"LinearScale\"},{\"attributes\":{},\"id\":\"1472\",\"type\":\"BasicTickFormatter\"},{\"attributes\":{},\"id\":\"1408\",\"type\":\"WheelZoomTool\"},{\"attributes\":{\"field\":\"angle\",\"include_zero\":true},\"id\":\"1461\",\"type\":\"CumSum\"},{\"attributes\":{\"text\":\"The ratio between the time spent on CPU/GPU operators\"},\"id\":\"1389\",\"type\":\"Title\"},{\"attributes\":{\"end_angle\":{\"expr\":{\"id\":\"1462\"},\"units\":\"rad\"},\"fill_alpha\":{\"value\":0.1},\"fill_color\":{\"field\":\"color\"},\"line_alpha\":{\"value\":0.1},\"line_color\":{\"value\":\"white\"},\"radius\":{\"units\":\"data\",\"value\":0.3},\"start_angle\":{\"expr\":{\"id\":\"1461\"},\"units\":\"rad\"},\"x\":{\"value\":0},\"y\":{\"value\":0.0}},\"id\":\"1466\",\"type\":\"Wedge\"},{\"attributes\":{\"label\":{\"field\":\"phase\"},\"renderers\":[{\"id\":\"1467\"}]},\"id\":\"1477\",\"type\":\"LegendItem\"},{\"attributes\":{},\"id\":\"1442\",\"type\":\"LinearScale\"},{\"attributes\":{\"end_angle\":{\"expr\":{\"id\":\"1417\"},\"units\":\"rad\"},\"fill_color\":{\"field\":\"color\"},\"line_color\":{\"value\":\"white\"},\"radius\":{\"units\":\"data\",\"value\":0.3},\"start_angle\":{\"expr\":{\"id\":\"1416\"},\"units\":\"rad\"},\"x\":{\"value\":0},\"y\":{\"value\":0.0}},\"id\":\"1420\",\"type\":\"Wedge\"},{\"attributes\":{\"callback\":null,\"tooltips\":\"@phase:@value\"},\"id\":\"1407\",\"type\":\"HoverTool\"},{\"attributes\":{\"data\":{\"angle\":{\"__ndarray__\":\"vpqFhVS1HT90TspogqOQP0Tdhhw6ERlA\",\"dtype\":\"float64\",\"order\":\"little\",\"shape\":[3]},\"color\":[\"#440154\",\"#208F8C\",\"#FDE724\"],\"index\":[0,1,2],\"phase\":[\"DataLoaderIterInitialize\",\"DataLoaderIter\",\"Forward\"],\"value\":{\"__ndarray__\":\"qzo2bCmNXT/ieS4qA43QP1BlrG9V71hA\",\"dtype\":\"float64\",\"order\":\"little\",\"shape\":[3]}},\"selected\":{\"id\":\"1475\"},\"selection_policy\":{\"id\":\"1474\"}},\"id\":\"1463\",\"type\":\"ColumnDataSource\"},{\"attributes\":{\"axis_label\":null,\"formatter\":{\"id\":\"1472\"},\"ticker\":{\"id\":\"1445\"},\"visible\":false},\"id\":\"1444\",\"type\":\"LinearAxis\"},{\"attributes\":{\"source\":{\"id\":\"1463\"}},\"id\":\"1468\",\"type\":\"CDSView\"},{\"attributes\":{},\"id\":\"1474\",\"type\":\"UnionRenderers\"},{\"attributes\":{},\"id\":\"1404\",\"type\":\"BasicTicker\"},{\"attributes\":{},\"id\":\"1410\",\"type\":\"PanTool\"},{\"attributes\":{},\"id\":\"1449\",\"type\":\"BasicTicker\"},{\"attributes\":{\"data_source\":{\"id\":\"1418\"},\"glyph\":{\"id\":\"1420\"},\"hover_glyph\":null,\"muted_glyph\":null,\"nonselection_glyph\":{\"id\":\"1421\"},\"selection_glyph\":null,\"view\":{\"id\":\"1423\"}},\"id\":\"1422\",\"type\":\"GlyphRenderer\"},{\"attributes\":{},\"id\":\"1445\",\"type\":\"BasicTicker\"},{\"attributes\":{},\"id\":\"1393\",\"type\":\"DataRange1d\"},{\"attributes\":{},\"id\":\"1409\",\"type\":\"ResetTool\"},{\"attributes\":{\"items\":[{\"id\":\"1432\"}],\"label_text_font_size\":\"8pt\",\"location\":\"center_right\"},\"id\":\"1431\",\"type\":\"Legend\"},{\"attributes\":{\"axis\":{\"id\":\"1444\"},\"grid_line_color\":null,\"ticker\":null},\"id\":\"1447\",\"type\":\"Grid\"},{\"attributes\":{},\"id\":\"1475\",\"type\":\"Selection\"},{\"attributes\":{\"axis_label\":null,\"formatter\":{\"id\":\"1427\"},\"ticker\":{\"id\":\"1400\"},\"visible\":false},\"id\":\"1399\",\"type\":\"LinearAxis\"},{\"attributes\":{\"active_drag\":\"auto\",\"active_inspect\":\"auto\",\"active_multi\":null,\"active_scroll\":\"auto\",\"active_tap\":\"auto\",\"tools\":[{\"id\":\"1407\"},{\"id\":\"1408\"},{\"id\":\"1409\"},{\"id\":\"1410\"}]},\"id\":\"1411\",\"type\":\"Toolbar\"},{\"attributes\":{\"active_drag\":\"auto\",\"active_inspect\":\"auto\",\"active_multi\":null,\"active_scroll\":\"auto\",\"active_tap\":\"auto\",\"tools\":[{\"id\":\"1452\"},{\"id\":\"1453\"},{\"id\":\"1454\"},{\"id\":\"1455\"}]},\"id\":\"1456\",\"type\":\"Toolbar\"},{\"attributes\":{\"callback\":null,\"tooltips\":\"@phase:@value\"},\"id\":\"1452\",\"type\":\"HoverTool\"},{\"attributes\":{\"text\":\"The following piechart shows a breakdown of the CPU/GPU operators. \\n                It shows that 50% of training time was spent on executing the \\\"gpu_functions-dev:0\\\" operator.\",\"width\":1100},\"id\":\"1478\",\"type\":\"Paragraph\"},{\"attributes\":{\"below\":[{\"id\":\"1399\"}],\"center\":[{\"id\":\"1402\"},{\"id\":\"1406\"},{\"id\":\"1431\"}],\"left\":[{\"id\":\"1403\"}],\"outline_line_color\":\"white\",\"plot_height\":350,\"renderers\":[{\"id\":\"1422\"}],\"title\":{\"id\":\"1389\"},\"toolbar\":{\"id\":\"1411\"},\"x_range\":{\"id\":\"1391\"},\"x_scale\":{\"id\":\"1395\"},\"y_range\":{\"id\":\"1393\"},\"y_scale\":{\"id\":\"1397\"}},\"id\":\"1388\",\"subtype\":\"Figure\",\"type\":\"Plot\"},{\"attributes\":{\"axis\":{\"id\":\"1448\"},\"dimension\":1,\"grid_line_color\":null,\"ticker\":null},\"id\":\"1451\",\"type\":\"Grid\"},{\"attributes\":{\"axis_label\":null,\"formatter\":{\"id\":\"1470\"},\"ticker\":{\"id\":\"1449\"},\"visible\":false},\"id\":\"1448\",\"type\":\"LinearAxis\"},{\"attributes\":{\"children\":[{\"id\":\"1388\"},{\"id\":\"1433\"}]},\"id\":\"1479\",\"type\":\"Row\"},{\"attributes\":{},\"id\":\"1397\",\"type\":\"LinearScale\"}],\"root_ids\":[\"1480\"]},\"title\":\"Bokeh Application\",\"version\":\"2.2.3\"}};\n",
       "  var render_items = [{\"docid\":\"deacece8-ab68-4ee5-8315-692f7c85e68c\",\"root_ids\":[\"1480\"],\"roots\":{\"1480\":\"62ea8032-7a41-4cd9-ae56-465279ae0827\"}}];\n",
       "  root.Bokeh.embed.embed_items_notebook(docs_json, render_items);\n",
       "\n",
       "  }\n",
       "  if (root.Bokeh !== undefined) {\n",
       "    embed_document(root);\n",
       "  } else {\n",
       "    var attempts = 0;\n",
       "    var timer = setInterval(function(root) {\n",
       "      if (root.Bokeh !== undefined) {\n",
       "        clearInterval(timer);\n",
       "        embed_document(root);\n",
       "      } else {\n",
       "        attempts++;\n",
       "        if (attempts > 100) {\n",
       "          clearInterval(timer);\n",
       "          console.log(\"Bokeh: ERROR: Unable to run BokehJS code because BokehJS library is missing\");\n",
       "        }\n",
       "      }\n",
       "    }, 10, root)\n",
       "  }\n",
       "})(window);"
      ],
      "application/vnd.bokehjs_exec.v0+json": ""
     },
     "metadata": {
      "application/vnd.bokehjs_exec.v0+json": {
       "id": "1480"
      }
     },
     "output_type": "display_data"
    }
   ],
   "source": [
    "report = load_report('OverallFrameworkMetrics')\n",
    "if report:\n",
    "    if 'Details' in report:\n",
    "\n",
    "        display(Markdown(f\"\"\"## Framework metrics summary\"\"\"))\n",
    "        plots = []\n",
    "        text = ''\n",
    "        if 'phase' in report['Details']:\n",
    "            text = f\"\"\"The following two pie charts show the time spent on the TRAIN phase, the EVAL phase, \n",
    "            and others. The 'others' includes the time spent between steps (after one step has finished and before\n",
    "            the next step has started). Ideally, most of the training time should be spent on the \n",
    "            TRAIN and EVAL phases. If TRAIN/EVAL were not specified in the training script, steps will be recorded as \n",
    "            GLOBAL.\"\"\"\n",
    "\n",
    "            if 'others' in report['Details']['phase']:\n",
    "                others = float(report['Details']['phase']['others'])\n",
    "\n",
    "                if others > 25:\n",
    "                    text = f\"\"\"{text} Your training job spent quite a significant amount of time ({round(others,2)}%) in phase \"others\".\n",
    "                    You should check what is happening in between the steps.\"\"\"\n",
    "\n",
    "                plot = create_piechart(report['Details']['phase'], \n",
    "                                    height=350,\n",
    "                                    width=600,\n",
    "                                    x1=0.2,\n",
    "                                    x2=0.6,\n",
    "                                    radius=0.3, \n",
    "                                    title=\"The ratio between the time spent on the TRAIN/EVAL phase and others\")\n",
    "                plots.append(plot)\n",
    "\n",
    "        if 'forward_backward' in report['Details']:\n",
    "\n",
    "            event = max(report['Details']['forward_backward'], key=report['Details']['forward_backward'].get)\n",
    "            perc = report['Details']['forward_backward'][event]\n",
    "\n",
    "            text = f\"\"\"{text} The pie chart on the right shows a more detailed breakdown. \n",
    "            It shows that {int(perc)}% of the time was spent in event \"{event}\".\"\"\"\n",
    "\n",
    "            if perc > 70:\n",
    "                text = f\"\"\"There is quite a significant difference between the time spent on forward and backward\n",
    "                pass.\"\"\"\n",
    "            else:\n",
    "                text = f\"\"\"{text} It shows that {int(perc)}% of the training time\n",
    "                was spent on \"{event}\".\"\"\"\n",
    "\n",
    "            plot = create_piechart(report['Details']['forward_backward'], \n",
    "                                height=350,\n",
    "                                width=600,\n",
    "                                x1=0.2,\n",
    "                                x2=0.6,\n",
    "                                radius=0.3, \n",
    "                                title=\"The ratio between forward and backward pass\") \n",
    "            plots.append(plot)\n",
    "\n",
    "        if len(plots) > 0:\n",
    "            paragraph = Paragraph(text=text, width=1100)\n",
    "            show(column(paragraph, row(plots)))\n",
    "\n",
    "        plots = []\n",
    "        text=''\n",
    "        if 'ratio' in report['Details'] and len(report['Details']['ratio']) > 0:\n",
    "\n",
    "            key = list(report['Details']['ratio'].keys())[0]\n",
    "            ratio = report['Details']['ratio'][key]\n",
    "\n",
    "            text = f\"\"\"The following piechart shows a breakdown of the CPU/GPU operators. \n",
    "                It shows that {int(ratio)}% of training time was spent on executing the \"{key}\" operator.\"\"\"\n",
    "\n",
    "            plot = create_piechart(report['Details']['ratio'], \n",
    "                                    height=350,\n",
    "                                    width=600,\n",
    "                                    x1=0.2,\n",
    "                                    x2=0.6,\n",
    "                                    radius=0.3, \n",
    "                                    title=\"The ratio between the time spent on CPU/GPU operators\")\n",
    "            plots.append(plot)\n",
    "\n",
    "\n",
    "        if 'general' in report['Details']:\n",
    "            event = max(report['Details']['general'], key=report['Details']['general'].get)\n",
    "            perc = report['Details']['general'][event]\n",
    "\n",
    "            plot = create_piechart(report['Details']['general'], \n",
    "                                height=350,\n",
    "                                width=600,\n",
    "                                x1=0.2,\n",
    "                                x2=0.6,\n",
    "                                radius=0.3, \n",
    "                                title=\"General framework operations\")\n",
    "            plots.append(plot)\n",
    "\n",
    "        if len(plots) > 0:\n",
    "            paragraph = Paragraph(text=text, width=1100)\n",
    "            show(column(paragraph, row(plots)))\n",
    "\n",
    "        plots = []\n",
    "        text = ''\n",
    "        if 'horovod' in report['Details']:\n",
    "            display(Markdown(f\"\"\"#### Overview: Horovod metrics\"\"\"))\n",
    "            event = max(report['Details']['horovod'], key=report['Details']['horovod'].get)\n",
    "            perc = report['Details']['horovod'][event]\n",
    "            text = f\"\"\"{text} The following pie chart shows a detailed breakdown of the Horovod metrics profiled\n",
    "            from your training job. The most expensive function was \"{event}\" with {int(perc)}%.\"\"\"\n",
    "\n",
    "            plot = create_piechart(report['Details']['horovod'], \n",
    "                                height=350,\n",
    "                                width=600,\n",
    "                                x1=0.2,\n",
    "                                x2=0.6,\n",
    "                                radius=0.3, \n",
    "                                title=\"Horovod metrics \")\n",
    "\n",
    "            paragraph = Paragraph(text=text, width=1100)\n",
    "            show(column(paragraph, row(plot)))\n"
   ]
  },
  {
   "cell_type": "code",
   "execution_count": 15,
   "metadata": {
    "execution": {
     "iopub.execute_input": "2025-07-04T00:04:13.920458Z",
     "iopub.status.busy": "2025-07-04T00:04:13.919965Z",
     "iopub.status.idle": "2025-07-04T00:04:13.963049Z",
     "shell.execute_reply": "2025-07-04T00:04:13.963439Z"
    },
    "papermill": {
     "duration": 0.074516,
     "end_time": "2025-07-04T00:04:13.963550",
     "exception": false,
     "start_time": "2025-07-04T00:04:13.889034",
     "status": "completed"
    },
    "tags": [
     "hide-input"
    ]
   },
   "outputs": [
    {
     "data": {
      "text/markdown": [
       "#### Overview: CPU operators"
      ],
      "text/plain": [
       "<IPython.core.display.Markdown object>"
      ]
     },
     "metadata": {},
     "output_type": "display_data"
    },
    {
     "data": {
      "text/html": [
       "\n",
       "\n",
       "\n",
       "\n",
       "\n",
       "\n",
       "  <div class=\"bk-root\" id=\"8c5bf5c1-2550-4a39-a715-eefcd80f9906\" data-root-id=\"1655\"></div>\n"
      ]
     },
     "metadata": {},
     "output_type": "display_data"
    },
    {
     "data": {
      "application/javascript": [
       "(function(root) {\n",
       "  function embed_document(root) {\n",
       "    \n",
       "  var docs_json = {\"ac2a3e34-8ace-4bbd-9ca6-6e83c7807c8b\":{\"roots\":{\"references\":[{\"attributes\":{\"children\":[{\"id\":\"1609\"},{\"id\":\"1654\"}]},\"id\":\"1655\",\"type\":\"Column\"},{\"attributes\":{\"columns\":[{\"id\":\"1604\"},{\"id\":\"1605\"},{\"id\":\"1606\"}],\"height\":350,\"source\":{\"id\":\"1603\"},\"view\":{\"id\":\"1608\"},\"width\":550},\"id\":\"1607\",\"type\":\"DataTable\"},{\"attributes\":{\"label\":{\"field\":\"phase\"},\"renderers\":[{\"id\":\"1643\"}]},\"id\":\"1653\",\"type\":\"LegendItem\"},{\"attributes\":{\"text\":\"The following table shows a list of operators that ran on the CPUs.\\n        The most expensive operator on the CPUs was \\\"aten::conv2d\\\" with 15 %.\"},\"id\":\"1609\",\"type\":\"Paragraph\"},{\"attributes\":{},\"id\":\"1646\",\"type\":\"BasicTickFormatter\"},{\"attributes\":{},\"id\":\"1630\",\"type\":\"ResetTool\"},{\"attributes\":{},\"id\":\"1621\",\"type\":\"BasicTicker\"},{\"attributes\":{\"callback\":null,\"tooltips\":\"@phase:@value\"},\"id\":\"1628\",\"type\":\"HoverTool\"},{\"attributes\":{},\"id\":\"1616\",\"type\":\"LinearScale\"},{\"attributes\":{\"items\":[{\"id\":\"1653\"}],\"label_text_font_size\":\"8pt\",\"location\":\"center_right\"},\"id\":\"1652\",\"type\":\"Legend\"},{\"attributes\":{},\"id\":\"1713\",\"type\":\"StringFormatter\"},{\"attributes\":{},\"id\":\"1614\",\"type\":\"DataRange1d\"},{\"attributes\":{\"editor\":{\"id\":\"1712\"},\"field\":\"percentage\",\"formatter\":{\"id\":\"1711\"},\"title\":\"Percentage\"},\"id\":\"1604\",\"type\":\"TableColumn\"},{\"attributes\":{\"end\":0.8999999999999999,\"start\":-0.5},\"id\":\"1612\",\"type\":\"Range1d\"},{\"attributes\":{\"data_source\":{\"id\":\"1639\"},\"glyph\":{\"id\":\"1641\"},\"hover_glyph\":null,\"muted_glyph\":null,\"nonselection_glyph\":{\"id\":\"1642\"},\"selection_glyph\":null,\"view\":{\"id\":\"1644\"}},\"id\":\"1643\",\"type\":\"GlyphRenderer\"},{\"attributes\":{\"end_angle\":{\"expr\":{\"id\":\"1638\"},\"units\":\"rad\"},\"fill_alpha\":{\"value\":0.1},\"fill_color\":{\"field\":\"color\"},\"line_alpha\":{\"value\":0.1},\"line_color\":{\"value\":\"white\"},\"radius\":{\"units\":\"data\",\"value\":0.3},\"start_angle\":{\"expr\":{\"id\":\"1637\"},\"units\":\"rad\"},\"x\":{\"value\":0},\"y\":{\"value\":0.0}},\"id\":\"1642\",\"type\":\"Wedge\"},{\"attributes\":{\"source\":{\"id\":\"1603\"}},\"id\":\"1608\",\"type\":\"CDSView\"},{\"attributes\":{\"active_drag\":\"auto\",\"active_inspect\":\"auto\",\"active_multi\":null,\"active_scroll\":\"auto\",\"active_tap\":\"auto\",\"tools\":[{\"id\":\"1628\"},{\"id\":\"1629\"},{\"id\":\"1630\"},{\"id\":\"1631\"}]},\"id\":\"1632\",\"type\":\"Toolbar\"},{\"attributes\":{},\"id\":\"1648\",\"type\":\"BasicTickFormatter\"},{\"attributes\":{},\"id\":\"1651\",\"type\":\"Selection\"},{\"attributes\":{},\"id\":\"1618\",\"type\":\"LinearScale\"},{\"attributes\":{},\"id\":\"1715\",\"type\":\"StringFormatter\"},{\"attributes\":{\"axis_label\":null,\"formatter\":{\"id\":\"1646\"},\"ticker\":{\"id\":\"1625\"},\"visible\":false},\"id\":\"1624\",\"type\":\"LinearAxis\"},{\"attributes\":{\"axis_label\":null,\"formatter\":{\"id\":\"1648\"},\"ticker\":{\"id\":\"1621\"},\"visible\":false},\"id\":\"1620\",\"type\":\"LinearAxis\"},{\"attributes\":{\"source\":{\"id\":\"1639\"}},\"id\":\"1644\",\"type\":\"CDSView\"},{\"attributes\":{},\"id\":\"1629\",\"type\":\"WheelZoomTool\"},{\"attributes\":{\"field\":\"angle\"},\"id\":\"1638\",\"type\":\"CumSum\"},{\"attributes\":{\"data\":{\"index\":[0,1,2,3,4,5,9,6,7,8],\"operator\":[\"aten::conv2d\",\"aten::convolution\",\"aten::_convolution\",\"aten::cudnn_convolution\",\"aten::to\",\"aten::copy_\",\"enumerate(DataLoader)#_SingleProcessDataLoaderIter.__next__\",\"aten::linear\",\"aten::addmm\",\"torch::autograd::AccumulateGrad\"],\"percentage\":{\"__ndarray__\":\"4XoUrkfhLkDXo3A9CtcuQM3MzMzMzC5ASOF6FK7HLkBcj8L1KNwjQEjhehSuxyNA7FG4HoXrGUAAAAAAAAATQAAAAAAAABNAUrgehetRBEA=\",\"dtype\":\"float64\",\"order\":\"little\",\"shape\":[10]},\"time\":[1108606,1107181,1106240,1105033,712961,710433,465566,341471,341355,182748]},\"selected\":{\"id\":\"1710\"},\"selection_policy\":{\"id\":\"1709\"}},\"id\":\"1603\",\"type\":\"ColumnDataSource\"},{\"attributes\":{\"editor\":{\"id\":\"1714\"},\"field\":\"time\",\"formatter\":{\"id\":\"1713\"},\"title\":\"Cumulative time in microseconds\"},\"id\":\"1605\",\"type\":\"TableColumn\"},{\"attributes\":{},\"id\":\"1650\",\"type\":\"UnionRenderers\"},{\"attributes\":{},\"id\":\"1631\",\"type\":\"PanTool\"},{\"attributes\":{},\"id\":\"1711\",\"type\":\"StringFormatter\"},{\"attributes\":{\"field\":\"angle\",\"include_zero\":true},\"id\":\"1637\",\"type\":\"CumSum\"},{\"attributes\":{\"below\":[{\"id\":\"1620\"}],\"center\":[{\"id\":\"1623\"},{\"id\":\"1627\"},{\"id\":\"1652\"}],\"left\":[{\"id\":\"1624\"}],\"outline_line_color\":\"white\",\"plot_height\":350,\"renderers\":[{\"id\":\"1643\"}],\"title\":null,\"toolbar\":{\"id\":\"1632\"},\"x_range\":{\"id\":\"1612\"},\"x_scale\":{\"id\":\"1616\"},\"y_range\":{\"id\":\"1614\"},\"y_scale\":{\"id\":\"1618\"}},\"id\":\"1610\",\"subtype\":\"Figure\",\"type\":\"Plot\"},{\"attributes\":{\"end_angle\":{\"expr\":{\"id\":\"1638\"},\"units\":\"rad\"},\"fill_color\":{\"field\":\"color\"},\"line_color\":{\"value\":\"white\"},\"radius\":{\"units\":\"data\",\"value\":0.3},\"start_angle\":{\"expr\":{\"id\":\"1637\"},\"units\":\"rad\"},\"x\":{\"value\":0},\"y\":{\"value\":0.0}},\"id\":\"1641\",\"type\":\"Wedge\"},{\"attributes\":{\"children\":[{\"id\":\"1607\"},{\"id\":\"1610\"}]},\"id\":\"1654\",\"type\":\"Row\"},{\"attributes\":{},\"id\":\"1712\",\"type\":\"StringEditor\"},{\"attributes\":{\"data\":{\"angle\":{\"__ndarray__\":\"Z3GLNZcJ7z8PrDOeYP/uP8NjBRKi+O4/pzA+d/vv7j/ORUhv7fXjPz8N5g7P4+M/AGhvjMYe0z/su/HfHB3TP9y7fLood8Q/zkVBxJkR2j8=\",\"dtype\":\"float64\",\"order\":\"little\",\"shape\":[10]},\"color\":[\"#440154\",\"#472777\",\"#3E4989\",\"#30678D\",\"#25828E\",\"#1E9C89\",\"#35B778\",\"#6BCD59\",\"#B2DD2C\",\"#FDE724\"],\"index\":[0,1,2,3,4,5,6,7,8,9],\"phase\":[\"aten::conv2d\",\"aten::convolution\",\"aten::_convolution\",\"aten::cudnn_convolution\",\"aten::to\",\"aten::copy_\",\"aten::linear\",\"aten::addmm\",\"torch::autograd::AccumulateGrad\",\"enumerate(DataLoader)#_SingleProcessDataLoaderIter.__next__\"],\"value\":{\"__ndarray__\":\"WcsPDKDfLkAaWuJDd9UuQKsmJ9bBzi5ABs247SbGLkB/0/NY8NojQI99E3jqyCNA9UHGXewEE0DBUNXwRAMTQEAoiOh8WwRAx4Rtc1ruGUA=\",\"dtype\":\"float64\",\"order\":\"little\",\"shape\":[10]}},\"selected\":{\"id\":\"1651\"},\"selection_policy\":{\"id\":\"1650\"}},\"id\":\"1639\",\"type\":\"ColumnDataSource\"},{\"attributes\":{\"axis\":{\"id\":\"1624\"},\"dimension\":1,\"grid_line_color\":null,\"ticker\":null},\"id\":\"1627\",\"type\":\"Grid\"},{\"attributes\":{\"editor\":{\"id\":\"1716\"},\"field\":\"operator\",\"formatter\":{\"id\":\"1715\"},\"title\":\"CPU operator\"},\"id\":\"1606\",\"type\":\"TableColumn\"},{\"attributes\":{},\"id\":\"1710\",\"type\":\"Selection\"},{\"attributes\":{},\"id\":\"1714\",\"type\":\"StringEditor\"},{\"attributes\":{},\"id\":\"1716\",\"type\":\"StringEditor\"},{\"attributes\":{},\"id\":\"1709\",\"type\":\"UnionRenderers\"},{\"attributes\":{},\"id\":\"1625\",\"type\":\"BasicTicker\"},{\"attributes\":{\"axis\":{\"id\":\"1620\"},\"grid_line_color\":null,\"ticker\":null},\"id\":\"1623\",\"type\":\"Grid\"}],\"root_ids\":[\"1655\"]},\"title\":\"Bokeh Application\",\"version\":\"2.2.3\"}};\n",
       "  var render_items = [{\"docid\":\"ac2a3e34-8ace-4bbd-9ca6-6e83c7807c8b\",\"root_ids\":[\"1655\"],\"roots\":{\"1655\":\"8c5bf5c1-2550-4a39-a715-eefcd80f9906\"}}];\n",
       "  root.Bokeh.embed.embed_items_notebook(docs_json, render_items);\n",
       "\n",
       "  }\n",
       "  if (root.Bokeh !== undefined) {\n",
       "    embed_document(root);\n",
       "  } else {\n",
       "    var attempts = 0;\n",
       "    var timer = setInterval(function(root) {\n",
       "      if (root.Bokeh !== undefined) {\n",
       "        clearInterval(timer);\n",
       "        embed_document(root);\n",
       "      } else {\n",
       "        attempts++;\n",
       "        if (attempts > 100) {\n",
       "          clearInterval(timer);\n",
       "          console.log(\"Bokeh: ERROR: Unable to run BokehJS code because BokehJS library is missing\");\n",
       "        }\n",
       "      }\n",
       "    }, 10, root)\n",
       "  }\n",
       "})(window);"
      ],
      "application/vnd.bokehjs_exec.v0+json": ""
     },
     "metadata": {
      "application/vnd.bokehjs_exec.v0+json": {
       "id": "1655"
      }
     },
     "output_type": "display_data"
    }
   ],
   "source": [
    "pd.set_option('display.float_format', lambda x: '%.2f' % x)\n",
    "rows = [] \n",
    "values = []\n",
    "if report:\n",
    "    if 'CPU_total' in report['Details']:\n",
    "        display(Markdown(f\"\"\"#### Overview: CPU operators\"\"\"))\n",
    "        event = max(report['Details']['CPU'], key=report['Details']['CPU'].get)\n",
    "        perc = report['Details']['CPU'][event]\n",
    "\n",
    "        for function in report['Details']['CPU']:\n",
    "            percentage = round(report['Details']['CPU'][function],2)\n",
    "            time = report['Details']['CPU_total'][function]               \n",
    "            rows.append([percentage, time, function])\n",
    "\n",
    "        df = pd.DataFrame(rows) \n",
    "        df.columns = ['percentage', 'time', 'operator']\n",
    "\n",
    "        df = df.sort_values(by=['percentage'], ascending=False)\n",
    "        source = ColumnDataSource(data=df)\n",
    "        columns = [TableColumn(field='percentage', title=\"Percentage\"),\n",
    "                   TableColumn(field='time', title=\"Cumulative time in microseconds\"),\n",
    "                  TableColumn(field='operator', title=\"CPU operator\"),]\n",
    "\n",
    "        table = DataTable(source=source, columns=columns, width=550, height=350)\n",
    "\n",
    "        text = Paragraph(text=f\"\"\"The following table shows a list of operators that ran on the CPUs.\n",
    "        The most expensive operator on the CPUs was \"{event}\" with {int(perc)} %.\"\"\")\n",
    "\n",
    "        plot = create_piechart(report['Details']['CPU'],\n",
    "                                height=350,\n",
    "                                width=600,\n",
    "                                x1=0.2,\n",
    "                                x2=0.6,\n",
    "                                radius=0.3, \n",
    "                               )\n",
    "\n",
    "        show(column(text, row(table, plot)))\n"
   ]
  },
  {
   "cell_type": "code",
   "execution_count": 16,
   "metadata": {
    "execution": {
     "iopub.execute_input": "2025-07-04T00:04:14.019693Z",
     "iopub.status.busy": "2025-07-04T00:04:14.019201Z",
     "iopub.status.idle": "2025-07-04T00:04:14.065612Z",
     "shell.execute_reply": "2025-07-04T00:04:14.066003Z"
    },
    "papermill": {
     "duration": 0.079033,
     "end_time": "2025-07-04T00:04:14.066121",
     "exception": false,
     "start_time": "2025-07-04T00:04:13.987088",
     "status": "completed"
    },
    "tags": [
     "hide-input"
    ]
   },
   "outputs": [
    {
     "data": {
      "text/markdown": [
       "#### Overview: GPU operators"
      ],
      "text/plain": [
       "<IPython.core.display.Markdown object>"
      ]
     },
     "metadata": {},
     "output_type": "display_data"
    },
    {
     "data": {
      "text/html": [
       "\n",
       "\n",
       "\n",
       "\n",
       "\n",
       "\n",
       "  <div class=\"bk-root\" id=\"a9e2a90a-86ce-4da3-974f-979633cf6b04\" data-root-id=\"1850\"></div>\n"
      ]
     },
     "metadata": {},
     "output_type": "display_data"
    },
    {
     "data": {
      "application/javascript": [
       "(function(root) {\n",
       "  function embed_document(root) {\n",
       "    \n",
       "  var docs_json = {\"49ae3987-0aef-4070-93a9-97ede680318a\":{\"roots\":{\"references\":[{\"attributes\":{\"children\":[{\"id\":\"1804\"},{\"id\":\"1849\"}]},\"id\":\"1850\",\"type\":\"Column\"},{\"attributes\":{\"columns\":[{\"id\":\"1799\"},{\"id\":\"1800\"},{\"id\":\"1801\"}],\"height\":350,\"source\":{\"id\":\"1798\"},\"view\":{\"id\":\"1803\"},\"width\":450},\"id\":\"1802\",\"type\":\"DataTable\"},{\"attributes\":{\"end\":0.8999999999999999,\"start\":-0.5},\"id\":\"1807\",\"type\":\"Range1d\"},{\"attributes\":{},\"id\":\"1919\",\"type\":\"UnionRenderers\"},{\"attributes\":{},\"id\":\"1824\",\"type\":\"WheelZoomTool\"},{\"attributes\":{},\"id\":\"1923\",\"type\":\"StringFormatter\"},{\"attributes\":{},\"id\":\"1811\",\"type\":\"LinearScale\"},{\"attributes\":{},\"id\":\"1920\",\"type\":\"Selection\"},{\"attributes\":{},\"id\":\"1825\",\"type\":\"ResetTool\"},{\"attributes\":{\"field\":\"angle\",\"include_zero\":true},\"id\":\"1832\",\"type\":\"CumSum\"},{\"attributes\":{\"field\":\"angle\"},\"id\":\"1833\",\"type\":\"CumSum\"},{\"attributes\":{\"below\":[{\"id\":\"1815\"}],\"center\":[{\"id\":\"1818\"},{\"id\":\"1822\"},{\"id\":\"1847\"}],\"left\":[{\"id\":\"1819\"}],\"outline_line_color\":\"white\",\"plot_height\":350,\"renderers\":[{\"id\":\"1838\"}],\"title\":null,\"toolbar\":{\"id\":\"1827\"},\"x_range\":{\"id\":\"1807\"},\"x_scale\":{\"id\":\"1811\"},\"y_range\":{\"id\":\"1809\"},\"y_scale\":{\"id\":\"1813\"}},\"id\":\"1805\",\"subtype\":\"Figure\",\"type\":\"Plot\"},{\"attributes\":{},\"id\":\"1921\",\"type\":\"StringFormatter\"},{\"attributes\":{\"callback\":null,\"tooltips\":\"@phase:@value\"},\"id\":\"1823\",\"type\":\"HoverTool\"},{\"attributes\":{\"children\":[{\"id\":\"1802\"},{\"id\":\"1805\"}]},\"id\":\"1849\",\"type\":\"Row\"},{\"attributes\":{\"editor\":{\"id\":\"1924\"},\"field\":\"time\",\"formatter\":{\"id\":\"1923\"},\"title\":\"Cumulative time in microseconds\"},\"id\":\"1800\",\"type\":\"TableColumn\"},{\"attributes\":{\"editor\":{\"id\":\"1926\"},\"field\":\"operator\",\"formatter\":{\"id\":\"1925\"},\"title\":\"GPU operator\"},\"id\":\"1801\",\"type\":\"TableColumn\"},{\"attributes\":{},\"id\":\"1809\",\"type\":\"DataRange1d\"},{\"attributes\":{},\"id\":\"1922\",\"type\":\"StringEditor\"},{\"attributes\":{},\"id\":\"1826\",\"type\":\"PanTool\"},{\"attributes\":{},\"id\":\"1845\",\"type\":\"UnionRenderers\"},{\"attributes\":{},\"id\":\"1924\",\"type\":\"StringEditor\"},{\"attributes\":{},\"id\":\"1843\",\"type\":\"BasicTickFormatter\"},{\"attributes\":{},\"id\":\"1813\",\"type\":\"LinearScale\"},{\"attributes\":{},\"id\":\"1925\",\"type\":\"StringFormatter\"},{\"attributes\":{\"axis_label\":null,\"formatter\":{\"id\":\"1843\"},\"ticker\":{\"id\":\"1816\"},\"visible\":false},\"id\":\"1815\",\"type\":\"LinearAxis\"},{\"attributes\":{\"data\":{\"index\":[0,1,2,3,4,5,8,6,7],\"operator\":[\"aten::conv2d\",\"aten::convolution\",\"aten::_convolution\",\"aten::cudnn_convolution\",\"aten::to\",\"aten::copy_\",\"enumerate(DataLoader)#_SingleProcessDataLoaderIter.__next__\",\"aten::linear\",\"aten::addmm\"],\"percentage\":{\"__ndarray__\":\"w/UoXI8CMEAAAAAAAAAwQHsUrkfh+i9A9ihcj8L1L0ApXI/C9agjQB+F61G4niNAj8L1KFyPGkB7FK5H4XoTQHsUrkfhehNA\",\"dtype\":\"float64\",\"order\":\"little\",\"shape\":[9]},\"time\":[1122696,1121800,1121182,1120216,689343,688082,465574,341471,341357]},\"selected\":{\"id\":\"1920\"},\"selection_policy\":{\"id\":\"1919\"}},\"id\":\"1798\",\"type\":\"ColumnDataSource\"},{\"attributes\":{},\"id\":\"1926\",\"type\":\"StringEditor\"},{\"attributes\":{},\"id\":\"1820\",\"type\":\"BasicTicker\"},{\"attributes\":{\"data\":{\"angle\":{\"__ndarray__\":\"4S1jqsIY8D+Ff6vCeBXwP4uFRhI0E/A/kH10ZKgP8D9AcM2YWcTjP8QjAtwXu+M/5idSgFyV0z9PiBsIsJPTPzI3D0Nms9o/\",\"dtype\":\"float64\",\"order\":\"little\",\"shape\":[9]},\"color\":[\"#440154\",\"#472B7A\",\"#3B518A\",\"#2C718E\",\"#208F8C\",\"#27AD80\",\"#5BC862\",\"#AADB32\",\"#FDE724\"],\"index\":[0,1,2,3,4,5,6,7,8],\"phase\":[\"aten::conv2d\",\"aten::convolution\",\"aten::_convolution\",\"aten::cudnn_convolution\",\"aten::to\",\"aten::copy_\",\"aten::linear\",\"aten::addmm\",\"enumerate(DataLoader)#_SingleProcessDataLoaderIter.__next__\"],\"value\":{\"__ndarray__\":\"4tm0Bf8CMEB6iaQgc/8vQL+LJOLv+i9AKPoHHeLzL0CsM/6Kn6kjQOO3TFJqoCNAxKjx+uF6E0DefA/GN3kTQAx98y1MjxpA\",\"dtype\":\"float64\",\"order\":\"little\",\"shape\":[9]}},\"selected\":{\"id\":\"1846\"},\"selection_policy\":{\"id\":\"1845\"}},\"id\":\"1834\",\"type\":\"ColumnDataSource\"},{\"attributes\":{},\"id\":\"1816\",\"type\":\"BasicTicker\"},{\"attributes\":{\"axis\":{\"id\":\"1815\"},\"grid_line_color\":null,\"ticker\":null},\"id\":\"1818\",\"type\":\"Grid\"},{\"attributes\":{\"end_angle\":{\"expr\":{\"id\":\"1833\"},\"units\":\"rad\"},\"fill_alpha\":{\"value\":0.1},\"fill_color\":{\"field\":\"color\"},\"line_alpha\":{\"value\":0.1},\"line_color\":{\"value\":\"white\"},\"radius\":{\"units\":\"data\",\"value\":0.3},\"start_angle\":{\"expr\":{\"id\":\"1832\"},\"units\":\"rad\"},\"x\":{\"value\":0},\"y\":{\"value\":0.0}},\"id\":\"1837\",\"type\":\"Wedge\"},{\"attributes\":{\"source\":{\"id\":\"1798\"}},\"id\":\"1803\",\"type\":\"CDSView\"},{\"attributes\":{\"label\":{\"field\":\"phase\"},\"renderers\":[{\"id\":\"1838\"}]},\"id\":\"1848\",\"type\":\"LegendItem\"},{\"attributes\":{},\"id\":\"1846\",\"type\":\"Selection\"},{\"attributes\":{\"axis\":{\"id\":\"1819\"},\"dimension\":1,\"grid_line_color\":null,\"ticker\":null},\"id\":\"1822\",\"type\":\"Grid\"},{\"attributes\":{\"source\":{\"id\":\"1834\"}},\"id\":\"1839\",\"type\":\"CDSView\"},{\"attributes\":{\"active_drag\":\"auto\",\"active_inspect\":\"auto\",\"active_multi\":null,\"active_scroll\":\"auto\",\"active_tap\":\"auto\",\"tools\":[{\"id\":\"1823\"},{\"id\":\"1824\"},{\"id\":\"1825\"},{\"id\":\"1826\"}]},\"id\":\"1827\",\"type\":\"Toolbar\"},{\"attributes\":{\"axis_label\":null,\"formatter\":{\"id\":\"1841\"},\"ticker\":{\"id\":\"1820\"},\"visible\":false},\"id\":\"1819\",\"type\":\"LinearAxis\"},{\"attributes\":{\"editor\":{\"id\":\"1922\"},\"field\":\"percentage\",\"formatter\":{\"id\":\"1921\"},\"title\":\"Percentage\"},\"id\":\"1799\",\"type\":\"TableColumn\"},{\"attributes\":{\"end_angle\":{\"expr\":{\"id\":\"1833\"},\"units\":\"rad\"},\"fill_color\":{\"field\":\"color\"},\"line_color\":{\"value\":\"white\"},\"radius\":{\"units\":\"data\",\"value\":0.3},\"start_angle\":{\"expr\":{\"id\":\"1832\"},\"units\":\"rad\"},\"x\":{\"value\":0},\"y\":{\"value\":0.0}},\"id\":\"1836\",\"type\":\"Wedge\"},{\"attributes\":{},\"id\":\"1841\",\"type\":\"BasicTickFormatter\"},{\"attributes\":{\"text\":\"The following table shows a list of operators that your training job ran on GPU.\\n        The most expensive operator on GPU was \\\"aten::conv2d\\\" with 16 %\"},\"id\":\"1804\",\"type\":\"Paragraph\"},{\"attributes\":{\"data_source\":{\"id\":\"1834\"},\"glyph\":{\"id\":\"1836\"},\"hover_glyph\":null,\"muted_glyph\":null,\"nonselection_glyph\":{\"id\":\"1837\"},\"selection_glyph\":null,\"view\":{\"id\":\"1839\"}},\"id\":\"1838\",\"type\":\"GlyphRenderer\"},{\"attributes\":{\"items\":[{\"id\":\"1848\"}],\"label_text_font_size\":\"8pt\",\"location\":\"center_right\"},\"id\":\"1847\",\"type\":\"Legend\"}],\"root_ids\":[\"1850\"]},\"title\":\"Bokeh Application\",\"version\":\"2.2.3\"}};\n",
       "  var render_items = [{\"docid\":\"49ae3987-0aef-4070-93a9-97ede680318a\",\"root_ids\":[\"1850\"],\"roots\":{\"1850\":\"a9e2a90a-86ce-4da3-974f-979633cf6b04\"}}];\n",
       "  root.Bokeh.embed.embed_items_notebook(docs_json, render_items);\n",
       "\n",
       "  }\n",
       "  if (root.Bokeh !== undefined) {\n",
       "    embed_document(root);\n",
       "  } else {\n",
       "    var attempts = 0;\n",
       "    var timer = setInterval(function(root) {\n",
       "      if (root.Bokeh !== undefined) {\n",
       "        clearInterval(timer);\n",
       "        embed_document(root);\n",
       "      } else {\n",
       "        attempts++;\n",
       "        if (attempts > 100) {\n",
       "          clearInterval(timer);\n",
       "          console.log(\"Bokeh: ERROR: Unable to run BokehJS code because BokehJS library is missing\");\n",
       "        }\n",
       "      }\n",
       "    }, 10, root)\n",
       "  }\n",
       "})(window);"
      ],
      "application/vnd.bokehjs_exec.v0+json": ""
     },
     "metadata": {
      "application/vnd.bokehjs_exec.v0+json": {
       "id": "1850"
      }
     },
     "output_type": "display_data"
    }
   ],
   "source": [
    "pd.set_option('display.float_format', lambda x: '%.2f' % x)\n",
    "rows = [] \n",
    "values = []\n",
    "if report:\n",
    "    if 'GPU_total' in report['Details']:\n",
    "        display(Markdown(f\"\"\"#### Overview: GPU operators\"\"\"))\n",
    "        event = max(report['Details']['GPU'], key=report['Details']['GPU'].get)\n",
    "        perc = report['Details']['GPU'][event]\n",
    "\n",
    "        for function in report['Details']['GPU']:\n",
    "            percentage = round(report['Details']['GPU'][function],2)\n",
    "            time = report['Details']['GPU_total'][function]               \n",
    "            rows.append([percentage, time, function])\n",
    "\n",
    "        df = pd.DataFrame(rows) \n",
    "        df.columns = ['percentage', 'time', 'operator']\n",
    "\n",
    "        df = df.sort_values(by=['percentage'], ascending=False)\n",
    "        source = ColumnDataSource(data=df)\n",
    "        columns = [TableColumn(field='percentage', title=\"Percentage\"),\n",
    "                   TableColumn(field='time', title=\"Cumulative time in microseconds\"),\n",
    "                  TableColumn(field='operator', title=\"GPU operator\"),]\n",
    "        table = DataTable(source=source, columns=columns, width=450, height=350)\n",
    "\n",
    "        text = Paragraph(text=f\"\"\"The following table shows a list of operators that your training job ran on GPU.\n",
    "        The most expensive operator on GPU was \"{event}\" with {int(perc)} %\"\"\")\n",
    "\n",
    "        plot = create_piechart(report['Details']['GPU'],\n",
    "                                height=350,\n",
    "                                width=600,\n",
    "                                x1=0.2,\n",
    "                                x2=0.6,\n",
    "                                radius=0.3, \n",
    "                               )\n",
    "\n",
    "        show(column(text, row(table, plot)))"
   ]
  },
  {
   "cell_type": "markdown",
   "metadata": {
    "papermill": {
     "duration": 0.025039,
     "end_time": "2025-07-04T00:04:14.116035",
     "exception": false,
     "start_time": "2025-07-04T00:04:14.090996",
     "status": "completed"
    },
    "tags": []
   },
   "source": [
    "## Rules summary"
   ]
  },
  {
   "cell_type": "code",
   "execution_count": 17,
   "metadata": {
    "execution": {
     "iopub.execute_input": "2025-07-04T00:04:14.171525Z",
     "iopub.status.busy": "2025-07-04T00:04:14.171027Z",
     "iopub.status.idle": "2025-07-04T00:04:14.172894Z",
     "shell.execute_reply": "2025-07-04T00:04:14.173375Z"
    },
    "papermill": {
     "duration": 0.032455,
     "end_time": "2025-07-04T00:04:14.173495",
     "exception": false,
     "start_time": "2025-07-04T00:04:14.141040",
     "status": "completed"
    },
    "tags": [
     "hide-input"
    ]
   },
   "outputs": [],
   "source": [
    "description = {}\n",
    "description['CPUBottleneck'] = 'Checks if the CPU utilization is high and the GPU utilization is low. \\\n",
    "It might indicate CPU bottlenecks, where the GPUs are waiting for data to arrive \\\n",
    "from the CPUs. The rule evaluates the CPU and GPU utilization rates, and triggers the issue \\\n",
    "if the time spent on the CPU bottlenecks exceeds a threshold percent of the total training time. The default threshold is 50 percent.'\n",
    "description['IOBottleneck'] =  'Checks if the data I/O wait time is high and the GPU utilization is low. \\\n",
    "It might indicate IO bottlenecks where GPU is waiting for data to arrive from storage. \\\n",
    "The rule evaluates the I/O and GPU utilization rates and triggers the issue \\\n",
    "if the time spent on the IO bottlenecks exceeds a threshold percent of the total training time. The default threshold is 50 percent.'\n",
    "description['Dataloader'] = 'Checks how many data loaders are running in parallel and whether the total number is equal the number \\\n",
    "of available CPU cores. The rule triggers if number is much smaller or larger than the number of available cores. \\\n",
    "If too small, it might lead to low GPU utilization. If too large, it might impact other compute intensive operations on CPU.'\n",
    "description['GPUMemoryIncrease'] = 'Measures the average GPU memory footprint and triggers if there is a large increase.'\n",
    "description['BatchSize'] = 'Checks if GPUs are underutilized because the batch size is too small. \\\n",
    "To detect this problem, the rule analyzes the average GPU memory footprint, \\\n",
    "the CPU and the GPU utilization. '\n",
    "description['LowGPUUtilization'] = 'Checks if the GPU utilization is low or fluctuating. \\\n",
    "This can happen due to bottlenecks, blocking calls for synchronizations, \\\n",
    "or a small batch size.'\n",
    "description['MaxInitializationTime'] = 'Checks if the time spent on initialization exceeds a threshold percent of the total training time. \\\n",
    "The rule waits until the first step of training loop starts. The initialization can take longer \\\n",
    "if downloading the entire dataset from Amazon S3 in File mode. The default threshold is 20 minutes.'\n",
    "description['LoadBalancing'] = 'Detects workload balancing issues across GPUs. \\\n",
    "Workload imbalance can occur in training jobs with data parallelism. \\\n",
    "The gradients are accumulated on a primary GPU, and this GPU might be overused \\\n",
    "with regard to other GPUs, resulting in reducing the efficiency of data parallelization.'\n",
    "description['StepOutlier'] = 'Detects outliers in step duration. The step duration for forward and backward pass should be \\\n",
    "roughly the same throughout the training. If there are significant outliers, \\\n",
    "it may indicate a system stall or bottleneck issues.'"
   ]
  },
  {
   "cell_type": "code",
   "execution_count": 18,
   "metadata": {
    "execution": {
     "iopub.execute_input": "2025-07-04T00:04:14.228030Z",
     "iopub.status.busy": "2025-07-04T00:04:14.227539Z",
     "iopub.status.idle": "2025-07-04T00:04:14.230007Z",
     "shell.execute_reply": "2025-07-04T00:04:14.229515Z"
    },
    "papermill": {
     "duration": 0.031859,
     "end_time": "2025-07-04T00:04:14.230103",
     "exception": false,
     "start_time": "2025-07-04T00:04:14.198244",
     "status": "completed"
    },
    "tags": [
     "hide-input"
    ]
   },
   "outputs": [],
   "source": [
    "recommendation = {}\n",
    "recommendation['CPUBottleneck'] = 'Consider increasing the number of data loaders \\\n",
    "or applying data pre-fetching.'\n",
    "recommendation['IOBottleneck'] = 'Pre-fetch data or choose different file formats, such as binary formats that \\\n",
    "improve I/O performance.'\n",
    "recommendation['Dataloader'] = 'Change the number of data loader processes.'\n",
    "recommendation['GPUMemoryIncrease'] = 'Choose a larger instance type with more memory if footprint is close to maximum available memory.'\n",
    "recommendation['BatchSize'] = 'The batch size is too small, and GPUs are underutilized. Consider running on a smaller instance type or increasing the batch size.'\n",
    "recommendation['LowGPUUtilization'] = 'Check if there are bottlenecks, minimize blocking calls, \\\n",
    "change distributed training strategy, or increase the batch size.'\n",
    "recommendation['MaxInitializationTime'] = 'Initialization takes too long. \\\n",
    "If using File mode, consider switching to Pipe mode in case you are using TensorFlow framework.'\n",
    "recommendation['LoadBalancing'] = 'Choose a different distributed training strategy or \\\n",
    "a different distributed training framework.'\n",
    "recommendation['StepOutlier'] = 'Check if there are any bottlenecks (CPU, I/O) correlated to the step outliers.'"
   ]
  },
  {
   "cell_type": "code",
   "execution_count": 19,
   "metadata": {
    "execution": {
     "iopub.execute_input": "2025-07-04T00:04:14.286313Z",
     "iopub.status.busy": "2025-07-04T00:04:14.285727Z",
     "iopub.status.idle": "2025-07-04T00:04:14.296916Z",
     "shell.execute_reply": "2025-07-04T00:04:14.296506Z"
    },
    "papermill": {
     "duration": 0.042166,
     "end_time": "2025-07-04T00:04:14.297013",
     "exception": false,
     "start_time": "2025-07-04T00:04:14.254847",
     "status": "completed"
    },
    "tags": [
     "hide-input"
    ]
   },
   "outputs": [
    {
     "data": {
      "text/markdown": [
       "The following table shows a profiling summary of the Debugger built-in rules. \n",
       "The table is sorted by the rules that triggered the most frequently. During your training job, the GPUMemoryIncrease rule\n",
       "was the most frequently triggered. It processed 2972 datapoints and was triggered 38 times."
      ],
      "text/plain": [
       "<IPython.core.display.Markdown object>"
      ]
     },
     "metadata": {},
     "output_type": "display_data"
    },
    {
     "data": {
      "text/html": [
       "<table border=\"1\" class=\"dataframe\">\n",
       "  <thead>\n",
       "    <tr style=\"text-align: left;\">\n",
       "      <th></th>\n",
       "      <th>Description</th>\n",
       "      <th>Recommendation</th>\n",
       "      <th>Number of times rule triggered</th>\n",
       "      <th>Number of datapoints</th>\n",
       "      <th>Rule parameters</th>\n",
       "    </tr>\n",
       "  </thead>\n",
       "  <tbody>\n",
       "    <tr style=\"text-align: left;\">\n",
       "      <th>GPUMemoryIncrease</th>\n",
       "      <td>Measures the average GPU memory footprint and triggers if there is a large increase.</td>\n",
       "      <td>Choose a larger instance type with more memory if footprint is close to maximum available memory.</td>\n",
       "      <td>38</td>\n",
       "      <td>2972</td>\n",
       "      <td>increase:5<br>patience:1000<br>window:10</td>\n",
       "    </tr>\n",
       "    <tr style=\"text-align: left;\">\n",
       "      <th>BatchSize</th>\n",
       "      <td>Checks if GPUs are underutilized because the batch size is too small. To detect this problem, the rule analyzes the average GPU memory footprint, the CPU and the GPU utilization.</td>\n",
       "      <td>The batch size is too small, and GPUs are underutilized. Consider running on a smaller instance type or increasing the batch size.</td>\n",
       "      <td>17</td>\n",
       "      <td>2971</td>\n",
       "      <td>cpu_threshold_p95:70<br>gpu_threshold_p95:70<br>gpu_memory_threshold_p95:70<br>patience:1000<br>window:500</td>\n",
       "    </tr>\n",
       "    <tr style=\"text-align: left;\">\n",
       "      <th>LowGPUUtilization</th>\n",
       "      <td>Checks if the GPU utilization is low or fluctuating. This can happen due to bottlenecks, blocking calls for synchronizations, or a small batch size.</td>\n",
       "      <td>Check if there are bottlenecks, minimize blocking calls, change distributed training strategy, or increase the batch size.</td>\n",
       "      <td>17</td>\n",
       "      <td>2972</td>\n",
       "      <td>threshold_p95:70<br>threshold_p5:10<br>window:500<br>patience:1000</td>\n",
       "    </tr>\n",
       "    <tr style=\"text-align: left;\">\n",
       "      <th>StepOutlier</th>\n",
       "      <td>Detects outliers in step duration. The step duration for forward and backward pass should be roughly the same throughout the training. If there are significant outliers, it may indicate a system stall or bottleneck issues.</td>\n",
       "      <td>Check if there are any bottlenecks (CPU, I/O) correlated to the step outliers.</td>\n",
       "      <td>0</td>\n",
       "      <td>3119</td>\n",
       "      <td>threshold:3<br>mode:None<br>n_outliers:10<br>stddev:3</td>\n",
       "    </tr>\n",
       "    <tr style=\"text-align: left;\">\n",
       "      <th>CPUBottleneck</th>\n",
       "      <td>Checks if the CPU utilization is high and the GPU utilization is low. It might indicate CPU bottlenecks, where the GPUs are waiting for data to arrive from the CPUs. The rule evaluates the CPU and GPU utilization rates, and triggers the issue if the time spent on the CPU bottlenecks exceeds a threshold percent of the total training time. The default threshold is 50 percent.</td>\n",
       "      <td>Consider increasing the number of data loaders or applying data pre-fetching.</td>\n",
       "      <td>0</td>\n",
       "      <td>2973</td>\n",
       "      <td>threshold:50<br>cpu_threshold:90<br>gpu_threshold:10<br>patience:1000</td>\n",
       "    </tr>\n",
       "    <tr style=\"text-align: left;\">\n",
       "      <th>Dataloader</th>\n",
       "      <td>Checks how many data loaders are running in parallel and whether the total number is equal the number of available CPU cores. The rule triggers if number is much smaller or larger than the number of available cores. If too small, it might lead to low GPU utilization. If too large, it might impact other compute intensive operations on CPU.</td>\n",
       "      <td>Change the number of data loader processes.</td>\n",
       "      <td>0</td>\n",
       "      <td>1</td>\n",
       "      <td>min_threshold:70<br>max_threshold:200</td>\n",
       "    </tr>\n",
       "    <tr style=\"text-align: left;\">\n",
       "      <th>MaxInitializationTime</th>\n",
       "      <td>Checks if the time spent on initialization exceeds a threshold percent of the total training time. The rule waits until the first step of training loop starts. The initialization can take longer if downloading the entire dataset from Amazon S3 in File mode. The default threshold is 20 minutes.</td>\n",
       "      <td>Initialization takes too long. If using File mode, consider switching to Pipe mode in case you are using TensorFlow framework.</td>\n",
       "      <td>0</td>\n",
       "      <td>3119</td>\n",
       "      <td>threshold:20</td>\n",
       "    </tr>\n",
       "    <tr style=\"text-align: left;\">\n",
       "      <th>IOBottleneck</th>\n",
       "      <td>Checks if the data I/O wait time is high and the GPU utilization is low. It might indicate IO bottlenecks where GPU is waiting for data to arrive from storage. The rule evaluates the I/O and GPU utilization rates and triggers the issue if the time spent on the IO bottlenecks exceeds a threshold percent of the total training time. The default threshold is 50 percent.</td>\n",
       "      <td>Pre-fetch data or choose different file formats, such as binary formats that improve I/O performance.</td>\n",
       "      <td>0</td>\n",
       "      <td>2973</td>\n",
       "      <td>threshold:50<br>io_threshold:50<br>gpu_threshold:10<br>patience:1000</td>\n",
       "    </tr>\n",
       "    <tr style=\"text-align: left;\">\n",
       "      <th>LoadBalancing</th>\n",
       "      <td>Detects workload balancing issues across GPUs. Workload imbalance can occur in training jobs with data parallelism. The gradients are accumulated on a primary GPU, and this GPU might be overused with regard to other GPUs, resulting in reducing the efficiency of data parallelization.</td>\n",
       "      <td>Choose a different distributed training strategy or a different distributed training framework.</td>\n",
       "      <td>0</td>\n",
       "      <td>2972</td>\n",
       "      <td>threshold:0.2<br>patience:1000</td>\n",
       "    </tr>\n",
       "  </tbody>\n",
       "</table>"
      ],
      "text/plain": [
       "<IPython.core.display.HTML object>"
      ]
     },
     "metadata": {},
     "output_type": "display_data"
    }
   ],
   "source": [
    "files = glob.glob('/opt/ml/processing/output/rule/profiler-output/profiler-reports/*json')\n",
    "summary = {}\n",
    "for i in files:\n",
    "    rule_name = i.split('/')[-1].replace('.json','')\n",
    "    if rule_name == \"OverallSystemUsage\" or rule_name == \"OverallFrameworkMetrics\":\n",
    "        continue\n",
    "    rule_report = json.load(open(i))\n",
    "    summary[rule_name] = {}\n",
    "    summary[rule_name]['Description'] = description[rule_name]\n",
    "    summary[rule_name]['Recommendation'] = recommendation[rule_name]\n",
    "    summary[rule_name]['Number of times rule triggered'] = rule_report['RuleTriggered'] \n",
    "    #summary[rule_name]['Number of violations'] = rule_report['Violations'] \n",
    "    summary[rule_name]['Number of datapoints'] = rule_report['Datapoints']\n",
    "    summary[rule_name]['Rule parameters'] = rule_report['RuleParameters']\n",
    "\n",
    "df = pd.DataFrame.from_dict(summary, orient='index')\n",
    "df = df.sort_values(by=['Number of times rule triggered'], ascending=False)\n",
    "\n",
    "\n",
    "display(Markdown(f\"\"\"The following table shows a profiling summary of the Debugger built-in rules. \n",
    "The table is sorted by the rules that triggered the most frequently. During your training job, the {df.index[0]} rule\n",
    "was the most frequently triggered. It processed {df.values[0,3]} datapoints and was triggered {df.values[0,2]} times.\"\"\"))\n",
    "\n",
    "with pd.option_context('display.colheader_justify','left'):    \n",
    "    pretty_print(df)"
   ]
  },
  {
   "cell_type": "code",
   "execution_count": 20,
   "metadata": {
    "execution": {
     "iopub.execute_input": "2025-07-04T00:04:14.353841Z",
     "iopub.status.busy": "2025-07-04T00:04:14.353309Z",
     "iopub.status.idle": "2025-07-04T00:04:14.356133Z",
     "shell.execute_reply": "2025-07-04T00:04:14.356546Z"
    },
    "papermill": {
     "duration": 0.033891,
     "end_time": "2025-07-04T00:04:14.356660",
     "exception": false,
     "start_time": "2025-07-04T00:04:14.322769",
     "status": "completed"
    },
    "tags": [
     "hide-input"
    ]
   },
   "outputs": [
    {
     "data": {
      "text/markdown": [
       "## Analyzing the training loop\n",
       "\n"
      ],
      "text/plain": [
       "<IPython.core.display.Markdown object>"
      ]
     },
     "metadata": {},
     "output_type": "display_data"
    }
   ],
   "source": [
    "analyse_phase = \"training\"\n",
    "if job_statistics and \"initialization_in_seconds\" in job_statistics:\n",
    "    if job_statistics[\"initialization_in_seconds\"] > job_statistics[\"training_loop_duration_in_seconds\"]:\n",
    "        analyse_phase = \"initialization\"\n",
    "        time = job_statistics[\"initialization_in_seconds\"]\n",
    "        perc = job_statistics[\"initialization_%\"]\n",
    "        display(Markdown(f\"\"\"The initialization phase took {int(time)} seconds, which is {int(perc)}%*\n",
    "        of the total training time. Since the training loop has taken the most time, \n",
    "        we dive deep into the events occurring during this phase\"\"\"))\n",
    "        display(Markdown(\"\"\"## Analyzing initialization\\n\\n\"\"\"))\n",
    "    time = job_statistics[\"training_loop_duration_in_seconds\"]\n",
    "    perc = job_statistics[\"training_loop_%\"]\n",
    "    display(Markdown(f\"\"\"The training loop lasted for {int(time)} seconds which is {int(perc)}% of the training job time.\n",
    "                    Since the training loop has taken the most time, we dive deep into the events occured during this phase.\"\"\"))\n",
    "if analyse_phase == 'training':\n",
    "    display(Markdown(\"\"\"## Analyzing the training loop\\n\\n\"\"\"))"
   ]
  },
  {
   "cell_type": "code",
   "execution_count": 21,
   "metadata": {
    "execution": {
     "iopub.execute_input": "2025-07-04T00:04:14.414166Z",
     "iopub.status.busy": "2025-07-04T00:04:14.413680Z",
     "iopub.status.idle": "2025-07-04T00:04:14.416061Z",
     "shell.execute_reply": "2025-07-04T00:04:14.415655Z"
    },
    "papermill": {
     "duration": 0.033516,
     "end_time": "2025-07-04T00:04:14.416157",
     "exception": false,
     "start_time": "2025-07-04T00:04:14.382641",
     "status": "completed"
    },
    "tags": [
     "hide-input"
    ]
   },
   "outputs": [],
   "source": [
    "if analyse_phase == \"initialization\":\n",
    "    display(Markdown(\"\"\"### MaxInitializationTime\\n\\nThis rule helps to detect if the training initialization is taking too much time. \\nThe rule waits until first step is available. The rule takes the parameter `threshold` that defines how many minutes to wait for the first step to become available. Default is 20 minutes.\\nYou can run the rule locally in the following way:\n",
    "    \"\"\"))\n",
    "    \n",
    "    _ = load_report(\"MaxInitializationTime\")"
   ]
  },
  {
   "cell_type": "code",
   "execution_count": 22,
   "metadata": {
    "execution": {
     "iopub.execute_input": "2025-07-04T00:04:14.496181Z",
     "iopub.status.busy": "2025-07-04T00:04:14.487192Z",
     "iopub.status.idle": "2025-07-04T00:04:14.560566Z",
     "shell.execute_reply": "2025-07-04T00:04:14.560948Z"
    },
    "papermill": {
     "duration": 0.118739,
     "end_time": "2025-07-04T00:04:14.561065",
     "exception": false,
     "start_time": "2025-07-04T00:04:14.442326",
     "status": "completed"
    },
    "tags": [
     "hide-input"
    ]
   },
   "outputs": [
    {
     "data": {
      "text/markdown": [
       "### Step duration analysis"
      ],
      "text/plain": [
       "<IPython.core.display.Markdown object>"
      ]
     },
     "metadata": {},
     "output_type": "display_data"
    },
    {
     "data": {
      "text/html": [
       "\n",
       "\n",
       "\n",
       "\n",
       "\n",
       "\n",
       "  <div class=\"bk-root\" id=\"a69e54dd-7531-4d93-9259-eb84d6b07b20\" data-root-id=\"2009\"></div>\n"
      ]
     },
     "metadata": {},
     "output_type": "display_data"
    },
    {
     "data": {
      "application/javascript": [
       "(function(root) {\n",
       "  function embed_document(root) {\n",
       "    \n",
       "  var docs_json = {\"53c2f1b8-bf5b-4aad-95ea-d35c4b51d7e4\":{\"roots\":{\"references\":[{\"attributes\":{\"children\":[{\"id\":\"2008\"}]},\"id\":\"2009\",\"type\":\"Column\"},{\"attributes\":{\"text\":\"The StepOutlier rule measures step durations and checks for outliers. The rule \\n        returns True if duration is larger than 3 times the standard deviation. The rule \\n        also takes the parameter mode, that specifies whether steps from training or validation phase \\n        should be checked. In your processing job mode was specified as None. \\n        Typically the first step is taking significantly more time and to avoid the \\n        rule triggering immediately, one can use n_outliers to specify the number of outliers to ignore. \\n        n_outliers was set to 10.\\n        The rule analysed 3119 datapoints and triggered 0 times.\\n        \",\"width\":900},\"id\":\"2008\",\"type\":\"Paragraph\"}],\"root_ids\":[\"2009\"]},\"title\":\"Bokeh Application\",\"version\":\"2.2.3\"}};\n",
       "  var render_items = [{\"docid\":\"53c2f1b8-bf5b-4aad-95ea-d35c4b51d7e4\",\"root_ids\":[\"2009\"],\"roots\":{\"2009\":\"a69e54dd-7531-4d93-9259-eb84d6b07b20\"}}];\n",
       "  root.Bokeh.embed.embed_items_notebook(docs_json, render_items);\n",
       "\n",
       "  }\n",
       "  if (root.Bokeh !== undefined) {\n",
       "    embed_document(root);\n",
       "  } else {\n",
       "    var attempts = 0;\n",
       "    var timer = setInterval(function(root) {\n",
       "      if (root.Bokeh !== undefined) {\n",
       "        clearInterval(timer);\n",
       "        embed_document(root);\n",
       "      } else {\n",
       "        attempts++;\n",
       "        if (attempts > 100) {\n",
       "          clearInterval(timer);\n",
       "          console.log(\"Bokeh: ERROR: Unable to run BokehJS code because BokehJS library is missing\");\n",
       "        }\n",
       "      }\n",
       "    }, 10, root)\n",
       "  }\n",
       "})(window);"
      ],
      "application/vnd.bokehjs_exec.v0+json": ""
     },
     "metadata": {
      "application/vnd.bokehjs_exec.v0+json": {
       "id": "2009"
      }
     },
     "output_type": "display_data"
    },
    {
     "data": {
      "text/markdown": [
       "**Step durations on node algo-1-40:**"
      ],
      "text/plain": [
       "<IPython.core.display.Markdown object>"
      ]
     },
     "metadata": {},
     "output_type": "display_data"
    },
    {
     "data": {
      "text/markdown": [
       "The following table is a summary of the statistics of step durations measured on node algo-1-40.\n",
       "                The rule has analyzed the step duration from Step:ModeKeys.EVAL phase.\n",
       "                The average step duration on node algo-1-40 was 0.04s. \n",
       "                The rule detected 2 outliers, where step duration was larger than 3 times the standard deviation of 0.22s\n",
       "                                 \n"
      ],
      "text/plain": [
       "<IPython.core.display.Markdown object>"
      ]
     },
     "metadata": {},
     "output_type": "display_data"
    },
    {
     "data": {
      "text/html": [
       "<table border=\"1\" class=\"dataframe\">\n",
       "  <thead>\n",
       "    <tr style=\"text-align: right;\">\n",
       "      <th></th>\n",
       "      <th>mean</th>\n",
       "      <th>max</th>\n",
       "      <th>p99</th>\n",
       "      <th>p95</th>\n",
       "      <th>p50</th>\n",
       "      <th>min</th>\n",
       "    </tr>\n",
       "  </thead>\n",
       "  <tbody>\n",
       "    <tr style=\"text-align: left;\">\n",
       "      <th>Step Durations in [s]</th>\n",
       "      <td>0.04</td>\n",
       "      <td>3.85</td>\n",
       "      <td>0.04</td>\n",
       "      <td>0.04</td>\n",
       "      <td>0.03</td>\n",
       "      <td>0.03</td>\n",
       "    </tr>\n",
       "  </tbody>\n",
       "</table>"
      ],
      "text/plain": [
       "<IPython.core.display.HTML object>"
      ]
     },
     "metadata": {},
     "output_type": "display_data"
    },
    {
     "data": {
      "text/markdown": [
       "The following histogram shows the step durations measured on the different nodes. \n",
       "                You can turn on or turn off the visualization of histograms by selecting or unselecting the labels in the legend."
      ],
      "text/plain": [
       "<IPython.core.display.Markdown object>"
      ]
     },
     "metadata": {},
     "output_type": "display_data"
    },
    {
     "data": {
      "text/html": [
       "\n",
       "\n",
       "\n",
       "\n",
       "\n",
       "\n",
       "  <div class=\"bk-root\" id=\"3170d227-9e85-4d3f-a298-0cdcca396bd9\" data-root-id=\"2092\"></div>\n"
      ]
     },
     "metadata": {},
     "output_type": "display_data"
    },
    {
     "data": {
      "application/javascript": [
       "(function(root) {\n",
       "  function embed_document(root) {\n",
       "    \n",
       "  var docs_json = {\"414c0979-dae9-4716-9900-e240af1bac10\":{\"roots\":{\"references\":[{\"attributes\":{\"below\":[{\"id\":\"2103\"}],\"center\":[{\"id\":\"2106\"},{\"id\":\"2110\"},{\"id\":\"2138\"}],\"left\":[{\"id\":\"2107\"}],\"plot_height\":450,\"plot_width\":850,\"renderers\":[{\"id\":\"2128\"}],\"right\":[{\"id\":\"2140\"}],\"title\":{\"id\":\"2093\"},\"toolbar\":{\"id\":\"2118\"},\"x_range\":{\"id\":\"2095\"},\"x_scale\":{\"id\":\"2099\"},\"y_range\":{\"id\":\"2097\"},\"y_scale\":{\"id\":\"2101\"}},\"id\":\"2092\",\"subtype\":\"Figure\",\"type\":\"Plot\"},{\"attributes\":{},\"id\":\"2111\",\"type\":\"PanTool\"},{\"attributes\":{\"click_policy\":\"hide\",\"items\":[{\"id\":\"2139\"}],\"location\":\"center_right\"},\"id\":\"2138\",\"type\":\"Legend\"},{\"attributes\":{\"bottom\":{\"value\":0},\"fill_alpha\":{\"value\":0.1},\"fill_color\":{\"value\":\"#440154\"},\"left\":{\"field\":\"left\"},\"line_alpha\":{\"value\":0.1},\"line_color\":{\"value\":\"white\"},\"right\":{\"field\":\"right\"},\"top\":{\"field\":\"top\"}},\"id\":\"2127\",\"type\":\"Quad\"},{\"attributes\":{},\"id\":\"2112\",\"type\":\"WheelZoomTool\"},{\"attributes\":{},\"id\":\"2099\",\"type\":\"LinearScale\"},{\"attributes\":{\"overlay\":{\"id\":\"2117\"}},\"id\":\"2113\",\"type\":\"BoxZoomTool\"},{\"attributes\":{},\"id\":\"2104\",\"type\":\"BasicTicker\"},{\"attributes\":{},\"id\":\"2114\",\"type\":\"SaveTool\"},{\"attributes\":{},\"id\":\"2115\",\"type\":\"ResetTool\"},{\"attributes\":{},\"id\":\"2135\",\"type\":\"UnionRenderers\"},{\"attributes\":{},\"id\":\"2131\",\"type\":\"BasicTickFormatter\"},{\"attributes\":{},\"id\":\"2101\",\"type\":\"LinearScale\"},{\"attributes\":{\"source\":{\"id\":\"2125\"}},\"id\":\"2129\",\"type\":\"CDSView\"},{\"attributes\":{},\"id\":\"2133\",\"type\":\"BasicTickFormatter\"},{\"attributes\":{},\"id\":\"2116\",\"type\":\"HelpTool\"},{\"attributes\":{\"start\":0},\"id\":\"2097\",\"type\":\"DataRange1d\"},{\"attributes\":{},\"id\":\"2095\",\"type\":\"DataRange1d\"},{\"attributes\":{\"axis_label\":\"Occurrences\",\"formatter\":{\"id\":\"2131\"},\"ticker\":{\"id\":\"2108\"}},\"id\":\"2107\",\"type\":\"LinearAxis\"},{\"attributes\":{},\"id\":\"2136\",\"type\":\"Selection\"},{\"attributes\":{\"axis_label\":\"Step durations in [s]\",\"formatter\":{\"id\":\"2133\"},\"ticker\":{\"id\":\"2104\"}},\"id\":\"2103\",\"type\":\"LinearAxis\"},{\"attributes\":{\"click_policy\":\"hide\",\"location\":\"center_right\"},\"id\":\"2140\",\"type\":\"Legend\"},{\"attributes\":{},\"id\":\"2108\",\"type\":\"BasicTicker\"},{\"attributes\":{\"label\":{\"value\":\"algo-1-40\"},\"renderers\":[{\"id\":\"2128\"}]},\"id\":\"2139\",\"type\":\"LegendItem\"},{\"attributes\":{\"axis\":{\"id\":\"2107\"},\"dimension\":1,\"grid_line_color\":\"white\",\"ticker\":null},\"id\":\"2110\",\"type\":\"Grid\"},{\"attributes\":{\"axis\":{\"id\":\"2103\"},\"grid_line_color\":\"white\",\"ticker\":null},\"id\":\"2106\",\"type\":\"Grid\"},{\"attributes\":{\"bottom\":{\"value\":0},\"fill_alpha\":{\"value\":0.7},\"fill_color\":{\"value\":\"#440154\"},\"left\":{\"field\":\"left\"},\"line_color\":{\"value\":\"white\"},\"right\":{\"field\":\"right\"},\"top\":{\"field\":\"top\"}},\"id\":\"2126\",\"type\":\"Quad\"},{\"attributes\":{\"data\":{\"left\":[0.025408,0.02557467,0.02574134,0.02590801,0.02607468,0.02624135,0.02640802,0.02657469,0.02674136,0.02690803,0.0270747,0.02724137,0.02740804,0.02757471,0.02774138,0.02790805,0.02807472,0.028241389999999998,0.02840806,0.02857473,0.0287414,0.02890807,0.02907474,0.02924141,0.02940808,0.02957475,0.02974142,0.02990809,0.03007476,0.03024143,0.0304081,0.03057477,0.030741440000000002,0.03090811,0.03107478,0.03124145,0.03140812,0.03157479,0.03174146,0.03190813,0.0320748,0.03224147,0.03240814,0.03257481,0.03274148,0.03290815,0.03307482,0.03324149,0.03340816,0.03357483,0.0337415,0.03390817,0.03407484,0.03424151,0.03440818,0.034574850000000004,0.03474152,0.03490819,0.03507486,0.03524153,0.0354082,0.03557487,0.03574154,0.035908209999999996,0.036074880000000004,0.03624155,0.03640822,0.03657489,0.03674156,0.03690823,0.0370749,0.03724157,0.03740824,0.03757491,0.03774158,0.037908250000000004,0.03807492,0.03824159,0.03840826,0.03857493,0.0387416,0.03890827,0.03907494,0.039241609999999996,0.039408280000000004,0.03957495,0.03974162,0.03990829,0.04007496,0.04024163,0.0404083,0.04057497,0.04074164,0.04090831,0.04107498,0.041241650000000005,0.04140832,0.04157499,0.04174166,0.04190833],\"right\":[0.02557467,0.02574134,0.02590801,0.02607468,0.02624135,0.02640802,0.02657469,0.02674136,0.02690803,0.0270747,0.02724137,0.02740804,0.02757471,0.02774138,0.02790805,0.02807472,0.028241389999999998,0.02840806,0.02857473,0.0287414,0.02890807,0.02907474,0.02924141,0.02940808,0.02957475,0.02974142,0.02990809,0.03007476,0.03024143,0.0304081,0.03057477,0.030741440000000002,0.03090811,0.03107478,0.03124145,0.03140812,0.03157479,0.03174146,0.03190813,0.0320748,0.03224147,0.03240814,0.03257481,0.03274148,0.03290815,0.03307482,0.03324149,0.03340816,0.03357483,0.0337415,0.03390817,0.03407484,0.03424151,0.03440818,0.034574850000000004,0.03474152,0.03490819,0.03507486,0.03524153,0.0354082,0.03557487,0.03574154,0.035908209999999996,0.036074880000000004,0.03624155,0.03640822,0.03657489,0.03674156,0.03690823,0.0370749,0.03724157,0.03740824,0.03757491,0.03774158,0.037908250000000004,0.03807492,0.03824159,0.03840826,0.03857493,0.0387416,0.03890827,0.03907494,0.039241609999999996,0.039408280000000004,0.03957495,0.03974162,0.03990829,0.04007496,0.04024163,0.0404083,0.04057497,0.04074164,0.04090831,0.04107498,0.041241650000000005,0.04140832,0.04157499,0.04174166,0.04190833,0.042075],\"top\":[5,1,1,0,0,0,0,1,0,0,0,0,0,0,0,0,0,0,0,0,0,0,0,6,15,50,61,73,62,55,41,53,27,30,9,13,9,7,1,4,3,3,1,1,3,2,2,0,1,5,0,0,3,3,5,4,1,0,1,1,1,1,4,1,1,0,1,0,1,1,0,2,0,0,3,2,4,2,1,2,1,1,1,1,0,0,0,0,0,0,0,1,0,0,0,0,1,0,0,1]},\"selected\":{\"id\":\"2136\"},\"selection_policy\":{\"id\":\"2135\"}},\"id\":\"2125\",\"type\":\"ColumnDataSource\"},{\"attributes\":{\"text\":\"Step durations\"},\"id\":\"2093\",\"type\":\"Title\"},{\"attributes\":{\"bottom_units\":\"screen\",\"fill_alpha\":0.5,\"fill_color\":\"lightgrey\",\"left_units\":\"screen\",\"level\":\"overlay\",\"line_alpha\":1.0,\"line_color\":\"black\",\"line_dash\":[4,4],\"line_width\":2,\"right_units\":\"screen\",\"top_units\":\"screen\"},\"id\":\"2117\",\"type\":\"BoxAnnotation\"},{\"attributes\":{\"active_drag\":\"auto\",\"active_inspect\":\"auto\",\"active_multi\":null,\"active_scroll\":\"auto\",\"active_tap\":\"auto\",\"tools\":[{\"id\":\"2111\"},{\"id\":\"2112\"},{\"id\":\"2113\"},{\"id\":\"2114\"},{\"id\":\"2115\"},{\"id\":\"2116\"}]},\"id\":\"2118\",\"type\":\"Toolbar\"},{\"attributes\":{\"data_source\":{\"id\":\"2125\"},\"glyph\":{\"id\":\"2126\"},\"hover_glyph\":null,\"muted_glyph\":null,\"nonselection_glyph\":{\"id\":\"2127\"},\"selection_glyph\":null,\"view\":{\"id\":\"2129\"}},\"id\":\"2128\",\"type\":\"GlyphRenderer\"}],\"root_ids\":[\"2092\"]},\"title\":\"Bokeh Application\",\"version\":\"2.2.3\"}};\n",
       "  var render_items = [{\"docid\":\"414c0979-dae9-4716-9900-e240af1bac10\",\"root_ids\":[\"2092\"],\"roots\":{\"2092\":\"3170d227-9e85-4d3f-a298-0cdcca396bd9\"}}];\n",
       "  root.Bokeh.embed.embed_items_notebook(docs_json, render_items);\n",
       "\n",
       "  }\n",
       "  if (root.Bokeh !== undefined) {\n",
       "    embed_document(root);\n",
       "  } else {\n",
       "    var attempts = 0;\n",
       "    var timer = setInterval(function(root) {\n",
       "      if (root.Bokeh !== undefined) {\n",
       "        clearInterval(timer);\n",
       "        embed_document(root);\n",
       "      } else {\n",
       "        attempts++;\n",
       "        if (attempts > 100) {\n",
       "          clearInterval(timer);\n",
       "          console.log(\"Bokeh: ERROR: Unable to run BokehJS code because BokehJS library is missing\");\n",
       "        }\n",
       "      }\n",
       "    }, 10, root)\n",
       "  }\n",
       "})(window);"
      ],
      "application/vnd.bokehjs_exec.v0+json": ""
     },
     "metadata": {
      "application/vnd.bokehjs_exec.v0+json": {
       "id": "2092"
      }
     },
     "output_type": "display_data"
    }
   ],
   "source": [
    "if analyse_phase == \"training\":\n",
    "    display(Markdown(\"\"\"### Step duration analysis\"\"\"))\n",
    "    report = load_report('StepOutlier')\n",
    "    if report:\n",
    "        parameters = report['RuleParameters']\n",
    "        params = report['RuleParameters'].split('\\n')\n",
    "        stddev = params[3].split(':')[1]\n",
    "        mode = params[1].split(':')[1]\n",
    "        n_outlier = params[2].split(':')[1]\n",
    "        triggered = report['RuleTriggered']\n",
    "        datapoints = report['Datapoints']\n",
    "\n",
    "        text = f\"\"\"The StepOutlier rule measures step durations and checks for outliers. The rule \n",
    "        returns True if duration is larger than {stddev} times the standard deviation. The rule \n",
    "        also takes the parameter mode, that specifies whether steps from training or validation phase \n",
    "        should be checked. In your processing job mode was specified as {mode}. \n",
    "        Typically the first step is taking significantly more time and to avoid the \n",
    "        rule triggering immediately, one can use n_outliers to specify the number of outliers to ignore. \n",
    "        n_outliers was set to {n_outlier}.\n",
    "        The rule analysed {datapoints} datapoints and triggered {triggered} times.\n",
    "        \"\"\"\n",
    "\n",
    "        paragraph = Paragraph(text=text, width=900)\n",
    "        show(column(paragraph))\n",
    "\n",
    "        if report and len(report['Details']['step_details']) > 0:\n",
    "            for node_id in report['Details']['step_details']:\n",
    "                tmp = report['RuleParameters'].split('threshold:')\n",
    "                threshold = tmp[1].split('\\n')[0]\n",
    "                n_outliers = report['Details']['step_details'][node_id]['number_of_outliers']\n",
    "                mean = report['Details']['step_details'][node_id]['step_stats']['mean']\n",
    "                stddev = report['Details']['step_details'][node_id]['stddev']\n",
    "                phase = report['Details']['step_details'][node_id]['phase']\n",
    "                display(Markdown(f\"\"\"**Step durations on node {node_id}:**\"\"\"))\n",
    "                display(Markdown(f\"\"\"The following table is a summary of the statistics of step durations measured on node {node_id}.\n",
    "                The rule has analyzed the step duration from {phase} phase.\n",
    "                The average step duration on node {node_id} was {round(mean, 2)}s. \n",
    "                The rule detected {n_outliers} outliers, where step duration was larger than {threshold} times the standard deviation of {stddev}s\n",
    "                                 \\n\"\"\"))\n",
    "                step_stats_df = pd.DataFrame.from_dict(report['Details']['step_details'][node_id]['step_stats'], orient='index').T\n",
    "                step_stats_df.index = ['Step Durations in [s]']\n",
    "                pretty_print(step_stats_df)\n",
    "\n",
    "            display(Markdown(f\"\"\"The following histogram shows the step durations measured on the different nodes. \n",
    "                You can turn on or turn off the visualization of histograms by selecting or unselecting the labels in the legend.\"\"\"))\n",
    "\n",
    "            plot = figure(plot_height=450, \n",
    "                              plot_width=850, \n",
    "                              title=f\"\"\"Step durations\"\"\")  \n",
    "\n",
    "            colors = bokeh.palettes.viridis(len(report['Details']['step_details']))\n",
    "\n",
    "            for index, node_id in enumerate(report['Details']['step_details']):\n",
    "                probs = report['Details']['step_details'][node_id]['probs']\n",
    "                binedges = report['Details']['step_details'][node_id]['binedges']\n",
    "\n",
    "                plot.quad( top=probs,\n",
    "                        bottom=0,\n",
    "                        left=binedges[:-1],\n",
    "                        right=binedges[1:],\n",
    "                        line_color=\"white\",\n",
    "                        fill_color=colors[index],\n",
    "                        fill_alpha=0.7,\n",
    "                        legend=node_id)\n",
    "\n",
    "            plot.add_layout(Legend(), 'right')    \n",
    "            plot.y_range.start = 0\n",
    "            plot.xaxis.axis_label = f\"\"\"Step durations in [s]\"\"\"\n",
    "            plot.yaxis.axis_label = \"Occurrences\"\n",
    "            plot.grid.grid_line_color = \"white\"\n",
    "            plot.legend.click_policy=\"hide\"\n",
    "            plot.legend.location = 'center_right'\n",
    "            show(plot)\n",
    "\n",
    "        if report['RuleTriggered'] > 0:\n",
    "\n",
    "            text=f\"\"\"To get a better understanding of what may have caused those outliers,\n",
    "            we correlate the timestamps of step outliers with other framework metrics that happened at the same time.\n",
    "            The left chart shows how much time was spent in the different framework\n",
    "            metrics aggregated by event phase. The chart on the right shows the histogram of normal step durations (without\n",
    "            outliers). The following chart shows how much time was spent in the different \n",
    "            framework metrics when step outliers occurred. In this chart framework metrics are not aggregated byphase.\"\"\"\n",
    "            plots = []\n",
    "            if 'phase' in report['Details']:\n",
    "                text = f\"\"\"{text} The chart (in the middle) shows whether step outliers mainly happened during TRAIN or EVAL phase.\n",
    "                \"\"\"\n",
    "\n",
    "                plot = create_piechart(report['Details']['phase'], \n",
    "                                    height=350,\n",
    "                                    width=600,\n",
    "                                    x1=0.2,\n",
    "                                    x2=0.6,\n",
    "                                    radius=0.3, \n",
    "                                    title=\"The ratio between the time spent on the TRAIN/EVAL phase\")\n",
    "                plots.append(plot)\n",
    "\n",
    "            if 'forward_backward' in report['Details'] and  len(report['Details']['forward_backward']) > 0:\n",
    "\n",
    "                event = max(report['Details']['forward_backward'], key=report['Details']['forward_backward'].get)\n",
    "                perc = report['Details']['forward_backward'][event]\n",
    "\n",
    "                text = f\"\"\"{text} The pie chart on the right shows a detailed breakdown. \n",
    "                It shows that {int(perc)}% of the training time was spent on event \"{event}\".\"\"\"\n",
    "\n",
    "                plot = create_piechart(report['Details']['forward_backward'], \n",
    "                                    height=350,\n",
    "                                    width=600,\n",
    "                                    x1=0.2,\n",
    "                                    x2=0.6,\n",
    "                                    radius=0.3, \n",
    "                                    title=\"The Ratio between forward and backward pass\") \n",
    "                plots.append(plot)\n",
    "\n",
    "            if len(plots) > 0:\n",
    "                paragraph = Paragraph(text=text, width=900)\n",
    "                show(column(paragraph, row(plots)))\n",
    "\n",
    "            plots = []\n",
    "            text = \"\"\n",
    "            if 'ratio' in report['Details'] and len(report['Details']['ratio']) > 0:\n",
    "\n",
    "                key = list(report['Details']['ratio'].keys())[0]\n",
    "                ratio = report['Details']['ratio'][key]\n",
    "\n",
    "                text = f\"\"\"The following pie chart shows a breakdown of the CPU/GPU operators executed during the step outliers. \n",
    "                    It shows that {int(ratio)}% of the training time was spent on executing operators in \"{key}\".\"\"\"\n",
    "\n",
    "                plot = create_piechart(report['Details']['ratio'], \n",
    "                                        height=350,\n",
    "                                        width=600,\n",
    "                                        x1=0.2,\n",
    "                                        x2=0.6,\n",
    "                                        radius=0.3, \n",
    "                                        title=\"The ratio between CPU/GPU operators\")\n",
    "                plots.append(plot)\n",
    "\n",
    "\n",
    "            if 'general' in report['Details'] and len(report['Details']['general']) > 0:\n",
    "\n",
    "                event = max(report['Details']['general'], key=report['Details']['general'].get)\n",
    "                perc = report['Details']['general'][event]\n",
    "\n",
    "                plot = create_piechart(report['Details']['general'], \n",
    "                                    height=350,\n",
    "                                    width=600,\n",
    "                                    x1=0.2,\n",
    "                                    x2=0.6,\n",
    "                                    radius=0.3, \n",
    "                                    title=\"General metrics recorded in framework \")\n",
    "                plots.append(plot)\n",
    "\n",
    "            if len(plots) > 0:\n",
    "                paragraph = Paragraph(text=text, width=900)\n",
    "                show(column(paragraph, row(plots)))\n",
    "\n",
    "            plots = []\n",
    "            text = \"\"\n",
    "            if 'horovod' in report['Details'] and len(report['Details']['horovod']) > 0:\n",
    "\n",
    "                event = max(report['Details']['horovod'], key=report['Details']['horovod'].get)\n",
    "                perc = report['Details']['horovod'][event]\n",
    "                text = f\"\"\"The following pie chart shows a detailed breakdown of the Horovod metrics that have been\n",
    "                recorded when step outliers happened. The most expensive function was {event} with {int(perc)}%\"\"\"\n",
    "\n",
    "                plot = create_piechart(report['Details']['horovod'], \n",
    "                                    height=350,\n",
    "                                    width=600,\n",
    "                                    x1=0.2,\n",
    "                                    x2=0.6,\n",
    "                                    radius=0.3, \n",
    "                                    title=\"General metrics recorded in framework \")\n",
    "\n",
    "                paragraph = Paragraph(text=text, width=900)\n",
    "                show(column(paragraph, row(plot)))      "
   ]
  },
  {
   "cell_type": "code",
   "execution_count": 23,
   "metadata": {
    "execution": {
     "iopub.execute_input": "2025-07-04T00:04:14.635649Z",
     "iopub.status.busy": "2025-07-04T00:04:14.635125Z",
     "iopub.status.idle": "2025-07-04T00:04:14.748815Z",
     "shell.execute_reply": "2025-07-04T00:04:14.748100Z"
    },
    "papermill": {
     "duration": 0.158965,
     "end_time": "2025-07-04T00:04:14.748977",
     "exception": false,
     "start_time": "2025-07-04T00:04:14.590012",
     "status": "completed"
    },
    "tags": [
     "hide-input"
    ]
   },
   "outputs": [
    {
     "data": {
      "text/markdown": [
       "### GPU utilization analysis\n",
       "\n"
      ],
      "text/plain": [
       "<IPython.core.display.Markdown object>"
      ]
     },
     "metadata": {},
     "output_type": "display_data"
    },
    {
     "data": {
      "text/markdown": [
       "**Usage per GPU** \n",
       "\n"
      ],
      "text/plain": [
       "<IPython.core.display.Markdown object>"
      ]
     },
     "metadata": {},
     "output_type": "display_data"
    },
    {
     "data": {
      "text/html": [
       "\n",
       "\n",
       "\n",
       "\n",
       "\n",
       "\n",
       "  <div class=\"bk-root\" id=\"c3876463-2a25-4d58-a53c-394f5822b3dc\" data-root-id=\"2271\"></div>\n"
      ]
     },
     "metadata": {},
     "output_type": "display_data"
    },
    {
     "data": {
      "application/javascript": [
       "(function(root) {\n",
       "  function embed_document(root) {\n",
       "    \n",
       "  var docs_json = {\"d25308de-db0d-4cf5-bc24-6994215adb8d\":{\"roots\":{\"references\":[{\"attributes\":{\"text\":\"The LowGPUUtilization rule checks for a low and fluctuating GPU usage. If the GPU usage is \\n        consistently low, it might be caused by bottlenecks or a small batch size. If usage is heavily \\n        fluctuating, it can be due to bottlenecks or blocking calls. The rule computed the 95th and 5th \\n        percentile of GPU utilization on 500 continuous datapoints and found 17 cases where \\n        p95 was above 70% and p5 was below 10%. If p95 is high and p5 is low,\\n        it might indicate that the GPU usage is highly fluctuating. If both values are very low, \\n        it would mean that the machine is underutilized. During initialization, the GPU usage is likely zero, \\n        so the rule skipped the first 1000 data points.\\n        The rule analysed 2972 datapoints and triggered 17 times.\",\"width\":800},\"id\":\"2271\",\"type\":\"Paragraph\"}],\"root_ids\":[\"2271\"]},\"title\":\"Bokeh Application\",\"version\":\"2.2.3\"}};\n",
       "  var render_items = [{\"docid\":\"d25308de-db0d-4cf5-bc24-6994215adb8d\",\"root_ids\":[\"2271\"],\"roots\":{\"2271\":\"c3876463-2a25-4d58-a53c-394f5822b3dc\"}}];\n",
       "  root.Bokeh.embed.embed_items_notebook(docs_json, render_items);\n",
       "\n",
       "  }\n",
       "  if (root.Bokeh !== undefined) {\n",
       "    embed_document(root);\n",
       "  } else {\n",
       "    var attempts = 0;\n",
       "    var timer = setInterval(function(root) {\n",
       "      if (root.Bokeh !== undefined) {\n",
       "        clearInterval(timer);\n",
       "        embed_document(root);\n",
       "      } else {\n",
       "        attempts++;\n",
       "        if (attempts > 100) {\n",
       "          clearInterval(timer);\n",
       "          console.log(\"Bokeh: ERROR: Unable to run BokehJS code because BokehJS library is missing\");\n",
       "        }\n",
       "      }\n",
       "    }, 10, root)\n",
       "  }\n",
       "})(window);"
      ],
      "application/vnd.bokehjs_exec.v0+json": ""
     },
     "metadata": {
      "application/vnd.bokehjs_exec.v0+json": {
       "id": "2271"
      }
     },
     "output_type": "display_data"
    },
    {
     "data": {
      "text/html": [
       "\n",
       "\n",
       "\n",
       "\n",
       "\n",
       "\n",
       "  <div class=\"bk-root\" id=\"bed34b94-36c5-4e4f-80c6-24a8ce754bac\" data-root-id=\"2362\"></div>\n"
      ]
     },
     "metadata": {},
     "output_type": "display_data"
    },
    {
     "data": {
      "application/javascript": [
       "(function(root) {\n",
       "  function embed_document(root) {\n",
       "    \n",
       "  var docs_json = {\"f2beab57-b6fb-41a2-8284-f4ccaae56c56\":{\"roots\":{\"references\":[{\"attributes\":{\"text\":\"Your training job is underutilizing the instance. You may want to consider\\n            to either switch to a smaller instance type or to increase the batch size. \\n            The last time that the LowGPUUtilization rule was triggered in your training job was on 07/04/2025 at 00:03:00.\\n            The following boxplots are a snapshot from the timestamps. \\n            They show the utilization per GPU (without outliers).\\n            To get a better understanding of the workloads throughout the whole training,\\n            you can check the workload histogram in the next section.\",\"width\":800},\"id\":\"2362\",\"type\":\"Paragraph\"}],\"root_ids\":[\"2362\"]},\"title\":\"Bokeh Application\",\"version\":\"2.2.3\"}};\n",
       "  var render_items = [{\"docid\":\"f2beab57-b6fb-41a2-8284-f4ccaae56c56\",\"root_ids\":[\"2362\"],\"roots\":{\"2362\":\"bed34b94-36c5-4e4f-80c6-24a8ce754bac\"}}];\n",
       "  root.Bokeh.embed.embed_items_notebook(docs_json, render_items);\n",
       "\n",
       "  }\n",
       "  if (root.Bokeh !== undefined) {\n",
       "    embed_document(root);\n",
       "  } else {\n",
       "    var attempts = 0;\n",
       "    var timer = setInterval(function(root) {\n",
       "      if (root.Bokeh !== undefined) {\n",
       "        clearInterval(timer);\n",
       "        embed_document(root);\n",
       "      } else {\n",
       "        attempts++;\n",
       "        if (attempts > 100) {\n",
       "          clearInterval(timer);\n",
       "          console.log(\"Bokeh: ERROR: Unable to run BokehJS code because BokehJS library is missing\");\n",
       "        }\n",
       "      }\n",
       "    }, 10, root)\n",
       "  }\n",
       "})(window);"
      ],
      "application/vnd.bokehjs_exec.v0+json": ""
     },
     "metadata": {
      "application/vnd.bokehjs_exec.v0+json": {
       "id": "2362"
      }
     },
     "output_type": "display_data"
    },
    {
     "data": {
      "text/markdown": [
       "**GPU utilization of gpu0 on node algo-1:**"
      ],
      "text/plain": [
       "<IPython.core.display.Markdown object>"
      ]
     },
     "metadata": {},
     "output_type": "display_data"
    },
    {
     "data": {
      "text/html": [
       "\n",
       "\n",
       "\n",
       "\n",
       "\n",
       "\n",
       "  <div class=\"bk-root\" id=\"8387b87d-3208-41ef-b8c1-692a98e0187a\" data-root-id=\"2511\"></div>\n"
      ]
     },
     "metadata": {},
     "output_type": "display_data"
    },
    {
     "data": {
      "application/javascript": [
       "(function(root) {\n",
       "  function embed_document(root) {\n",
       "    \n",
       "  var docs_json = {\"78140a71-28e8-48c5-87d0-f70f36b75cbc\":{\"roots\":{\"references\":[{\"attributes\":{\"text\":\" The max utilization of gpu0 on node algo-1 was 55.0% and the 95th percentile was only 54.0%. \\n                        gpu0 on node algo-1 is underutilized and the 5th percentile was only 0.0% The difference between 5th percentile 0.0% and 95th percentile 54.0% is quite \\n                        significant, which means that utilization on gpu0 is fluctuating quite a lot.\\n\",\"width\":900},\"id\":\"2511\",\"type\":\"Paragraph\"}],\"root_ids\":[\"2511\"]},\"title\":\"Bokeh Application\",\"version\":\"2.2.3\"}};\n",
       "  var render_items = [{\"docid\":\"78140a71-28e8-48c5-87d0-f70f36b75cbc\",\"root_ids\":[\"2511\"],\"roots\":{\"2511\":\"8387b87d-3208-41ef-b8c1-692a98e0187a\"}}];\n",
       "  root.Bokeh.embed.embed_items_notebook(docs_json, render_items);\n",
       "\n",
       "  }\n",
       "  if (root.Bokeh !== undefined) {\n",
       "    embed_document(root);\n",
       "  } else {\n",
       "    var attempts = 0;\n",
       "    var timer = setInterval(function(root) {\n",
       "      if (root.Bokeh !== undefined) {\n",
       "        clearInterval(timer);\n",
       "        embed_document(root);\n",
       "      } else {\n",
       "        attempts++;\n",
       "        if (attempts > 100) {\n",
       "          clearInterval(timer);\n",
       "          console.log(\"Bokeh: ERROR: Unable to run BokehJS code because BokehJS library is missing\");\n",
       "        }\n",
       "      }\n",
       "    }, 10, root)\n",
       "  }\n",
       "})(window);"
      ],
      "application/vnd.bokehjs_exec.v0+json": ""
     },
     "metadata": {
      "application/vnd.bokehjs_exec.v0+json": {
       "id": "2511"
      }
     },
     "output_type": "display_data"
    },
    {
     "data": {
      "text/html": [
       "\n",
       "\n",
       "\n",
       "\n",
       "\n",
       "\n",
       "  <div class=\"bk-root\" id=\"eb9b61e7-6648-497d-8359-fd5033d89de4\" data-root-id=\"2453\"></div>\n"
      ]
     },
     "metadata": {},
     "output_type": "display_data"
    },
    {
     "data": {
      "application/javascript": [
       "(function(root) {\n",
       "  function embed_document(root) {\n",
       "    \n",
       "  var docs_json = {\"7da08076-c431-4b8d-b02e-435ddf00da74\":{\"roots\":{\"references\":[{\"attributes\":{\"below\":[{\"id\":\"2464\"}],\"center\":[{\"id\":\"2467\"},{\"id\":\"2471\"}],\"left\":[{\"id\":\"2468\"}],\"plot_height\":350,\"plot_width\":1000,\"renderers\":[{\"id\":\"2484\"},{\"id\":\"2489\"},{\"id\":\"2494\"},{\"id\":\"2499\"},{\"id\":\"2504\"},{\"id\":\"2509\"}],\"title\":{\"id\":\"2454\"},\"toolbar\":{\"id\":\"2476\"},\"x_range\":{\"id\":\"2456\"},\"x_scale\":{\"id\":\"2460\"},\"y_range\":{\"id\":\"2458\"},\"y_scale\":{\"id\":\"2462\"}},\"id\":\"2453\",\"subtype\":\"Figure\",\"type\":\"Plot\"},{\"attributes\":{\"data_source\":{\"id\":\"2506\"},\"glyph\":{\"id\":\"2507\"},\"hover_glyph\":null,\"muted_glyph\":null,\"nonselection_glyph\":{\"id\":\"2508\"},\"selection_glyph\":null,\"view\":{\"id\":\"2510\"}},\"id\":\"2509\",\"type\":\"GlyphRenderer\"},{\"attributes\":{\"source\":{\"id\":\"2491\"}},\"id\":\"2495\",\"type\":\"CDSView\"},{\"attributes\":{\"data\":{},\"selected\":{\"id\":\"2699\"},\"selection_policy\":{\"id\":\"2698\"}},\"id\":\"2481\",\"type\":\"ColumnDataSource\"},{\"attributes\":{\"bottom\":{\"value\":5.0},\"fill_color\":{\"value\":\"#440154\"},\"top\":{\"value\":0.0},\"width\":{\"value\":0.7},\"x\":{\"value\":1}},\"id\":\"2497\",\"type\":\"VBar\"},{\"attributes\":{},\"id\":\"2705\",\"type\":\"Selection\"},{\"attributes\":{\"bottom\":{\"value\":5.0},\"fill_alpha\":{\"value\":0.1},\"fill_color\":{\"value\":\"#440154\"},\"line_alpha\":{\"value\":0.1},\"top\":{\"value\":0.0},\"width\":{\"value\":0.7},\"x\":{\"value\":1}},\"id\":\"2498\",\"type\":\"VBar\"},{\"attributes\":{},\"id\":\"2703\",\"type\":\"Selection\"},{\"attributes\":{\"text\":\"Node algo-1\"},\"id\":\"2454\",\"type\":\"Title\"},{\"attributes\":{\"fill_alpha\":{\"value\":0.1},\"fill_color\":{\"value\":\"#1f77b4\"},\"height\":{\"units\":\"data\",\"value\":0.01},\"line_alpha\":{\"value\":0.1},\"width\":{\"units\":\"data\",\"value\":0.2},\"x\":{\"value\":1},\"y\":{\"value\":55.0}},\"id\":\"2508\",\"type\":\"Rect\"},{\"attributes\":{},\"id\":\"2469\",\"type\":\"BasicTicker\"},{\"attributes\":{},\"id\":\"2704\",\"type\":\"UnionRenderers\"},{\"attributes\":{\"data\":{},\"selected\":{\"id\":\"2705\"},\"selection_policy\":{\"id\":\"2704\"}},\"id\":\"2496\",\"type\":\"ColumnDataSource\"},{\"attributes\":{},\"id\":\"2702\",\"type\":\"UnionRenderers\"},{\"attributes\":{},\"id\":\"2709\",\"type\":\"Selection\"},{\"attributes\":{\"axis\":{\"id\":\"2464\"},\"grid_line_color\":null,\"grid_line_width\":0,\"ticker\":null},\"id\":\"2467\",\"type\":\"Grid\"},{\"attributes\":{\"x0\":{\"value\":1},\"x1\":{\"value\":1},\"y0\":{\"value\":55.0},\"y1\":{\"value\":32.0}},\"id\":\"2482\",\"type\":\"Segment\"},{\"attributes\":{},\"id\":\"2701\",\"type\":\"Selection\"},{\"attributes\":{\"data_source\":{\"id\":\"2496\"},\"glyph\":{\"id\":\"2497\"},\"hover_glyph\":null,\"muted_glyph\":null,\"nonselection_glyph\":{\"id\":\"2498\"},\"selection_glyph\":null,\"view\":{\"id\":\"2500\"}},\"id\":\"2499\",\"type\":\"GlyphRenderer\"},{\"attributes\":{\"data_source\":{\"id\":\"2481\"},\"glyph\":{\"id\":\"2482\"},\"hover_glyph\":null,\"muted_glyph\":null,\"nonselection_glyph\":{\"id\":\"2483\"},\"selection_glyph\":null,\"view\":{\"id\":\"2485\"}},\"id\":\"2484\",\"type\":\"GlyphRenderer\"},{\"attributes\":{\"axis\":{\"id\":\"2468\"},\"dimension\":1,\"grid_line_color\":\"white\",\"grid_line_width\":0,\"ticker\":null},\"id\":\"2471\",\"type\":\"Grid\"},{\"attributes\":{\"bottom\":{\"value\":32.0},\"fill_alpha\":{\"value\":0.1},\"fill_color\":{\"value\":\"#FDE725\"},\"line_alpha\":{\"value\":0.1},\"top\":{\"value\":5.0},\"width\":{\"value\":0.7},\"x\":{\"value\":1}},\"id\":\"2493\",\"type\":\"VBar\"},{\"attributes\":{\"axis_label\":\"Utilization in %\",\"formatter\":{\"id\":\"2695\"},\"ticker\":{\"id\":\"2469\"}},\"id\":\"2468\",\"type\":\"LinearAxis\"},{\"attributes\":{},\"id\":\"2700\",\"type\":\"UnionRenderers\"},{\"attributes\":{\"active_drag\":\"auto\",\"active_inspect\":\"auto\",\"active_multi\":null,\"active_scroll\":\"auto\",\"active_tap\":\"auto\",\"tools\":[{\"id\":\"2472\"},{\"id\":\"2473\"},{\"id\":\"2474\"},{\"id\":\"2475\"}]},\"id\":\"2476\",\"type\":\"Toolbar\"},{\"attributes\":{\"source\":{\"id\":\"2481\"}},\"id\":\"2485\",\"type\":\"CDSView\"},{\"attributes\":{\"fill_color\":{\"value\":\"#1f77b4\"},\"height\":{\"units\":\"data\",\"value\":0.01},\"width\":{\"units\":\"data\",\"value\":0.2},\"x\":{\"value\":1},\"y\":{\"value\":0.0}},\"id\":\"2502\",\"type\":\"Rect\"},{\"attributes\":{},\"id\":\"2697\",\"type\":\"BasicTickFormatter\"},{\"attributes\":{\"line_alpha\":{\"value\":0.1},\"x0\":{\"value\":1},\"x1\":{\"value\":1},\"y0\":{\"value\":55.0},\"y1\":{\"value\":32.0}},\"id\":\"2483\",\"type\":\"Segment\"},{\"attributes\":{\"source\":{\"id\":\"2496\"}},\"id\":\"2500\",\"type\":\"CDSView\"},{\"attributes\":{},\"id\":\"2458\",\"type\":\"DataRange1d\"},{\"attributes\":{\"x0\":{\"value\":1},\"x1\":{\"value\":1},\"y0\":{\"value\":0.0},\"y1\":{\"value\":0.0}},\"id\":\"2487\",\"type\":\"Segment\"},{\"attributes\":{\"data\":{},\"selected\":{\"id\":\"2707\"},\"selection_policy\":{\"id\":\"2706\"}},\"id\":\"2501\",\"type\":\"ColumnDataSource\"},{\"attributes\":{\"ticks\":[0,1]},\"id\":\"2602\",\"type\":\"FixedTicker\"},{\"attributes\":{\"data\":{},\"selected\":{\"id\":\"2701\"},\"selection_policy\":{\"id\":\"2700\"}},\"id\":\"2486\",\"type\":\"ColumnDataSource\"},{\"attributes\":{\"source\":{\"id\":\"2501\"}},\"id\":\"2505\",\"type\":\"CDSView\"},{\"attributes\":{\"callback\":null},\"id\":\"2472\",\"type\":\"HoverTool\"},{\"attributes\":{},\"id\":\"2708\",\"type\":\"UnionRenderers\"},{\"attributes\":{\"source\":{\"id\":\"2486\"}},\"id\":\"2490\",\"type\":\"CDSView\"},{\"attributes\":{},\"id\":\"2695\",\"type\":\"BasicTickFormatter\"},{\"attributes\":{},\"id\":\"2473\",\"type\":\"WheelZoomTool\"},{\"attributes\":{},\"id\":\"2699\",\"type\":\"Selection\"},{\"attributes\":{\"bottom\":{\"value\":32.0},\"fill_color\":{\"value\":\"#FDE725\"},\"top\":{\"value\":5.0},\"width\":{\"value\":0.7},\"x\":{\"value\":1}},\"id\":\"2492\",\"type\":\"VBar\"},{\"attributes\":{\"data_source\":{\"id\":\"2501\"},\"glyph\":{\"id\":\"2502\"},\"hover_glyph\":null,\"muted_glyph\":null,\"nonselection_glyph\":{\"id\":\"2503\"},\"selection_glyph\":null,\"view\":{\"id\":\"2505\"}},\"id\":\"2504\",\"type\":\"GlyphRenderer\"},{\"attributes\":{},\"id\":\"2474\",\"type\":\"ResetTool\"},{\"attributes\":{\"source\":{\"id\":\"2506\"}},\"id\":\"2510\",\"type\":\"CDSView\"},{\"attributes\":{},\"id\":\"2475\",\"type\":\"PanTool\"},{\"attributes\":{\"fill_alpha\":{\"value\":0.1},\"fill_color\":{\"value\":\"#1f77b4\"},\"height\":{\"units\":\"data\",\"value\":0.01},\"line_alpha\":{\"value\":0.1},\"width\":{\"units\":\"data\",\"value\":0.2},\"x\":{\"value\":1},\"y\":{\"value\":0.0}},\"id\":\"2503\",\"type\":\"Rect\"},{\"attributes\":{},\"id\":\"2698\",\"type\":\"UnionRenderers\"},{\"attributes\":{\"line_alpha\":{\"value\":0.1},\"x0\":{\"value\":1},\"x1\":{\"value\":1},\"y0\":{\"value\":0.0},\"y1\":{\"value\":0.0}},\"id\":\"2488\",\"type\":\"Segment\"},{\"attributes\":{},\"id\":\"2460\",\"type\":\"LinearScale\"},{\"attributes\":{\"data_source\":{\"id\":\"2486\"},\"glyph\":{\"id\":\"2487\"},\"hover_glyph\":null,\"muted_glyph\":null,\"nonselection_glyph\":{\"id\":\"2488\"},\"selection_glyph\":null,\"view\":{\"id\":\"2490\"}},\"id\":\"2489\",\"type\":\"GlyphRenderer\"},{\"attributes\":{\"data\":{},\"selected\":{\"id\":\"2709\"},\"selection_policy\":{\"id\":\"2708\"}},\"id\":\"2506\",\"type\":\"ColumnDataSource\"},{\"attributes\":{\"data\":{},\"selected\":{\"id\":\"2703\"},\"selection_policy\":{\"id\":\"2702\"}},\"id\":\"2491\",\"type\":\"ColumnDataSource\"},{\"attributes\":{\"fill_color\":{\"value\":\"#1f77b4\"},\"height\":{\"units\":\"data\",\"value\":0.01},\"width\":{\"units\":\"data\",\"value\":0.2},\"x\":{\"value\":1},\"y\":{\"value\":55.0}},\"id\":\"2507\",\"type\":\"Rect\"},{\"attributes\":{},\"id\":\"2706\",\"type\":\"UnionRenderers\"},{\"attributes\":{\"end\":17},\"id\":\"2456\",\"type\":\"Range1d\"},{\"attributes\":{\"data_source\":{\"id\":\"2491\"},\"glyph\":{\"id\":\"2492\"},\"hover_glyph\":null,\"muted_glyph\":null,\"nonselection_glyph\":{\"id\":\"2493\"},\"selection_glyph\":null,\"view\":{\"id\":\"2495\"}},\"id\":\"2494\",\"type\":\"GlyphRenderer\"},{\"attributes\":{\"formatter\":{\"id\":\"2697\"},\"major_label_overrides\":{\"1\":\"gpu0\"},\"major_label_text_font_size\":\"10px\",\"ticker\":{\"id\":\"2602\"}},\"id\":\"2464\",\"type\":\"LinearAxis\"},{\"attributes\":{},\"id\":\"2462\",\"type\":\"LinearScale\"},{\"attributes\":{},\"id\":\"2707\",\"type\":\"Selection\"}],\"root_ids\":[\"2453\"]},\"title\":\"Bokeh Application\",\"version\":\"2.2.3\"}};\n",
       "  var render_items = [{\"docid\":\"7da08076-c431-4b8d-b02e-435ddf00da74\",\"root_ids\":[\"2453\"],\"roots\":{\"2453\":\"eb9b61e7-6648-497d-8359-fd5033d89de4\"}}];\n",
       "  root.Bokeh.embed.embed_items_notebook(docs_json, render_items);\n",
       "\n",
       "  }\n",
       "  if (root.Bokeh !== undefined) {\n",
       "    embed_document(root);\n",
       "  } else {\n",
       "    var attempts = 0;\n",
       "    var timer = setInterval(function(root) {\n",
       "      if (root.Bokeh !== undefined) {\n",
       "        clearInterval(timer);\n",
       "        embed_document(root);\n",
       "      } else {\n",
       "        attempts++;\n",
       "        if (attempts > 100) {\n",
       "          clearInterval(timer);\n",
       "          console.log(\"Bokeh: ERROR: Unable to run BokehJS code because BokehJS library is missing\");\n",
       "        }\n",
       "      }\n",
       "    }, 10, root)\n",
       "  }\n",
       "})(window);"
      ],
      "application/vnd.bokehjs_exec.v0+json": ""
     },
     "metadata": {
      "application/vnd.bokehjs_exec.v0+json": {
       "id": "2453"
      }
     },
     "output_type": "display_data"
    }
   ],
   "source": [
    "if analyse_phase == \"training\":\n",
    "    display(Markdown(\"\"\"### GPU utilization analysis\\n\\n\"\"\"))\n",
    "    display(Markdown(\"\"\"**Usage per GPU** \\n\\n\"\"\"))\n",
    "    report = load_report('LowGPUUtilization')\n",
    "    if report:\n",
    "        params = report['RuleParameters'].split('\\n')\n",
    "        threshold_p95 = params[0].split(':')[1]\n",
    "        threshold_p5 = params[1].split(':')[1]\n",
    "        window = params[2].split(':')[1]\n",
    "        patience = params[3].split(':')[1]\n",
    "        violations = report['Violations']\n",
    "        triggered = report['RuleTriggered']\n",
    "        datapoints = report['Datapoints']\n",
    "        \n",
    "        text=Paragraph(text=f\"\"\"The LowGPUUtilization rule checks for a low and fluctuating GPU usage. If the GPU usage is \n",
    "        consistently low, it might be caused by bottlenecks or a small batch size. If usage is heavily \n",
    "        fluctuating, it can be due to bottlenecks or blocking calls. The rule computed the 95th and 5th \n",
    "        percentile of GPU utilization on {window} continuous datapoints and found {violations} cases where \n",
    "        p95 was above {threshold_p95}% and p5 was below {threshold_p5}%. If p95 is high and p5 is low,\n",
    "        it might indicate that the GPU usage is highly fluctuating. If both values are very low, \n",
    "        it would mean that the machine is underutilized. During initialization, the GPU usage is likely zero, \n",
    "        so the rule skipped the first {patience} data points.\n",
    "        The rule analysed {datapoints} datapoints and triggered {triggered} times.\"\"\", width=800)\n",
    "        show(text)\n",
    "\n",
    "        \n",
    "        if len(report['Details']) > 0:\n",
    "            \n",
    "            timestamp = us_since_epoch_to_human_readable_time(report['Details']['last_timestamp'])\n",
    "            date = datetime.datetime.strptime(timestamp, '%Y-%m-%dT%H:%M:%S:%f')\n",
    "            day = date.date().strftime(\"%m/%d/%Y\")\n",
    "            hour = date.time().strftime(\"%H:%M:%S\")\n",
    "            text = Paragraph(text=f\"\"\"Your training job is underutilizing the instance. You may want to consider\n",
    "            to either switch to a smaller instance type or to increase the batch size. \n",
    "            The last time that the LowGPUUtilization rule was triggered in your training job was on {day} at {hour}.\n",
    "            The following boxplots are a snapshot from the timestamps. \n",
    "            They show the utilization per GPU (without outliers).\n",
    "            To get a better understanding of the workloads throughout the whole training,\n",
    "            you can check the workload histogram in the next section.\"\"\", width=800)\n",
    "            show(text)\n",
    "            \n",
    "            del report['Details']['last_timestamp']\n",
    "            \n",
    "            for node_id in report['Details']:\n",
    "                \n",
    "                plot = figure(plot_height=350, \n",
    "                          plot_width=1000,\n",
    "                          toolbar_location='right',\n",
    "                          tools=\"hover,wheel_zoom,reset,pan\", \n",
    "                          title=f\"Node {node_id}\",\n",
    "                          x_range=(0,17),\n",
    "                          )\n",
    "                \n",
    "                for index, key in enumerate(report['Details'][node_id]):\n",
    "                    display(Markdown(f\"\"\"**GPU utilization of {key} on node {node_id}:**\"\"\"))\n",
    "                    text = \"\"\n",
    "                    gpu_max = report['Details'][node_id][key]['gpu_max']\n",
    "                    p_95 = report['Details'][node_id][key]['gpu_95']\n",
    "                    p_5 = report['Details'][node_id][key]['gpu_5']\n",
    "                    text = f\"\"\"{text} The max utilization of {key} on node {node_id} was {gpu_max}%\"\"\"\n",
    "                    if p_95 < int(threshold_p95): \n",
    "                        text = f\"\"\"{text} and the 95th percentile was only {p_95}%. \n",
    "                        {key} on node {node_id} is underutilized\"\"\"\n",
    "                    if p_5 < int(threshold_p5): \n",
    "                        text = f\"\"\"{text} and the 5th percentile was only {p_5}%\"\"\"\n",
    "                    if p_95 - p_5 > 50:\n",
    "                        text = f\"\"\"{text} The difference between 5th percentile {p_5}% and 95th percentile {p_95}% is quite \n",
    "                        significant, which means that utilization on {key} is fluctuating quite a lot.\\n\"\"\"\n",
    "     \n",
    "                    upper = report['Details'][node_id][key]['upper']\n",
    "                    lower = report['Details'][node_id][key]['lower']\n",
    "                    p75 = report['Details'][node_id][key]['p75']\n",
    "                    p25 = report['Details'][node_id][key]['p25']\n",
    "                    p50 = report['Details'][node_id][key]['p50']\n",
    "\n",
    "                    plot.segment(index+1, upper, index+1, p75, line_color=\"black\")\n",
    "                    plot.segment(index+1, lower, index+1, p25, line_color=\"black\")\n",
    "\n",
    "                    plot.vbar(index+1, 0.7, p50, p75, fill_color=\"#FDE725\", line_color=\"black\")\n",
    "                    plot.vbar(index+1, 0.7, p25, p50, fill_color=\"#440154\", line_color=\"black\")\n",
    "\n",
    "                    plot.rect(index+1, lower, 0.2, 0.01, line_color=\"black\")\n",
    "                    plot.rect(index+1, upper, 0.2, 0.01, line_color=\"black\")\n",
    "\n",
    "                    plot.xaxis.major_label_overrides[index+1] = key\n",
    "                    plot.xgrid.grid_line_color = None\n",
    "                    plot.ygrid.grid_line_color = \"white\"\n",
    "                    plot.grid.grid_line_width = 0\n",
    "\n",
    "                    plot.xaxis.major_label_text_font_size=\"10px\"\n",
    "                    text=Paragraph(text=f\"\"\"{text}\"\"\", width=900)\n",
    "                    show(text)\n",
    "                plot.yaxis.axis_label = \"Utilization in %\"\n",
    "                plot.xaxis.ticker = np.arange(index+2)\n",
    "                \n",
    "                show(plot)"
   ]
  },
  {
   "cell_type": "code",
   "execution_count": 24,
   "metadata": {
    "execution": {
     "iopub.execute_input": "2025-07-04T00:04:14.827929Z",
     "iopub.status.busy": "2025-07-04T00:04:14.827419Z",
     "iopub.status.idle": "2025-07-04T00:04:14.896115Z",
     "shell.execute_reply": "2025-07-04T00:04:14.895602Z"
    },
    "papermill": {
     "duration": 0.112812,
     "end_time": "2025-07-04T00:04:14.896239",
     "exception": false,
     "start_time": "2025-07-04T00:04:14.783427",
     "status": "completed"
    },
    "tags": [
     "hide-input"
    ]
   },
   "outputs": [
    {
     "data": {
      "text/markdown": [
       "**Workload balancing**\n",
       "\n"
      ],
      "text/plain": [
       "<IPython.core.display.Markdown object>"
      ]
     },
     "metadata": {},
     "output_type": "display_data"
    },
    {
     "data": {
      "text/html": [
       "\n",
       "\n",
       "\n",
       "\n",
       "\n",
       "\n",
       "  <div class=\"bk-root\" id=\"1e5746f7-0053-4991-821a-72ff0861b187\" data-root-id=\"2790\"></div>\n"
      ]
     },
     "metadata": {},
     "output_type": "display_data"
    },
    {
     "data": {
      "application/javascript": [
       "(function(root) {\n",
       "  function embed_document(root) {\n",
       "    \n",
       "  var docs_json = {\"9e76ec8e-e0ab-444f-b676-3f89428ac439\":{\"roots\":{\"references\":[{\"attributes\":{\"text\":\"The LoadBalancing rule helps to detect issues in workload balancing \\n        between multiple GPUs. \\n        It computes a histogram of GPU utilization values for each GPU and compares then the \\n        similarity between histograms. The rule checked if the distance of histograms is larger than the \\n        threshold of 0.2.\\n        During initialization utilization is likely zero, so the rule skipped the first 1000 data points.\\n        \",\"width\":900},\"id\":\"2790\",\"type\":\"Paragraph\"}],\"root_ids\":[\"2790\"]},\"title\":\"Bokeh Application\",\"version\":\"2.2.3\"}};\n",
       "  var render_items = [{\"docid\":\"9e76ec8e-e0ab-444f-b676-3f89428ac439\",\"root_ids\":[\"2790\"],\"roots\":{\"2790\":\"1e5746f7-0053-4991-821a-72ff0861b187\"}}];\n",
       "  root.Bokeh.embed.embed_items_notebook(docs_json, render_items);\n",
       "\n",
       "  }\n",
       "  if (root.Bokeh !== undefined) {\n",
       "    embed_document(root);\n",
       "  } else {\n",
       "    var attempts = 0;\n",
       "    var timer = setInterval(function(root) {\n",
       "      if (root.Bokeh !== undefined) {\n",
       "        clearInterval(timer);\n",
       "        embed_document(root);\n",
       "      } else {\n",
       "        attempts++;\n",
       "        if (attempts > 100) {\n",
       "          clearInterval(timer);\n",
       "          console.log(\"Bokeh: ERROR: Unable to run BokehJS code because BokehJS library is missing\");\n",
       "        }\n",
       "      }\n",
       "    }, 10, root)\n",
       "  }\n",
       "})(window);"
      ],
      "application/vnd.bokehjs_exec.v0+json": ""
     },
     "metadata": {
      "application/vnd.bokehjs_exec.v0+json": {
       "id": "2790"
      }
     },
     "output_type": "display_data"
    },
    {
     "data": {
      "text/html": [
       "\n",
       "\n",
       "\n",
       "\n",
       "\n",
       "\n",
       "  <div class=\"bk-root\" id=\"047714c5-f232-47e8-b309-856cf3a66cb4\" data-root-id=\"2946\"></div>\n"
      ]
     },
     "metadata": {},
     "output_type": "display_data"
    },
    {
     "data": {
      "application/javascript": [
       "(function(root) {\n",
       "  function embed_document(root) {\n",
       "    \n",
       "  var docs_json = {\"76da6fbe-3298-40a1-8aaf-a793e4ffb88b\":{\"roots\":{\"references\":[{\"attributes\":{\"children\":[{\"id\":\"2945\"},{\"id\":\"2897\"}]},\"id\":\"2946\",\"type\":\"Column\"},{\"attributes\":{\"bottom\":{\"value\":0},\"fill_alpha\":{\"value\":0.1},\"fill_color\":{\"value\":\"#440154\"},\"left\":{\"field\":\"left\"},\"line_alpha\":{\"value\":0.1},\"line_color\":{\"value\":\"white\"},\"right\":{\"field\":\"right\"},\"top\":{\"field\":\"top\"}},\"id\":\"2932\",\"type\":\"Quad\"},{\"attributes\":{\"data_source\":{\"id\":\"2930\"},\"glyph\":{\"id\":\"2931\"},\"hover_glyph\":null,\"muted_glyph\":null,\"nonselection_glyph\":{\"id\":\"2932\"},\"selection_glyph\":null,\"view\":{\"id\":\"2934\"}},\"id\":\"2933\",\"type\":\"GlyphRenderer\"},{\"attributes\":{\"text\":\"Workloads on node algo-1\"},\"id\":\"2898\",\"type\":\"Title\"},{\"attributes\":{},\"id\":\"2916\",\"type\":\"PanTool\"},{\"attributes\":{\"below\":[{\"id\":\"2908\"}],\"center\":[{\"id\":\"2911\"},{\"id\":\"2915\"},{\"id\":\"2943\"}],\"left\":[{\"id\":\"2912\"}],\"plot_height\":450,\"plot_width\":850,\"renderers\":[{\"id\":\"2933\"}],\"title\":{\"id\":\"2898\"},\"toolbar\":{\"id\":\"2923\"},\"x_range\":{\"id\":\"2900\"},\"x_scale\":{\"id\":\"2904\"},\"y_range\":{\"id\":\"2902\"},\"y_scale\":{\"id\":\"2906\"}},\"id\":\"2897\",\"subtype\":\"Figure\",\"type\":\"Plot\"},{\"attributes\":{},\"id\":\"2917\",\"type\":\"WheelZoomTool\"},{\"attributes\":{},\"id\":\"2940\",\"type\":\"UnionRenderers\"},{\"attributes\":{\"overlay\":{\"id\":\"2922\"}},\"id\":\"2918\",\"type\":\"BoxZoomTool\"},{\"attributes\":{\"click_policy\":\"hide\",\"items\":[{\"id\":\"2944\"}]},\"id\":\"2943\",\"type\":\"Legend\"},{\"attributes\":{},\"id\":\"2919\",\"type\":\"SaveTool\"},{\"attributes\":{},\"id\":\"2936\",\"type\":\"BasicTickFormatter\"},{\"attributes\":{\"bottom_units\":\"screen\",\"fill_alpha\":0.5,\"fill_color\":\"lightgrey\",\"left_units\":\"screen\",\"level\":\"overlay\",\"line_alpha\":1.0,\"line_color\":\"black\",\"line_dash\":[4,4],\"line_width\":2,\"right_units\":\"screen\",\"top_units\":\"screen\"},\"id\":\"2922\",\"type\":\"BoxAnnotation\"},{\"attributes\":{},\"id\":\"2920\",\"type\":\"ResetTool\"},{\"attributes\":{},\"id\":\"2938\",\"type\":\"BasicTickFormatter\"},{\"attributes\":{\"source\":{\"id\":\"2930\"}},\"id\":\"2934\",\"type\":\"CDSView\"},{\"attributes\":{},\"id\":\"2921\",\"type\":\"HelpTool\"},{\"attributes\":{},\"id\":\"2906\",\"type\":\"LinearScale\"},{\"attributes\":{\"bottom\":{\"value\":0},\"fill_alpha\":{\"value\":0.8},\"fill_color\":{\"value\":\"#440154\"},\"left\":{\"field\":\"left\"},\"line_color\":{\"value\":\"white\"},\"right\":{\"field\":\"right\"},\"top\":{\"field\":\"top\"}},\"id\":\"2931\",\"type\":\"Quad\"},{\"attributes\":{},\"id\":\"2941\",\"type\":\"Selection\"},{\"attributes\":{\"active_drag\":\"auto\",\"active_inspect\":\"auto\",\"active_multi\":null,\"active_scroll\":\"auto\",\"active_tap\":\"auto\",\"tools\":[{\"id\":\"2916\"},{\"id\":\"2917\"},{\"id\":\"2918\"},{\"id\":\"2919\"},{\"id\":\"2920\"},{\"id\":\"2921\"}]},\"id\":\"2923\",\"type\":\"Toolbar\"},{\"attributes\":{\"start\":0},\"id\":\"2902\",\"type\":\"DataRange1d\"},{\"attributes\":{},\"id\":\"2913\",\"type\":\"BasicTicker\"},{\"attributes\":{\"label\":{\"value\":\"gpu0\"},\"renderers\":[{\"id\":\"2933\"}]},\"id\":\"2944\",\"type\":\"LegendItem\"},{\"attributes\":{},\"id\":\"2904\",\"type\":\"LinearScale\"},{\"attributes\":{\"data\":{\"left\":[0,2,4,6,8,10,12,14,16,18,20,22,24,26,28,30,32,34,36,38,40,42,44,46,48,50,52,54,56,58,60,62,64,66,68,70,72,74,76,78,80,82,84,86,88,90,92,94,96],\"right\":[2,4,6,8,10,12,14,16,18,20,22,24,26,28,30,32,34,36,38,40,42,44,46,48,50,52,54,56,58,60,62,64,66,68,70,72,74,76,78,80,82,84,86,88,90,92,94,96,98],\"top\":[1352,68,73,57,52,56,53,41,67,178,43,31,37,28,36,44,33,36,50,38,37,35,38,31,31,41,97,289,0,0,0,0,0,0,0,0,0,0,0,0,0,0,0,0,0,0,0,0,0]},\"selected\":{\"id\":\"2941\"},\"selection_policy\":{\"id\":\"2940\"}},\"id\":\"2930\",\"type\":\"ColumnDataSource\"},{\"attributes\":{},\"id\":\"2909\",\"type\":\"BasicTicker\"},{\"attributes\":{\"axis_label\":\"Utilization\",\"formatter\":{\"id\":\"2938\"},\"ticker\":{\"id\":\"2909\"}},\"id\":\"2908\",\"type\":\"LinearAxis\"},{\"attributes\":{\"axis\":{\"id\":\"2912\"},\"dimension\":1,\"grid_line_color\":\"white\",\"ticker\":null},\"id\":\"2915\",\"type\":\"Grid\"},{\"attributes\":{\"axis\":{\"id\":\"2908\"},\"grid_line_color\":\"white\",\"ticker\":null},\"id\":\"2911\",\"type\":\"Grid\"},{\"attributes\":{\"axis_label\":\"Occurrences\",\"formatter\":{\"id\":\"2936\"},\"ticker\":{\"id\":\"2913\"}},\"id\":\"2912\",\"type\":\"LinearAxis\"},{\"attributes\":{\"text\":\"The following histogram shows the workload per GPU on node algo-1. \\n                You can enable/disable the visualization of a workload by clicking on the label in the legend.\\n                 Your training job only used one GPU so there is no workload balancing issue.\"},\"id\":\"2945\",\"type\":\"Paragraph\"},{\"attributes\":{\"end\":100,\"start\":-1},\"id\":\"2900\",\"type\":\"Range1d\"}],\"root_ids\":[\"2946\"]},\"title\":\"Bokeh Application\",\"version\":\"2.2.3\"}};\n",
       "  var render_items = [{\"docid\":\"76da6fbe-3298-40a1-8aaf-a793e4ffb88b\",\"root_ids\":[\"2946\"],\"roots\":{\"2946\":\"047714c5-f232-47e8-b309-856cf3a66cb4\"}}];\n",
       "  root.Bokeh.embed.embed_items_notebook(docs_json, render_items);\n",
       "\n",
       "  }\n",
       "  if (root.Bokeh !== undefined) {\n",
       "    embed_document(root);\n",
       "  } else {\n",
       "    var attempts = 0;\n",
       "    var timer = setInterval(function(root) {\n",
       "      if (root.Bokeh !== undefined) {\n",
       "        clearInterval(timer);\n",
       "        embed_document(root);\n",
       "      } else {\n",
       "        attempts++;\n",
       "        if (attempts > 100) {\n",
       "          clearInterval(timer);\n",
       "          console.log(\"Bokeh: ERROR: Unable to run BokehJS code because BokehJS library is missing\");\n",
       "        }\n",
       "      }\n",
       "    }, 10, root)\n",
       "  }\n",
       "})(window);"
      ],
      "application/vnd.bokehjs_exec.v0+json": ""
     },
     "metadata": {
      "application/vnd.bokehjs_exec.v0+json": {
       "id": "2946"
      }
     },
     "output_type": "display_data"
    }
   ],
   "source": [
    " \n",
    "if analyse_phase == \"training\": \n",
    "    display(Markdown(\"\"\"**Workload balancing**\\n\\n\"\"\")) \n",
    "    report = load_report('LoadBalancing')\n",
    "    if report:\n",
    "        params = report['RuleParameters'].split('\\n')\n",
    "        threshold = params[0].split(':')[1]\n",
    "        patience = params[1].split(':')[1]\n",
    "        triggered = report['RuleTriggered']\n",
    "        datapoints = report['Datapoints']\n",
    "    \n",
    "        paragraph = Paragraph(text=f\"\"\"The LoadBalancing rule helps to detect issues in workload balancing \n",
    "        between multiple GPUs. \n",
    "        It computes a histogram of GPU utilization values for each GPU and compares then the \n",
    "        similarity between histograms. The rule checked if the distance of histograms is larger than the \n",
    "        threshold of {threshold}.\n",
    "        During initialization utilization is likely zero, so the rule skipped the first {patience} data points.\n",
    "        \"\"\", width=900)\n",
    "        show(paragraph)\n",
    "        \n",
    "        if len(report['Details']) > 0:\n",
    "            for node_id in report['Details']: \n",
    "                \n",
    "                \n",
    "                text = f\"\"\"The following histogram shows the workload per GPU on node {node_id}. \n",
    "                You can enable/disable the visualization of a workload by clicking on the label in the legend.\n",
    "                \"\"\"\n",
    "                if len(report['Details']) == 1 and len(report['Details'][node_id]['workloads']) == 1:\n",
    "                    text = f\"\"\"{text} Your training job only used one GPU so there is no workload balancing issue.\"\"\"\n",
    "                \n",
    "                plot = figure(plot_height=450, \n",
    "                              plot_width=850, \n",
    "                              x_range=(-1,100),\n",
    "                              title=f\"\"\"Workloads on node {node_id}\"\"\")\n",
    "                \n",
    "                colors = bokeh.palettes.viridis(len(report['Details'][node_id]['workloads']))\n",
    "                \n",
    "                for index, gpu_id2 in enumerate(report['Details'][node_id]['workloads']):\n",
    "                    probs = report['Details'][node_id]['workloads'][gpu_id2]\n",
    "                    plot.quad( top=probs,\n",
    "                                bottom=0,\n",
    "                                left=np.arange(0,98,2),\n",
    "                                right=np.arange(2,100,2),\n",
    "                                line_color=\"white\",\n",
    "                                fill_color=colors[index],\n",
    "                                fill_alpha=0.8,\n",
    "                                legend=gpu_id2 )\n",
    "\n",
    "                    plot.y_range.start = 0\n",
    "                    plot.xaxis.axis_label = f\"\"\"Utilization\"\"\"\n",
    "                    plot.yaxis.axis_label = \"Occurrences\"\n",
    "                    plot.grid.grid_line_color = \"white\"\n",
    "                    plot.legend.click_policy=\"hide\"\n",
    "                \n",
    "                paragraph = Paragraph(text=text)\n",
    "                show(column(paragraph, plot))\n",
    "                \n",
    "                if \"distances\" in report['Details'][node_id]:\n",
    "                    text = f\"\"\"The rule identified workload balancing issues on node {node_id} \n",
    "                    where workloads differed by more than threshold {threshold}. \n",
    "                    \"\"\"\n",
    "                    for index, gpu_id2 in enumerate(report['Details'][node_id]['distances']):\n",
    "                        for gpu_id1 in report['Details'][node_id]['distances'][gpu_id2]:\n",
    "                            distance = round(report['Details'][node_id]['distances'][gpu_id2][gpu_id1], 2)\n",
    "                            text = f\"\"\"{text} The difference of workload between {gpu_id2} and {gpu_id1} is: {distance}.\"\"\"\n",
    "\n",
    "                    paragraph = Paragraph(text=f\"\"\"{text}\"\"\", width=900)\n",
    "                    show(column(paragraph))"
   ]
  },
  {
   "cell_type": "code",
   "execution_count": 25,
   "metadata": {
    "execution": {
     "iopub.execute_input": "2025-07-04T00:04:14.978423Z",
     "iopub.status.busy": "2025-07-04T00:04:14.977870Z",
     "iopub.status.idle": "2025-07-04T00:04:15.071088Z",
     "shell.execute_reply": "2025-07-04T00:04:15.071520Z"
    },
    "papermill": {
     "duration": 0.140691,
     "end_time": "2025-07-04T00:04:15.071645",
     "exception": false,
     "start_time": "2025-07-04T00:04:14.930954",
     "status": "completed"
    },
    "scrolled": true,
    "tags": [
     "hide-input"
    ]
   },
   "outputs": [
    {
     "data": {
      "text/markdown": [
       "### Dataloading analysis\n",
       "\n"
      ],
      "text/plain": [
       "<IPython.core.display.Markdown object>"
      ]
     },
     "metadata": {},
     "output_type": "display_data"
    },
    {
     "data": {
      "text/html": [
       "\n",
       "\n",
       "\n",
       "\n",
       "\n",
       "\n",
       "  <div class=\"bk-root\" id=\"fcc1c440-f7e6-4dbf-8984-3b3872c24dcf\" data-root-id=\"3101\"></div>\n"
      ]
     },
     "metadata": {},
     "output_type": "display_data"
    },
    {
     "data": {
      "application/javascript": [
       "(function(root) {\n",
       "  function embed_document(root) {\n",
       "    \n",
       "  var docs_json = {\"cd70ac5a-4dff-4f23-9df4-8d7d00c65365\":{\"roots\":{\"references\":[{\"attributes\":{\"text\":\"The number of dataloader workers can greatly affect the overall performance \\n        of your training job. The rule analyzed the number of dataloading processes that have been running in \\n        parallel on the training instance and compares it against the total number of cores. \\n        The rule checked if the number of processes is smaller than 70% or larger than \\n        200% the total number of cores. Having too few dataloader workers can slowdown data preprocessing and lead to GPU \\n        underutilization. Having too many dataloader workers may hurt the\\n        overall performance if you are running other compute intensive tasks on the CPU.\\n        The rule analysed 1 datapoints and triggered 0 times.\",\"width\":900},\"id\":\"3101\",\"type\":\"Paragraph\"}],\"root_ids\":[\"3101\"]},\"title\":\"Bokeh Application\",\"version\":\"2.2.3\"}};\n",
       "  var render_items = [{\"docid\":\"cd70ac5a-4dff-4f23-9df4-8d7d00c65365\",\"root_ids\":[\"3101\"],\"roots\":{\"3101\":\"fcc1c440-f7e6-4dbf-8984-3b3872c24dcf\"}}];\n",
       "  root.Bokeh.embed.embed_items_notebook(docs_json, render_items);\n",
       "\n",
       "  }\n",
       "  if (root.Bokeh !== undefined) {\n",
       "    embed_document(root);\n",
       "  } else {\n",
       "    var attempts = 0;\n",
       "    var timer = setInterval(function(root) {\n",
       "      if (root.Bokeh !== undefined) {\n",
       "        clearInterval(timer);\n",
       "        embed_document(root);\n",
       "      } else {\n",
       "        attempts++;\n",
       "        if (attempts > 100) {\n",
       "          clearInterval(timer);\n",
       "          console.log(\"Bokeh: ERROR: Unable to run BokehJS code because BokehJS library is missing\");\n",
       "        }\n",
       "      }\n",
       "    }, 10, root)\n",
       "  }\n",
       "})(window);"
      ],
      "application/vnd.bokehjs_exec.v0+json": ""
     },
     "metadata": {
      "application/vnd.bokehjs_exec.v0+json": {
       "id": "3101"
      }
     },
     "output_type": "display_data"
    },
    {
     "data": {
      "text/html": [
       "\n",
       "\n",
       "\n",
       "\n",
       "\n",
       "\n",
       "  <div class=\"bk-root\" id=\"85fe22a8-7176-4ee1-886d-fcd7425a0c2f\" data-root-id=\"3216\"></div>\n"
      ]
     },
     "metadata": {},
     "output_type": "display_data"
    },
    {
     "data": {
      "application/javascript": [
       "(function(root) {\n",
       "  function embed_document(root) {\n",
       "    \n",
       "  var docs_json = {\"e0c4d415-3d74-413c-a0ae-f58ca656be72\":{\"roots\":{\"references\":[{\"attributes\":{\"text\":\" Your training instance provided 8 CPU cores, however your training job only \\n                ran on average 1 dataloader workers in parallel. We recommend you to increase the number of\\n                dataloader workers. Using pinned memory also improves performance because it enables fast data transfer to CUDA-enabled GPUs.\\n            The rule detected that your training job was not using pinned memory. \\n            In case of using PyTorch Dataloader, you can enable this by setting pin_memory=True.\",\"width\":900},\"id\":\"3216\",\"type\":\"Paragraph\"}],\"root_ids\":[\"3216\"]},\"title\":\"Bokeh Application\",\"version\":\"2.2.3\"}};\n",
       "  var render_items = [{\"docid\":\"e0c4d415-3d74-413c-a0ae-f58ca656be72\",\"root_ids\":[\"3216\"],\"roots\":{\"3216\":\"85fe22a8-7176-4ee1-886d-fcd7425a0c2f\"}}];\n",
       "  root.Bokeh.embed.embed_items_notebook(docs_json, render_items);\n",
       "\n",
       "  }\n",
       "  if (root.Bokeh !== undefined) {\n",
       "    embed_document(root);\n",
       "  } else {\n",
       "    var attempts = 0;\n",
       "    var timer = setInterval(function(root) {\n",
       "      if (root.Bokeh !== undefined) {\n",
       "        clearInterval(timer);\n",
       "        embed_document(root);\n",
       "      } else {\n",
       "        attempts++;\n",
       "        if (attempts > 100) {\n",
       "          clearInterval(timer);\n",
       "          console.log(\"Bokeh: ERROR: Unable to run BokehJS code because BokehJS library is missing\");\n",
       "        }\n",
       "      }\n",
       "    }, 10, root)\n",
       "  }\n",
       "})(window);"
      ],
      "application/vnd.bokehjs_exec.v0+json": ""
     },
     "metadata": {
      "application/vnd.bokehjs_exec.v0+json": {
       "id": "3216"
      }
     },
     "output_type": "display_data"
    },
    {
     "data": {
      "text/html": [
       "\n",
       "\n",
       "\n",
       "\n",
       "\n",
       "\n",
       "  <div class=\"bk-root\" id=\"8a19e6dd-b065-4706-b21c-f651bc924c8d\" data-root-id=\"3373\"></div>\n"
      ]
     },
     "metadata": {},
     "output_type": "display_data"
    },
    {
     "data": {
      "application/javascript": [
       "(function(root) {\n",
       "  function embed_document(root) {\n",
       "    \n",
       "  var docs_json = {\"238992d6-1907-4d98-a75b-bf1aecdb1e9d\":{\"roots\":{\"references\":[{\"attributes\":{\"children\":[{\"id\":\"3372\"},{\"id\":\"3331\"}]},\"id\":\"3373\",\"type\":\"Column\"},{\"attributes\":{\"source\":{\"id\":\"3357\"}},\"id\":\"3361\",\"type\":\"CDSView\"},{\"attributes\":{\"callback\":null},\"id\":\"3348\",\"type\":\"HoverTool\"},{\"attributes\":{},\"id\":\"3349\",\"type\":\"WheelZoomTool\"},{\"attributes\":{},\"id\":\"3368\",\"type\":\"UnionRenderers\"},{\"attributes\":{\"end\":0.891421,\"start\":-0.10857899999999998},\"id\":\"3332\",\"type\":\"Range1d\"},{\"attributes\":{},\"id\":\"3364\",\"type\":\"BasicTickFormatter\"},{\"attributes\":{},\"id\":\"3351\",\"type\":\"PanTool\"},{\"attributes\":{},\"id\":\"3345\",\"type\":\"BasicTicker\"},{\"attributes\":{},\"id\":\"3366\",\"type\":\"BasicTickFormatter\"},{\"attributes\":{},\"id\":\"3341\",\"type\":\"BasicTicker\"},{\"attributes\":{},\"id\":\"3369\",\"type\":\"Selection\"},{\"attributes\":{\"axis_label\":\"Dataloading in [s]\",\"formatter\":{\"id\":\"3366\"},\"ticker\":{\"id\":\"3341\"}},\"id\":\"3340\",\"type\":\"LinearAxis\"},{\"attributes\":{\"axis\":{\"id\":\"3340\"},\"grid_line_color\":\"white\",\"ticker\":null},\"id\":\"3343\",\"type\":\"Grid\"},{\"attributes\":{},\"id\":\"3350\",\"type\":\"ResetTool\"},{\"attributes\":{\"text\":\"The following histogram shows the distribution of dataloading times that have been measured throughout your training job. The median dataloading time was 0.3914s. \\n            The 95th percentile was 0.3914s and the 25th percentile was 0.3914s\",\"width\":900},\"id\":\"3372\",\"type\":\"Paragraph\"},{\"attributes\":{},\"id\":\"3338\",\"type\":\"LinearScale\"},{\"attributes\":{},\"id\":\"3336\",\"type\":\"LinearScale\"},{\"attributes\":{\"bottom\":{\"value\":0},\"fill_alpha\":{\"value\":0.1},\"fill_color\":{\"value\":\"#440154\"},\"left\":{\"field\":\"left\"},\"line_alpha\":{\"value\":0.1},\"line_color\":{\"value\":\"white\"},\"right\":{\"field\":\"right\"},\"top\":{\"field\":\"top\"}},\"id\":\"3359\",\"type\":\"Quad\"},{\"attributes\":{\"click_policy\":\"hide\",\"items\":[{\"id\":\"3371\"}]},\"id\":\"3370\",\"type\":\"Legend\"},{\"attributes\":{\"data_source\":{\"id\":\"3357\"},\"glyph\":{\"id\":\"3358\"},\"hover_glyph\":null,\"muted_glyph\":null,\"nonselection_glyph\":{\"id\":\"3359\"},\"selection_glyph\":null,\"view\":{\"id\":\"3361\"}},\"id\":\"3360\",\"type\":\"GlyphRenderer\"},{\"attributes\":{\"label\":{\"value\":\"Dataloading events\"},\"renderers\":[{\"id\":\"3360\"}]},\"id\":\"3371\",\"type\":\"LegendItem\"},{\"attributes\":{\"below\":[{\"id\":\"3340\"}],\"center\":[{\"id\":\"3343\"},{\"id\":\"3347\"},{\"id\":\"3370\"}],\"left\":[{\"id\":\"3344\"}],\"plot_height\":450,\"plot_width\":850,\"renderers\":[{\"id\":\"3360\"}],\"title\":{\"id\":\"3363\"},\"toolbar\":{\"id\":\"3352\"},\"x_range\":{\"id\":\"3332\"},\"x_scale\":{\"id\":\"3336\"},\"y_range\":{\"id\":\"3334\"},\"y_scale\":{\"id\":\"3338\"}},\"id\":\"3331\",\"subtype\":\"Figure\",\"type\":\"Plot\"},{\"attributes\":{\"start\":0},\"id\":\"3334\",\"type\":\"DataRange1d\"},{\"attributes\":{\"active_drag\":\"auto\",\"active_inspect\":\"auto\",\"active_multi\":null,\"active_scroll\":\"auto\",\"active_tap\":\"auto\",\"tools\":[{\"id\":\"3348\"},{\"id\":\"3349\"},{\"id\":\"3350\"},{\"id\":\"3351\"}]},\"id\":\"3352\",\"type\":\"Toolbar\"},{\"attributes\":{\"text\":\"\"},\"id\":\"3363\",\"type\":\"Title\"},{\"attributes\":{\"data\":{\"left\":[-0.10857899999999998,-0.09857899999999999,-0.08857899999999998,-0.07857899999999998,-0.06857899999999997,-0.05857899999999998,-0.04857899999999998,-0.038578999999999974,-0.02857899999999998,-0.018578999999999984,-0.008578999999999976,0.0014210000000000195,0.011421000000000014,0.021421000000000023,0.03142100000000003,0.04142100000000001,0.05142100000000002,0.06142100000000003,0.07142100000000001,0.08142100000000002,0.09142100000000003,0.10142100000000001,0.11142100000000002,0.12142100000000003,0.131421,0.14142100000000002,0.15142100000000003,0.16142100000000004,0.17142100000000005,0.181421,0.191421,0.20142100000000002,0.21142100000000003,0.22142100000000003,0.23142100000000004,0.24142100000000005,0.251421,0.261421,0.271421,0.28142100000000003,0.29142100000000004,0.30142100000000005,0.311421,0.321421,0.331421,0.34142100000000003,0.35142100000000004,0.36142100000000005,0.371421,0.381421,0.391421,0.40142100000000003,0.41142100000000004,0.42142100000000005,0.43142100000000005,0.44142100000000006,0.45142100000000007,0.4614210000000001,0.471421,0.481421,0.491421,0.501421,0.511421,0.521421,0.531421,0.541421,0.551421,0.5614210000000001,0.5714210000000001,0.5814210000000001,0.5914210000000001,0.601421,0.611421,0.621421,0.631421,0.641421,0.651421,0.661421,0.671421,0.681421,0.6914210000000001,0.7014210000000001,0.7114210000000001,0.7214210000000001,0.731421,0.741421,0.751421,0.761421,0.771421,0.781421,0.791421,0.801421,0.8114210000000001,0.8214210000000001,0.8314210000000001,0.8414210000000001,0.851421,0.861421,0.871421,0.881421],\"right\":[-0.09857899999999999,-0.08857899999999998,-0.07857899999999998,-0.06857899999999997,-0.05857899999999998,-0.04857899999999998,-0.038578999999999974,-0.02857899999999998,-0.018578999999999984,-0.008578999999999976,0.0014210000000000195,0.011421000000000014,0.021421000000000023,0.03142100000000003,0.04142100000000001,0.05142100000000002,0.06142100000000003,0.07142100000000001,0.08142100000000002,0.09142100000000003,0.10142100000000001,0.11142100000000002,0.12142100000000003,0.131421,0.14142100000000002,0.15142100000000003,0.16142100000000004,0.17142100000000005,0.181421,0.191421,0.20142100000000002,0.21142100000000003,0.22142100000000003,0.23142100000000004,0.24142100000000005,0.251421,0.261421,0.271421,0.28142100000000003,0.29142100000000004,0.30142100000000005,0.311421,0.321421,0.331421,0.34142100000000003,0.35142100000000004,0.36142100000000005,0.371421,0.381421,0.391421,0.40142100000000003,0.41142100000000004,0.42142100000000005,0.43142100000000005,0.44142100000000006,0.45142100000000007,0.4614210000000001,0.471421,0.481421,0.491421,0.501421,0.511421,0.521421,0.531421,0.541421,0.551421,0.5614210000000001,0.5714210000000001,0.5814210000000001,0.5914210000000001,0.601421,0.611421,0.621421,0.631421,0.641421,0.651421,0.661421,0.671421,0.681421,0.6914210000000001,0.7014210000000001,0.7114210000000001,0.7214210000000001,0.731421,0.741421,0.751421,0.761421,0.771421,0.781421,0.791421,0.801421,0.8114210000000001,0.8214210000000001,0.8314210000000001,0.8414210000000001,0.851421,0.861421,0.871421,0.881421,0.891421],\"top\":[0,0,0,0,0,0,0,0,0,0,0,0,0,0,0,0,0,0,0,0,0,0,0,0,0,0,0,0,0,0,0,0,0,0,0,0,0,0,0,0,0,0,0,0,0,0,0,0,0,0,1,0,0,0,0,0,0,0,0,0,0,0,0,0,0,0,0,0,0,0,0,0,0,0,0,0,0,0,0,0,0,0,0,0,0,0,0,0,0,0,0,0,0,0,0,0,0,0,0,0]},\"selected\":{\"id\":\"3369\"},\"selection_policy\":{\"id\":\"3368\"}},\"id\":\"3357\",\"type\":\"ColumnDataSource\"},{\"attributes\":{\"axis\":{\"id\":\"3344\"},\"dimension\":1,\"grid_line_color\":\"white\",\"ticker\":null},\"id\":\"3347\",\"type\":\"Grid\"},{\"attributes\":{\"axis_label\":\"Occurrences\",\"formatter\":{\"id\":\"3364\"},\"ticker\":{\"id\":\"3345\"}},\"id\":\"3344\",\"type\":\"LinearAxis\"},{\"attributes\":{\"bottom\":{\"value\":0},\"fill_alpha\":{\"value\":0.8},\"fill_color\":{\"value\":\"#440154\"},\"left\":{\"field\":\"left\"},\"line_color\":{\"value\":\"white\"},\"right\":{\"field\":\"right\"},\"top\":{\"field\":\"top\"}},\"id\":\"3358\",\"type\":\"Quad\"}],\"root_ids\":[\"3373\"]},\"title\":\"Bokeh Application\",\"version\":\"2.2.3\"}};\n",
       "  var render_items = [{\"docid\":\"238992d6-1907-4d98-a75b-bf1aecdb1e9d\",\"root_ids\":[\"3373\"],\"roots\":{\"3373\":\"8a19e6dd-b065-4706-b21c-f651bc924c8d\"}}];\n",
       "  root.Bokeh.embed.embed_items_notebook(docs_json, render_items);\n",
       "\n",
       "  }\n",
       "  if (root.Bokeh !== undefined) {\n",
       "    embed_document(root);\n",
       "  } else {\n",
       "    var attempts = 0;\n",
       "    var timer = setInterval(function(root) {\n",
       "      if (root.Bokeh !== undefined) {\n",
       "        clearInterval(timer);\n",
       "        embed_document(root);\n",
       "      } else {\n",
       "        attempts++;\n",
       "        if (attempts > 100) {\n",
       "          clearInterval(timer);\n",
       "          console.log(\"Bokeh: ERROR: Unable to run BokehJS code because BokehJS library is missing\");\n",
       "        }\n",
       "      }\n",
       "    }, 10, root)\n",
       "  }\n",
       "})(window);"
      ],
      "application/vnd.bokehjs_exec.v0+json": ""
     },
     "metadata": {
      "application/vnd.bokehjs_exec.v0+json": {
       "id": "3373"
      }
     },
     "output_type": "display_data"
    }
   ],
   "source": [
    "if analyse_phase == \"training\":\n",
    "    display(Markdown(\"\"\"### Dataloading analysis\\n\\n\"\"\"))\n",
    "    report = load_report('Dataloader')\n",
    "    if report:\n",
    "        params = report['RuleParameters'].split(\"\\n\")\n",
    "        min_threshold = params[0].split(':')[1]\n",
    "        max_threshold = params[1].split(':')[1]\n",
    "        triggered = report['RuleTriggered']\n",
    "        datapoints = report['Datapoints']\n",
    "    \n",
    "        text=f\"\"\"The number of dataloader workers can greatly affect the overall performance \n",
    "        of your training job. The rule analyzed the number of dataloading processes that have been running in \n",
    "        parallel on the training instance and compares it against the total number of cores. \n",
    "        The rule checked if the number of processes is smaller than {min_threshold}% or larger than \n",
    "        {max_threshold}% the total number of cores. Having too few dataloader workers can slowdown data preprocessing and lead to GPU \n",
    "        underutilization. Having too many dataloader workers may hurt the\n",
    "        overall performance if you are running other compute intensive tasks on the CPU.\n",
    "        The rule analysed {datapoints} datapoints and triggered {triggered} times.\"\"\"\n",
    "        \n",
    "        paragraph = Paragraph(text=f\"{text}\", width=900)\n",
    "        show(paragraph)\n",
    "        text = \"\"\n",
    "        if 'cores' in report['Details']:\n",
    "            cores = int(report['Details']['cores'])\n",
    "            dataloaders = report['Details']['dataloaders']\n",
    "            if dataloaders < cores: \n",
    "                text=f\"\"\"{text} Your training instance provided {cores} CPU cores, however your training job only \n",
    "                ran on average {dataloaders} dataloader workers in parallel. We recommend you to increase the number of\n",
    "                dataloader workers.\"\"\"\n",
    "            if dataloaders > cores:\n",
    "                text=f\"\"\"{text} Your training instance provided {cores} CPU cores, however your training job ran \n",
    "                on average {dataloaders} dataloader workers. We recommed you to decrease the number of dataloader\n",
    "                workers.\"\"\"\n",
    "        if 'pin_memory' in report['Details'] and report['Details']['pin_memory'] == False:\n",
    "            text=f\"\"\"{text} Using pinned memory also improves performance because it enables fast data transfer to CUDA-enabled GPUs.\n",
    "            The rule detected that your training job was not using pinned memory. \n",
    "            In case of using PyTorch Dataloader, you can enable this by setting pin_memory=True.\"\"\"\n",
    "            \n",
    "        if 'prefetch' in report['Details'] and report['Details']['prefetch'] == False:\n",
    "            text=f\"\"\"{text} It appears that your training job did not perform any data pre-fetching. Pre-fetching can improve your\n",
    "            data input pipeline as it produces the data ahead of time.\"\"\"\n",
    "        paragraph = Paragraph(text=f\"{text}\", width=900)\n",
    "        show(paragraph)\n",
    "        \n",
    "        colors=bokeh.palettes.viridis(10)\n",
    "        if \"dataloading_time\" in report['Details']:\n",
    "            median = round(report['Details'][\"dataloading_time\"]['p50'],4)\n",
    "            p95 = round(report['Details'][\"dataloading_time\"]['p95'],4)\n",
    "            p25 = round(report['Details'][\"dataloading_time\"]['p25'],4)\n",
    "            binedges = report['Details'][\"dataloading_time\"]['binedges']\n",
    "            probs = report['Details'][\"dataloading_time\"]['probs']\n",
    "            text=f\"\"\"The following histogram shows the distribution of dataloading times that have been measured throughout your training job. The median dataloading time was {median}s. \n",
    "            The 95th percentile was {p95}s and the 25th percentile was {p25}s\"\"\"\n",
    "\n",
    "            plot = figure(plot_height=450, \n",
    "                              plot_width=850,\n",
    "                              toolbar_location='right',\n",
    "                              tools=\"hover,wheel_zoom,reset,pan\",\n",
    "                              x_range=(binedges[0], binedges[-1])\n",
    "                              )\n",
    "            \n",
    "            plot.quad( top=probs,\n",
    "                        bottom=0,\n",
    "                        left=binedges[:-1],\n",
    "                        right=binedges[1:],\n",
    "                        line_color=\"white\",\n",
    "                        fill_color=colors[0],\n",
    "                        fill_alpha=0.8,\n",
    "                        legend=\"Dataloading events\" )\n",
    "\n",
    "            plot.y_range.start = 0\n",
    "            plot.xaxis.axis_label = f\"\"\"Dataloading in [s]\"\"\"\n",
    "            plot.yaxis.axis_label = \"Occurrences\"\n",
    "            plot.grid.grid_line_color = \"white\"\n",
    "            plot.legend.click_policy=\"hide\"\n",
    "\n",
    "            paragraph = Paragraph(text=f\"{text}\", width=900)\n",
    "            show(column(paragraph, plot))"
   ]
  },
  {
   "cell_type": "code",
   "execution_count": 26,
   "metadata": {
    "execution": {
     "iopub.execute_input": "2025-07-04T00:04:15.160232Z",
     "iopub.status.busy": "2025-07-04T00:04:15.159662Z",
     "iopub.status.idle": "2025-07-04T00:04:15.324012Z",
     "shell.execute_reply": "2025-07-04T00:04:15.324415Z"
    },
    "papermill": {
     "duration": 0.216243,
     "end_time": "2025-07-04T00:04:15.324540",
     "exception": false,
     "start_time": "2025-07-04T00:04:15.108297",
     "status": "completed"
    },
    "tags": [
     "hide-input"
    ]
   },
   "outputs": [
    {
     "data": {
      "text/markdown": [
       " ### Batch size"
      ],
      "text/plain": [
       "<IPython.core.display.Markdown object>"
      ]
     },
     "metadata": {},
     "output_type": "display_data"
    },
    {
     "data": {
      "text/html": [
       "\n",
       "\n",
       "\n",
       "\n",
       "\n",
       "\n",
       "  <div class=\"bk-root\" id=\"d03ecbe0-9e79-4bbc-9b27-21c71f250cbd\" data-root-id=\"3536\"></div>\n"
      ]
     },
     "metadata": {},
     "output_type": "display_data"
    },
    {
     "data": {
      "application/javascript": [
       "(function(root) {\n",
       "  function embed_document(root) {\n",
       "    \n",
       "  var docs_json = {\"446a8c3d-968d-494b-898a-6b87aa355d2d\":{\"roots\":{\"references\":[{\"attributes\":{\"text\":\"The BatchSize rule helps to detect if GPU is underutilized because of the batch size being \\n        too small. To detect this the rule analyzes the GPU memory footprint, CPU and GPU utilization. The rule checked if the 95th percentile of CPU utilization is below cpu_threshold_p95 of \\n        70%, the 95th percentile of GPU utilization is below gpu_threshold_p95 of 70% and the 95th percentile of memory footprint         below gpu_memory_threshold_p95 of 70%. In your training job this happened 17 times.         The rule skipped the first 1000 datapoints. The rule computed the percentiles over window size of 500 continuous datapoints.\\n\\n        The rule analysed 2971 datapoints and triggered 17 times.\\n        \",\"width\":800},\"id\":\"3536\",\"type\":\"Paragraph\"}],\"root_ids\":[\"3536\"]},\"title\":\"Bokeh Application\",\"version\":\"2.2.3\"}};\n",
       "  var render_items = [{\"docid\":\"446a8c3d-968d-494b-898a-6b87aa355d2d\",\"root_ids\":[\"3536\"],\"roots\":{\"3536\":\"d03ecbe0-9e79-4bbc-9b27-21c71f250cbd\"}}];\n",
       "  root.Bokeh.embed.embed_items_notebook(docs_json, render_items);\n",
       "\n",
       "  }\n",
       "  if (root.Bokeh !== undefined) {\n",
       "    embed_document(root);\n",
       "  } else {\n",
       "    var attempts = 0;\n",
       "    var timer = setInterval(function(root) {\n",
       "      if (root.Bokeh !== undefined) {\n",
       "        clearInterval(timer);\n",
       "        embed_document(root);\n",
       "      } else {\n",
       "        attempts++;\n",
       "        if (attempts > 100) {\n",
       "          clearInterval(timer);\n",
       "          console.log(\"Bokeh: ERROR: Unable to run BokehJS code because BokehJS library is missing\");\n",
       "        }\n",
       "      }\n",
       "    }, 10, root)\n",
       "  }\n",
       "})(window);"
      ],
      "application/vnd.bokehjs_exec.v0+json": ""
     },
     "metadata": {
      "application/vnd.bokehjs_exec.v0+json": {
       "id": "3536"
      }
     },
     "output_type": "display_data"
    },
    {
     "data": {
      "text/html": [
       "\n",
       "\n",
       "\n",
       "\n",
       "\n",
       "\n",
       "  <div class=\"bk-root\" id=\"adee070a-5aaa-4f1e-8e33-1986df2e539c\" data-root-id=\"3659\"></div>\n"
      ]
     },
     "metadata": {},
     "output_type": "display_data"
    },
    {
     "data": {
      "application/javascript": [
       "(function(root) {\n",
       "  function embed_document(root) {\n",
       "    \n",
       "  var docs_json = {\"b07b47f2-a119-4e60-be1c-f890ba528d78\":{\"roots\":{\"references\":[{\"attributes\":{\"text\":\"Your training job is underutilizing the instance. You may want to consider\\n            either switch to a smaller instance type or to increase the batch size. \\n            The last time the BatchSize rule triggered in your training job was on 07/03/2025 at 23:39:00.\\n            The following boxplots are a snapshot from the timestamps. They the total \\n            CPU utilization, the GPU utilization, and the GPU memory usage per GPU (without outliers).\",\"width\":800},\"id\":\"3659\",\"type\":\"Paragraph\"}],\"root_ids\":[\"3659\"]},\"title\":\"Bokeh Application\",\"version\":\"2.2.3\"}};\n",
       "  var render_items = [{\"docid\":\"b07b47f2-a119-4e60-be1c-f890ba528d78\",\"root_ids\":[\"3659\"],\"roots\":{\"3659\":\"adee070a-5aaa-4f1e-8e33-1986df2e539c\"}}];\n",
       "  root.Bokeh.embed.embed_items_notebook(docs_json, render_items);\n",
       "\n",
       "  }\n",
       "  if (root.Bokeh !== undefined) {\n",
       "    embed_document(root);\n",
       "  } else {\n",
       "    var attempts = 0;\n",
       "    var timer = setInterval(function(root) {\n",
       "      if (root.Bokeh !== undefined) {\n",
       "        clearInterval(timer);\n",
       "        embed_document(root);\n",
       "      } else {\n",
       "        attempts++;\n",
       "        if (attempts > 100) {\n",
       "          clearInterval(timer);\n",
       "          console.log(\"Bokeh: ERROR: Unable to run BokehJS code because BokehJS library is missing\");\n",
       "        }\n",
       "      }\n",
       "    }, 10, root)\n",
       "  }\n",
       "})(window);"
      ],
      "application/vnd.bokehjs_exec.v0+json": ""
     },
     "metadata": {
      "application/vnd.bokehjs_exec.v0+json": {
       "id": "3659"
      }
     },
     "output_type": "display_data"
    },
    {
     "data": {
      "text/html": [
       "\n",
       "\n",
       "\n",
       "\n",
       "\n",
       "\n",
       "  <div class=\"bk-root\" id=\"586333e9-acaa-4d8b-892e-db04a472243a\" data-root-id=\"3782\"></div>\n"
      ]
     },
     "metadata": {},
     "output_type": "display_data"
    },
    {
     "data": {
      "application/javascript": [
       "(function(root) {\n",
       "  function embed_document(root) {\n",
       "    \n",
       "  var docs_json = {\"fc5a6c1e-0634-4494-805b-1989ab0e54a7\":{\"roots\":{\"references\":[{\"attributes\":{\"below\":[{\"id\":\"3793\"}],\"center\":[{\"id\":\"3796\"},{\"id\":\"3800\"}],\"left\":[{\"id\":\"3797\"}],\"plot_height\":350,\"plot_width\":1000,\"renderers\":[{\"id\":\"3813\"},{\"id\":\"3818\"},{\"id\":\"3823\"},{\"id\":\"3828\"},{\"id\":\"3833\"},{\"id\":\"3838\"},{\"id\":\"3843\"},{\"id\":\"3848\"},{\"id\":\"3853\"},{\"id\":\"3858\"},{\"id\":\"3863\"},{\"id\":\"3868\"},{\"id\":\"3873\"},{\"id\":\"3878\"},{\"id\":\"3883\"},{\"id\":\"3888\"},{\"id\":\"3893\"},{\"id\":\"3898\"}],\"title\":{\"id\":\"3783\"},\"toolbar\":{\"id\":\"3805\"},\"x_range\":{\"id\":\"3785\"},\"x_scale\":{\"id\":\"3789\"},\"y_range\":{\"id\":\"3787\"},\"y_scale\":{\"id\":\"3791\"}},\"id\":\"3782\",\"subtype\":\"Figure\",\"type\":\"Plot\"},{\"attributes\":{\"x0\":{\"value\":3},\"x1\":{\"value\":3},\"y0\":{\"value\":38.0},\"y1\":{\"value\":22.0}},\"id\":\"3871\",\"type\":\"Segment\"},{\"attributes\":{\"x0\":{\"value\":1},\"x1\":{\"value\":1},\"y0\":{\"value\":13.103750000000003},\"y1\":{\"value\":18.936875}},\"id\":\"3816\",\"type\":\"Segment\"},{\"attributes\":{\"x0\":{\"value\":1},\"x1\":{\"value\":1},\"y0\":{\"value\":28.658749999999998},\"y1\":{\"value\":22.825625}},\"id\":\"3811\",\"type\":\"Segment\"},{\"attributes\":{\"text\":\"Node algo-1\"},\"id\":\"3783\",\"type\":\"Title\"},{\"attributes\":{\"line_alpha\":{\"value\":0.1},\"x0\":{\"value\":1},\"x1\":{\"value\":1},\"y0\":{\"value\":28.658749999999998},\"y1\":{\"value\":22.825625}},\"id\":\"3812\",\"type\":\"Segment\"},{\"attributes\":{\"data_source\":{\"id\":\"3895\"},\"glyph\":{\"id\":\"3896\"},\"hover_glyph\":null,\"muted_glyph\":null,\"nonselection_glyph\":{\"id\":\"3897\"},\"selection_glyph\":null,\"view\":{\"id\":\"3899\"}},\"id\":\"3898\",\"type\":\"GlyphRenderer\"},{\"attributes\":{\"data_source\":{\"id\":\"3840\"},\"glyph\":{\"id\":\"3841\"},\"hover_glyph\":null,\"muted_glyph\":null,\"nonselection_glyph\":{\"id\":\"3842\"},\"selection_glyph\":null,\"view\":{\"id\":\"3844\"}},\"id\":\"3843\",\"type\":\"GlyphRenderer\"},{\"attributes\":{\"fill_alpha\":{\"value\":0.1},\"fill_color\":{\"value\":\"#1f77b4\"},\"height\":{\"units\":\"data\",\"value\":0.01},\"line_alpha\":{\"value\":0.1},\"width\":{\"units\":\"data\",\"value\":0.2},\"x\":{\"value\":3},\"y\":{\"value\":38.0}},\"id\":\"3897\",\"type\":\"Rect\"},{\"attributes\":{\"source\":{\"id\":\"3820\"}},\"id\":\"3824\",\"type\":\"CDSView\"},{\"attributes\":{\"source\":{\"id\":\"3875\"}},\"id\":\"3879\",\"type\":\"CDSView\"},{\"attributes\":{},\"id\":\"4036\",\"type\":\"UnionRenderers\"},{\"attributes\":{\"bottom\":{\"value\":22.825625},\"fill_color\":{\"value\":\"#FDE725\"},\"top\":{\"value\":20.265},\"width\":{\"value\":0.7},\"x\":{\"value\":1}},\"id\":\"3821\",\"type\":\"VBar\"},{\"attributes\":{\"source\":{\"id\":\"3845\"}},\"id\":\"3849\",\"type\":\"CDSView\"},{\"attributes\":{\"bottom\":{\"value\":22.0},\"fill_alpha\":{\"value\":0.1},\"fill_color\":{\"value\":\"#FDE725\"},\"line_alpha\":{\"value\":0.1},\"top\":{\"value\":3.0},\"width\":{\"value\":0.7},\"x\":{\"value\":3}},\"id\":\"3882\",\"type\":\"VBar\"},{\"attributes\":{},\"id\":\"4037\",\"type\":\"Selection\"},{\"attributes\":{\"bottom\":{\"value\":32.0},\"fill_color\":{\"value\":\"#FDE725\"},\"top\":{\"value\":5.0},\"width\":{\"value\":0.7},\"x\":{\"value\":2}},\"id\":\"3851\",\"type\":\"VBar\"},{\"attributes\":{\"line_alpha\":{\"value\":0.1},\"x0\":{\"value\":1},\"x1\":{\"value\":1},\"y0\":{\"value\":13.103750000000003},\"y1\":{\"value\":18.936875}},\"id\":\"3817\",\"type\":\"Segment\"},{\"attributes\":{\"bottom\":{\"value\":22.0},\"fill_color\":{\"value\":\"#FDE725\"},\"top\":{\"value\":3.0},\"width\":{\"value\":0.7},\"x\":{\"value\":3}},\"id\":\"3881\",\"type\":\"VBar\"},{\"attributes\":{},\"id\":\"4038\",\"type\":\"UnionRenderers\"},{\"attributes\":{\"data_source\":{\"id\":\"3815\"},\"glyph\":{\"id\":\"3816\"},\"hover_glyph\":null,\"muted_glyph\":null,\"nonselection_glyph\":{\"id\":\"3817\"},\"selection_glyph\":null,\"view\":{\"id\":\"3819\"}},\"id\":\"3818\",\"type\":\"GlyphRenderer\"},{\"attributes\":{\"data\":{},\"selected\":{\"id\":\"4057\"},\"selection_policy\":{\"id\":\"4056\"}},\"id\":\"3880\",\"type\":\"ColumnDataSource\"},{\"attributes\":{},\"id\":\"4039\",\"type\":\"Selection\"},{\"attributes\":{\"data_source\":{\"id\":\"3880\"},\"glyph\":{\"id\":\"3881\"},\"hover_glyph\":null,\"muted_glyph\":null,\"nonselection_glyph\":{\"id\":\"3882\"},\"selection_glyph\":null,\"view\":{\"id\":\"3884\"}},\"id\":\"3883\",\"type\":\"GlyphRenderer\"},{\"attributes\":{\"bottom\":{\"value\":22.825625},\"fill_alpha\":{\"value\":0.1},\"fill_color\":{\"value\":\"#FDE725\"},\"line_alpha\":{\"value\":0.1},\"top\":{\"value\":20.265},\"width\":{\"value\":0.7},\"x\":{\"value\":1}},\"id\":\"3822\",\"type\":\"VBar\"},{\"attributes\":{\"bottom\":{\"value\":32.0},\"fill_alpha\":{\"value\":0.1},\"fill_color\":{\"value\":\"#FDE725\"},\"line_alpha\":{\"value\":0.1},\"top\":{\"value\":5.0},\"width\":{\"value\":0.7},\"x\":{\"value\":2}},\"id\":\"3852\",\"type\":\"VBar\"},{\"attributes\":{\"data\":{},\"selected\":{\"id\":\"4033\"},\"selection_policy\":{\"id\":\"4032\"}},\"id\":\"3820\",\"type\":\"ColumnDataSource\"},{\"attributes\":{\"line_alpha\":{\"value\":0.1},\"x0\":{\"value\":2},\"x1\":{\"value\":2},\"y0\":{\"value\":0.0},\"y1\":{\"value\":0.0}},\"id\":\"3847\",\"type\":\"Segment\"},{\"attributes\":{\"bottom\":{\"value\":3.0},\"fill_alpha\":{\"value\":0.1},\"fill_color\":{\"value\":\"#440154\"},\"line_alpha\":{\"value\":0.1},\"top\":{\"value\":0.0},\"width\":{\"value\":0.7},\"x\":{\"value\":3}},\"id\":\"3887\",\"type\":\"VBar\"},{\"attributes\":{},\"id\":\"4040\",\"type\":\"UnionRenderers\"},{\"attributes\":{\"data_source\":{\"id\":\"3845\"},\"glyph\":{\"id\":\"3846\"},\"hover_glyph\":null,\"muted_glyph\":null,\"nonselection_glyph\":{\"id\":\"3847\"},\"selection_glyph\":null,\"view\":{\"id\":\"3849\"}},\"id\":\"3848\",\"type\":\"GlyphRenderer\"},{\"attributes\":{\"data\":{},\"selected\":{\"id\":\"4045\"},\"selection_policy\":{\"id\":\"4044\"}},\"id\":\"3850\",\"type\":\"ColumnDataSource\"},{\"attributes\":{\"line_alpha\":{\"value\":0.1},\"x0\":{\"value\":3},\"x1\":{\"value\":3},\"y0\":{\"value\":0.0},\"y1\":{\"value\":0.0}},\"id\":\"3877\",\"type\":\"Segment\"},{\"attributes\":{},\"id\":\"4041\",\"type\":\"Selection\"},{\"attributes\":{\"source\":{\"id\":\"3815\"}},\"id\":\"3819\",\"type\":\"CDSView\"},{\"attributes\":{\"data\":{},\"selected\":{\"id\":\"4047\"},\"selection_policy\":{\"id\":\"4046\"}},\"id\":\"3855\",\"type\":\"ColumnDataSource\"},{\"attributes\":{\"bottom\":{\"value\":3.0},\"fill_color\":{\"value\":\"#440154\"},\"top\":{\"value\":0.0},\"width\":{\"value\":0.7},\"x\":{\"value\":3}},\"id\":\"3886\",\"type\":\"VBar\"},{\"attributes\":{\"data_source\":{\"id\":\"3850\"},\"glyph\":{\"id\":\"3851\"},\"hover_glyph\":null,\"muted_glyph\":null,\"nonselection_glyph\":{\"id\":\"3852\"},\"selection_glyph\":null,\"view\":{\"id\":\"3854\"}},\"id\":\"3853\",\"type\":\"GlyphRenderer\"},{\"attributes\":{},\"id\":\"4042\",\"type\":\"UnionRenderers\"},{\"attributes\":{\"bottom\":{\"value\":5.0},\"fill_alpha\":{\"value\":0.1},\"fill_color\":{\"value\":\"#440154\"},\"line_alpha\":{\"value\":0.1},\"top\":{\"value\":0.0},\"width\":{\"value\":0.7},\"x\":{\"value\":2}},\"id\":\"3857\",\"type\":\"VBar\"},{\"attributes\":{\"source\":{\"id\":\"3880\"}},\"id\":\"3884\",\"type\":\"CDSView\"},{\"attributes\":{\"bottom\":{\"value\":20.265},\"fill_color\":{\"value\":\"#440154\"},\"top\":{\"value\":18.936875},\"width\":{\"value\":0.7},\"x\":{\"value\":1}},\"id\":\"3826\",\"type\":\"VBar\"},{\"attributes\":{},\"id\":\"4043\",\"type\":\"Selection\"},{\"attributes\":{\"bottom\":{\"value\":20.265},\"fill_alpha\":{\"value\":0.1},\"fill_color\":{\"value\":\"#440154\"},\"line_alpha\":{\"value\":0.1},\"top\":{\"value\":18.936875},\"width\":{\"value\":0.7},\"x\":{\"value\":1}},\"id\":\"3827\",\"type\":\"VBar\"},{\"attributes\":{\"data\":{},\"selected\":{\"id\":\"4059\"},\"selection_policy\":{\"id\":\"4058\"}},\"id\":\"3885\",\"type\":\"ColumnDataSource\"},{\"attributes\":{\"data_source\":{\"id\":\"3820\"},\"glyph\":{\"id\":\"3821\"},\"hover_glyph\":null,\"muted_glyph\":null,\"nonselection_glyph\":{\"id\":\"3822\"},\"selection_glyph\":null,\"view\":{\"id\":\"3824\"}},\"id\":\"3823\",\"type\":\"GlyphRenderer\"},{\"attributes\":{},\"id\":\"4044\",\"type\":\"UnionRenderers\"},{\"attributes\":{\"data_source\":{\"id\":\"3885\"},\"glyph\":{\"id\":\"3886\"},\"hover_glyph\":null,\"muted_glyph\":null,\"nonselection_glyph\":{\"id\":\"3887\"},\"selection_glyph\":null,\"view\":{\"id\":\"3889\"}},\"id\":\"3888\",\"type\":\"GlyphRenderer\"},{\"attributes\":{},\"id\":\"3791\",\"type\":\"LinearScale\"},{\"attributes\":{\"source\":{\"id\":\"3850\"}},\"id\":\"3854\",\"type\":\"CDSView\"},{\"attributes\":{\"fill_color\":{\"value\":\"#1f77b4\"},\"height\":{\"units\":\"data\",\"value\":0.01},\"width\":{\"units\":\"data\",\"value\":0.2},\"x\":{\"value\":3},\"y\":{\"value\":38.0}},\"id\":\"3896\",\"type\":\"Rect\"},{\"attributes\":{},\"id\":\"4045\",\"type\":\"Selection\"},{\"attributes\":{\"data_source\":{\"id\":\"3855\"},\"glyph\":{\"id\":\"3856\"},\"hover_glyph\":null,\"muted_glyph\":null,\"nonselection_glyph\":{\"id\":\"3857\"},\"selection_glyph\":null,\"view\":{\"id\":\"3859\"}},\"id\":\"3858\",\"type\":\"GlyphRenderer\"},{\"attributes\":{},\"id\":\"4046\",\"type\":\"UnionRenderers\"},{\"attributes\":{\"fill_color\":{\"value\":\"#1f77b4\"},\"height\":{\"units\":\"data\",\"value\":0.01},\"width\":{\"units\":\"data\",\"value\":0.2},\"x\":{\"value\":3},\"y\":{\"value\":0.0}},\"id\":\"3891\",\"type\":\"Rect\"},{\"attributes\":{\"data\":{},\"selected\":{\"id\":\"4035\"},\"selection_policy\":{\"id\":\"4034\"}},\"id\":\"3825\",\"type\":\"ColumnDataSource\"},{\"attributes\":{\"fill_color\":{\"value\":\"#1f77b4\"},\"height\":{\"units\":\"data\",\"value\":0.01},\"width\":{\"units\":\"data\",\"value\":0.2},\"x\":{\"value\":2},\"y\":{\"value\":55.0}},\"id\":\"3866\",\"type\":\"Rect\"},{\"attributes\":{},\"id\":\"4047\",\"type\":\"Selection\"},{\"attributes\":{\"source\":{\"id\":\"3885\"}},\"id\":\"3889\",\"type\":\"CDSView\"},{\"attributes\":{\"data_source\":{\"id\":\"3825\"},\"glyph\":{\"id\":\"3826\"},\"hover_glyph\":null,\"muted_glyph\":null,\"nonselection_glyph\":{\"id\":\"3827\"},\"selection_glyph\":null,\"view\":{\"id\":\"3829\"}},\"id\":\"3828\",\"type\":\"GlyphRenderer\"},{\"attributes\":{},\"id\":\"4048\",\"type\":\"UnionRenderers\"},{\"attributes\":{\"source\":{\"id\":\"3835\"}},\"id\":\"3839\",\"type\":\"CDSView\"},{\"attributes\":{\"fill_color\":{\"value\":\"#1f77b4\"},\"height\":{\"units\":\"data\",\"value\":0.01},\"width\":{\"units\":\"data\",\"value\":0.2},\"x\":{\"value\":2},\"y\":{\"value\":0.0}},\"id\":\"3861\",\"type\":\"Rect\"},{\"attributes\":{\"data\":{},\"selected\":{\"id\":\"4061\"},\"selection_policy\":{\"id\":\"4060\"}},\"id\":\"3890\",\"type\":\"ColumnDataSource\"},{\"attributes\":{\"source\":{\"id\":\"3890\"}},\"id\":\"3894\",\"type\":\"CDSView\"},{\"attributes\":{},\"id\":\"4049\",\"type\":\"Selection\"},{\"attributes\":{\"source\":{\"id\":\"3855\"}},\"id\":\"3859\",\"type\":\"CDSView\"},{\"attributes\":{\"fill_color\":{\"value\":\"#1f77b4\"},\"height\":{\"units\":\"data\",\"value\":0.01},\"width\":{\"units\":\"data\",\"value\":0.2},\"x\":{\"value\":1},\"y\":{\"value\":13.103750000000003}},\"id\":\"3831\",\"type\":\"Rect\"},{\"attributes\":{},\"id\":\"4050\",\"type\":\"UnionRenderers\"},{\"attributes\":{\"data\":{},\"selected\":{\"id\":\"4049\"},\"selection_policy\":{\"id\":\"4048\"}},\"id\":\"3860\",\"type\":\"ColumnDataSource\"},{\"attributes\":{\"data_source\":{\"id\":\"3890\"},\"glyph\":{\"id\":\"3891\"},\"hover_glyph\":null,\"muted_glyph\":null,\"nonselection_glyph\":{\"id\":\"3892\"},\"selection_glyph\":null,\"view\":{\"id\":\"3894\"}},\"id\":\"3893\",\"type\":\"GlyphRenderer\"},{\"attributes\":{\"source\":{\"id\":\"3860\"}},\"id\":\"3864\",\"type\":\"CDSView\"},{\"attributes\":{\"source\":{\"id\":\"3825\"}},\"id\":\"3829\",\"type\":\"CDSView\"},{\"attributes\":{},\"id\":\"4051\",\"type\":\"Selection\"},{\"attributes\":{\"data_source\":{\"id\":\"3875\"},\"glyph\":{\"id\":\"3876\"},\"hover_glyph\":null,\"muted_glyph\":null,\"nonselection_glyph\":{\"id\":\"3877\"},\"selection_glyph\":null,\"view\":{\"id\":\"3879\"}},\"id\":\"3878\",\"type\":\"GlyphRenderer\"},{\"attributes\":{\"axis\":{\"id\":\"3797\"},\"dimension\":1,\"grid_line_color\":\"white\",\"grid_line_width\":0,\"ticker\":null},\"id\":\"3800\",\"type\":\"Grid\"},{\"attributes\":{\"data\":{},\"selected\":{\"id\":\"4037\"},\"selection_policy\":{\"id\":\"4036\"}},\"id\":\"3830\",\"type\":\"ColumnDataSource\"},{\"attributes\":{},\"id\":\"4052\",\"type\":\"UnionRenderers\"},{\"attributes\":{\"source\":{\"id\":\"3830\"}},\"id\":\"3834\",\"type\":\"CDSView\"},{\"attributes\":{\"fill_alpha\":{\"value\":0.1},\"fill_color\":{\"value\":\"#1f77b4\"},\"height\":{\"units\":\"data\",\"value\":0.01},\"line_alpha\":{\"value\":0.1},\"width\":{\"units\":\"data\",\"value\":0.2},\"x\":{\"value\":3},\"y\":{\"value\":0.0}},\"id\":\"3892\",\"type\":\"Rect\"},{\"attributes\":{\"data_source\":{\"id\":\"3860\"},\"glyph\":{\"id\":\"3861\"},\"hover_glyph\":null,\"muted_glyph\":null,\"nonselection_glyph\":{\"id\":\"3862\"},\"selection_glyph\":null,\"view\":{\"id\":\"3864\"}},\"id\":\"3863\",\"type\":\"GlyphRenderer\"},{\"attributes\":{\"bottom\":{\"value\":5.0},\"fill_color\":{\"value\":\"#440154\"},\"top\":{\"value\":0.0},\"width\":{\"value\":0.7},\"x\":{\"value\":2}},\"id\":\"3856\",\"type\":\"VBar\"},{\"attributes\":{},\"id\":\"4053\",\"type\":\"Selection\"},{\"attributes\":{\"formatter\":{\"id\":\"4027\"},\"major_label_overrides\":{\"1\":\"cpu\",\"2\":\"gpu0\",\"3\":\"gpu0_memory\"},\"major_label_text_font_size\":\"10px\",\"ticker\":{\"id\":\"3900\"}},\"id\":\"3793\",\"type\":\"LinearAxis\"},{\"attributes\":{\"data\":{},\"selected\":{\"id\":\"4063\"},\"selection_policy\":{\"id\":\"4062\"}},\"id\":\"3895\",\"type\":\"ColumnDataSource\"},{\"attributes\":{},\"id\":\"4027\",\"type\":\"BasicTickFormatter\"},{\"attributes\":{},\"id\":\"4054\",\"type\":\"UnionRenderers\"},{\"attributes\":{},\"id\":\"3789\",\"type\":\"LinearScale\"},{\"attributes\":{\"data_source\":{\"id\":\"3830\"},\"glyph\":{\"id\":\"3831\"},\"hover_glyph\":null,\"muted_glyph\":null,\"nonselection_glyph\":{\"id\":\"3832\"},\"selection_glyph\":null,\"view\":{\"id\":\"3834\"}},\"id\":\"3833\",\"type\":\"GlyphRenderer\"},{\"attributes\":{\"fill_alpha\":{\"value\":0.1},\"fill_color\":{\"value\":\"#1f77b4\"},\"height\":{\"units\":\"data\",\"value\":0.01},\"line_alpha\":{\"value\":0.1},\"width\":{\"units\":\"data\",\"value\":0.2},\"x\":{\"value\":2},\"y\":{\"value\":0.0}},\"id\":\"3862\",\"type\":\"Rect\"},{\"attributes\":{\"data\":{},\"selected\":{\"id\":\"4041\"},\"selection_policy\":{\"id\":\"4040\"}},\"id\":\"3840\",\"type\":\"ColumnDataSource\"},{\"attributes\":{},\"id\":\"4030\",\"type\":\"UnionRenderers\"},{\"attributes\":{},\"id\":\"4055\",\"type\":\"Selection\"},{\"attributes\":{},\"id\":\"3787\",\"type\":\"DataRange1d\"},{\"attributes\":{\"data\":{},\"selected\":{\"id\":\"4029\"},\"selection_policy\":{\"id\":\"4028\"}},\"id\":\"3810\",\"type\":\"ColumnDataSource\"},{\"attributes\":{\"data\":{},\"selected\":{\"id\":\"4051\"},\"selection_policy\":{\"id\":\"4050\"}},\"id\":\"3865\",\"type\":\"ColumnDataSource\"},{\"attributes\":{\"fill_alpha\":{\"value\":0.1},\"fill_color\":{\"value\":\"#1f77b4\"},\"height\":{\"units\":\"data\",\"value\":0.01},\"line_alpha\":{\"value\":0.1},\"width\":{\"units\":\"data\",\"value\":0.2},\"x\":{\"value\":1},\"y\":{\"value\":13.103750000000003}},\"id\":\"3832\",\"type\":\"Rect\"},{\"attributes\":{\"source\":{\"id\":\"3865\"}},\"id\":\"3869\",\"type\":\"CDSView\"},{\"attributes\":{},\"id\":\"4056\",\"type\":\"UnionRenderers\"},{\"attributes\":{},\"id\":\"3798\",\"type\":\"BasicTicker\"},{\"attributes\":{\"data\":{},\"selected\":{\"id\":\"4039\"},\"selection_policy\":{\"id\":\"4038\"}},\"id\":\"3835\",\"type\":\"ColumnDataSource\"},{\"attributes\":{},\"id\":\"4035\",\"type\":\"Selection\"},{\"attributes\":{},\"id\":\"4057\",\"type\":\"Selection\"},{\"attributes\":{\"source\":{\"id\":\"3810\"}},\"id\":\"3814\",\"type\":\"CDSView\"},{\"attributes\":{\"fill_color\":{\"value\":\"#1f77b4\"},\"height\":{\"units\":\"data\",\"value\":0.01},\"width\":{\"units\":\"data\",\"value\":0.2},\"x\":{\"value\":1},\"y\":{\"value\":28.658749999999998}},\"id\":\"3836\",\"type\":\"Rect\"},{\"attributes\":{\"data_source\":{\"id\":\"3865\"},\"glyph\":{\"id\":\"3866\"},\"hover_glyph\":null,\"muted_glyph\":null,\"nonselection_glyph\":{\"id\":\"3867\"},\"selection_glyph\":null,\"view\":{\"id\":\"3869\"}},\"id\":\"3868\",\"type\":\"GlyphRenderer\"},{\"attributes\":{\"source\":{\"id\":\"3895\"}},\"id\":\"3899\",\"type\":\"CDSView\"},{\"attributes\":{},\"id\":\"4058\",\"type\":\"UnionRenderers\"},{\"attributes\":{\"axis\":{\"id\":\"3793\"},\"grid_line_color\":null,\"grid_line_width\":0,\"ticker\":null},\"id\":\"3796\",\"type\":\"Grid\"},{\"attributes\":{},\"id\":\"4028\",\"type\":\"UnionRenderers\"},{\"attributes\":{\"axis_label\":\"Utilization in %\",\"formatter\":{\"id\":\"4025\"},\"ticker\":{\"id\":\"3798\"}},\"id\":\"3797\",\"type\":\"LinearAxis\"},{\"attributes\":{},\"id\":\"4025\",\"type\":\"BasicTickFormatter\"},{\"attributes\":{},\"id\":\"4059\",\"type\":\"Selection\"},{\"attributes\":{\"fill_alpha\":{\"value\":0.1},\"fill_color\":{\"value\":\"#1f77b4\"},\"height\":{\"units\":\"data\",\"value\":0.01},\"line_alpha\":{\"value\":0.1},\"width\":{\"units\":\"data\",\"value\":0.2},\"x\":{\"value\":2},\"y\":{\"value\":55.0}},\"id\":\"3867\",\"type\":\"Rect\"},{\"attributes\":{\"data_source\":{\"id\":\"3835\"},\"glyph\":{\"id\":\"3836\"},\"hover_glyph\":null,\"muted_glyph\":null,\"nonselection_glyph\":{\"id\":\"3837\"},\"selection_glyph\":null,\"view\":{\"id\":\"3839\"}},\"id\":\"3838\",\"type\":\"GlyphRenderer\"},{\"attributes\":{},\"id\":\"4060\",\"type\":\"UnionRenderers\"},{\"attributes\":{\"data\":{},\"selected\":{\"id\":\"4031\"},\"selection_policy\":{\"id\":\"4030\"}},\"id\":\"3815\",\"type\":\"ColumnDataSource\"},{\"attributes\":{\"source\":{\"id\":\"3840\"}},\"id\":\"3844\",\"type\":\"CDSView\"},{\"attributes\":{\"data\":{},\"selected\":{\"id\":\"4053\"},\"selection_policy\":{\"id\":\"4052\"}},\"id\":\"3870\",\"type\":\"ColumnDataSource\"},{\"attributes\":{},\"id\":\"4029\",\"type\":\"Selection\"},{\"attributes\":{},\"id\":\"4061\",\"type\":\"Selection\"},{\"attributes\":{\"fill_alpha\":{\"value\":0.1},\"fill_color\":{\"value\":\"#1f77b4\"},\"height\":{\"units\":\"data\",\"value\":0.01},\"line_alpha\":{\"value\":0.1},\"width\":{\"units\":\"data\",\"value\":0.2},\"x\":{\"value\":1},\"y\":{\"value\":28.658749999999998}},\"id\":\"3837\",\"type\":\"Rect\"},{\"attributes\":{\"source\":{\"id\":\"3870\"}},\"id\":\"3874\",\"type\":\"CDSView\"},{\"attributes\":{\"callback\":null},\"id\":\"3801\",\"type\":\"HoverTool\"},{\"attributes\":{\"x0\":{\"value\":3},\"x1\":{\"value\":3},\"y0\":{\"value\":0.0},\"y1\":{\"value\":0.0}},\"id\":\"3876\",\"type\":\"Segment\"},{\"attributes\":{},\"id\":\"4062\",\"type\":\"UnionRenderers\"},{\"attributes\":{},\"id\":\"3802\",\"type\":\"WheelZoomTool\"},{\"attributes\":{},\"id\":\"4031\",\"type\":\"Selection\"},{\"attributes\":{},\"id\":\"4032\",\"type\":\"UnionRenderers\"},{\"attributes\":{},\"id\":\"4063\",\"type\":\"Selection\"},{\"attributes\":{\"x0\":{\"value\":2},\"x1\":{\"value\":2},\"y0\":{\"value\":55.0},\"y1\":{\"value\":32.0}},\"id\":\"3841\",\"type\":\"Segment\"},{\"attributes\":{\"line_alpha\":{\"value\":0.1},\"x0\":{\"value\":3},\"x1\":{\"value\":3},\"y0\":{\"value\":38.0},\"y1\":{\"value\":22.0}},\"id\":\"3872\",\"type\":\"Segment\"},{\"attributes\":{\"ticks\":[0,1,2,3]},\"id\":\"3900\",\"type\":\"FixedTicker\"},{\"attributes\":{},\"id\":\"3803\",\"type\":\"ResetTool\"},{\"attributes\":{\"end\":20},\"id\":\"3785\",\"type\":\"Range1d\"},{\"attributes\":{\"x0\":{\"value\":2},\"x1\":{\"value\":2},\"y0\":{\"value\":0.0},\"y1\":{\"value\":0.0}},\"id\":\"3846\",\"type\":\"Segment\"},{\"attributes\":{\"data\":{},\"selected\":{\"id\":\"4055\"},\"selection_policy\":{\"id\":\"4054\"}},\"id\":\"3875\",\"type\":\"ColumnDataSource\"},{\"attributes\":{},\"id\":\"3804\",\"type\":\"PanTool\"},{\"attributes\":{},\"id\":\"4033\",\"type\":\"Selection\"},{\"attributes\":{\"data_source\":{\"id\":\"3810\"},\"glyph\":{\"id\":\"3811\"},\"hover_glyph\":null,\"muted_glyph\":null,\"nonselection_glyph\":{\"id\":\"3812\"},\"selection_glyph\":null,\"view\":{\"id\":\"3814\"}},\"id\":\"3813\",\"type\":\"GlyphRenderer\"},{\"attributes\":{\"data_source\":{\"id\":\"3870\"},\"glyph\":{\"id\":\"3871\"},\"hover_glyph\":null,\"muted_glyph\":null,\"nonselection_glyph\":{\"id\":\"3872\"},\"selection_glyph\":null,\"view\":{\"id\":\"3874\"}},\"id\":\"3873\",\"type\":\"GlyphRenderer\"},{\"attributes\":{},\"id\":\"4034\",\"type\":\"UnionRenderers\"},{\"attributes\":{\"data\":{},\"selected\":{\"id\":\"4043\"},\"selection_policy\":{\"id\":\"4042\"}},\"id\":\"3845\",\"type\":\"ColumnDataSource\"},{\"attributes\":{\"line_alpha\":{\"value\":0.1},\"x0\":{\"value\":2},\"x1\":{\"value\":2},\"y0\":{\"value\":55.0},\"y1\":{\"value\":32.0}},\"id\":\"3842\",\"type\":\"Segment\"},{\"attributes\":{\"active_drag\":\"auto\",\"active_inspect\":\"auto\",\"active_multi\":null,\"active_scroll\":\"auto\",\"active_tap\":\"auto\",\"tools\":[{\"id\":\"3801\"},{\"id\":\"3802\"},{\"id\":\"3803\"},{\"id\":\"3804\"}]},\"id\":\"3805\",\"type\":\"Toolbar\"}],\"root_ids\":[\"3782\"]},\"title\":\"Bokeh Application\",\"version\":\"2.2.3\"}};\n",
       "  var render_items = [{\"docid\":\"fc5a6c1e-0634-4494-805b-1989ab0e54a7\",\"root_ids\":[\"3782\"],\"roots\":{\"3782\":\"586333e9-acaa-4d8b-892e-db04a472243a\"}}];\n",
       "  root.Bokeh.embed.embed_items_notebook(docs_json, render_items);\n",
       "\n",
       "  }\n",
       "  if (root.Bokeh !== undefined) {\n",
       "    embed_document(root);\n",
       "  } else {\n",
       "    var attempts = 0;\n",
       "    var timer = setInterval(function(root) {\n",
       "      if (root.Bokeh !== undefined) {\n",
       "        clearInterval(timer);\n",
       "        embed_document(root);\n",
       "      } else {\n",
       "        attempts++;\n",
       "        if (attempts > 100) {\n",
       "          clearInterval(timer);\n",
       "          console.log(\"Bokeh: ERROR: Unable to run BokehJS code because BokehJS library is missing\");\n",
       "        }\n",
       "      }\n",
       "    }, 10, root)\n",
       "  }\n",
       "})(window);"
      ],
      "application/vnd.bokehjs_exec.v0+json": ""
     },
     "metadata": {
      "application/vnd.bokehjs_exec.v0+json": {
       "id": "3782"
      }
     },
     "output_type": "display_data"
    }
   ],
   "source": [
    "if analyse_phase == \"training\":\n",
    "    display(Markdown(\"\"\" ### Batch size\"\"\"))\n",
    "    report = load_report('BatchSize')\n",
    "    if report:\n",
    "        params = report['RuleParameters'].split('\\n')\n",
    "        cpu_threshold_p95 = int(params[0].split(':')[1])\n",
    "        gpu_threshold_p95 = int(params[1].split(':')[1])\n",
    "        gpu_memory_threshold_p95 = int(params[2].split(':')[1])\n",
    "        patience = int(params[3].split(':')[1])\n",
    "        window = int(params[4].split(':')[1])\n",
    "        violations = report['Violations']\n",
    "        triggered = report['RuleTriggered']\n",
    "        datapoints = report['Datapoints']\n",
    "        \n",
    "        text = Paragraph(text=f\"\"\"The BatchSize rule helps to detect if GPU is underutilized because of the batch size being \n",
    "        too small. To detect this the rule analyzes the GPU memory footprint, CPU and GPU utilization. The rule checked if the 95th percentile of CPU utilization is below cpu_threshold_p95 of \n",
    "        {cpu_threshold_p95}%, the 95th percentile of GPU utilization is below gpu_threshold_p95 of {gpu_threshold_p95}% and the 95th percentile of memory footprint \\\n",
    "        below gpu_memory_threshold_p95 of {gpu_memory_threshold_p95}%. In your training job this happened {violations} times. \\\n",
    "        The rule skipped the first {patience} datapoints. The rule computed the percentiles over window size of {window} continuous datapoints.\\n\n",
    "        The rule analysed {datapoints} datapoints and triggered {triggered} times.\n",
    "        \"\"\", width=800)\n",
    "        show(text)\n",
    "        if len(report['Details']) >0: \n",
    "            timestamp = us_since_epoch_to_human_readable_time(report['Details']['last_timestamp'])\n",
    "            date = datetime.datetime.strptime(timestamp, '%Y-%m-%dT%H:%M:%S:%f')\n",
    "            day = date.date().strftime(\"%m/%d/%Y\")\n",
    "            hour = date.time().strftime(\"%H:%M:%S\")\n",
    "            del report['Details']['last_timestamp']\n",
    "            text = Paragraph(text=f\"\"\"Your training job is underutilizing the instance. You may want to consider\n",
    "            either switch to a smaller instance type or to increase the batch size. \n",
    "            The last time the BatchSize rule triggered in your training job was on {day} at {hour}.\n",
    "            The following boxplots are a snapshot from the timestamps. They the total \n",
    "            CPU utilization, the GPU utilization, and the GPU memory usage per GPU (without outliers).\"\"\", \n",
    "            width=800)\n",
    "            show(text)\n",
    "\n",
    "            for node_id in report['Details']:\n",
    "                xmax = max(20, len(report['Details'][node_id]))\n",
    "                \n",
    "                plot = figure(plot_height=350, \n",
    "                          plot_width=1000,\n",
    "                          toolbar_location='right',\n",
    "                          tools=\"hover,wheel_zoom,reset,pan\", \n",
    "                          title=f\"Node {node_id}\",\n",
    "                          x_range=(0,xmax)\n",
    "                          )\n",
    "                \n",
    "                for index, key in enumerate(report['Details'][node_id]):\n",
    "                        upper = report['Details'][node_id][key]['upper']\n",
    "                        lower = report['Details'][node_id][key]['lower']\n",
    "                        p75 = report['Details'][node_id][key]['p75']\n",
    "                        p25 = report['Details'][node_id][key]['p25']\n",
    "                        p50 = report['Details'][node_id][key]['p50']\n",
    "\n",
    "                        plot.segment(index+1, upper, index+1, p75, line_color=\"black\")\n",
    "                        plot.segment(index+1, lower, index+1, p25, line_color=\"black\")\n",
    "\n",
    "                        plot.vbar(index+1, 0.7, p50, p75, fill_color=\"#FDE725\", line_color=\"black\")\n",
    "                        plot.vbar(index+1, 0.7, p25, p50, fill_color=\"#440154\", line_color=\"black\")\n",
    "\n",
    "                        plot.rect(index+1, lower, 0.2, 0.01, line_color=\"black\")\n",
    "                        plot.rect(index+1, upper, 0.2, 0.01, line_color=\"black\")\n",
    "\n",
    "                        plot.xaxis.major_label_overrides[index+1] = key\n",
    "                        plot.xgrid.grid_line_color = None\n",
    "                        plot.ygrid.grid_line_color = \"white\"\n",
    "                        plot.grid.grid_line_width = 0\n",
    "\n",
    "                        plot.xaxis.major_label_text_font_size=\"10px\"\n",
    "                plot.xaxis.ticker = np.arange(index+2)\n",
    "                plot.yaxis.axis_label = \"Utilization in %\"\n",
    "                show(plot)"
   ]
  },
  {
   "cell_type": "code",
   "execution_count": 27,
   "metadata": {
    "execution": {
     "iopub.execute_input": "2025-07-04T00:04:15.469255Z",
     "iopub.status.busy": "2025-07-04T00:04:15.414746Z",
     "iopub.status.idle": "2025-07-04T00:04:15.507757Z",
     "shell.execute_reply": "2025-07-04T00:04:15.508162Z"
    },
    "papermill": {
     "duration": 0.145002,
     "end_time": "2025-07-04T00:04:15.508302",
     "exception": false,
     "start_time": "2025-07-04T00:04:15.363300",
     "status": "completed"
    },
    "tags": [
     "hide-input"
    ]
   },
   "outputs": [
    {
     "data": {
      "text/markdown": [
       "### CPU bottlenecks\n",
       "\n"
      ],
      "text/plain": [
       "<IPython.core.display.Markdown object>"
      ]
     },
     "metadata": {},
     "output_type": "display_data"
    },
    {
     "data": {
      "text/html": [
       "\n",
       "\n",
       "\n",
       "\n",
       "\n",
       "\n",
       "  <div class=\"bk-root\" id=\"4fa58cf3-64b8-4322-b0cc-e08e6d70ad4e\" data-root-id=\"4264\"></div>\n"
      ]
     },
     "metadata": {},
     "output_type": "display_data"
    },
    {
     "data": {
      "application/javascript": [
       "(function(root) {\n",
       "  function embed_document(root) {\n",
       "    \n",
       "  var docs_json = {\"360ae7e0-dd99-46b3-a5ad-08bf0f0f5745\":{\"roots\":{\"references\":[{\"attributes\":{\"text\":\"The CPUBottleneck rule checked when the CPU utilization was above cpu_threshold of 90% \\n        and GPU utilization was below gpu_threshold of 10%. \\n        During initialization utilization is likely to be zero, so the rule skipped the first 1000 datapoints.\\n        With this configuration the rule found 596 CPU bottlenecks which is 20% of the total time. This is below the threshold of 50%\\n        The rule analysed 2973 data points and triggered 0 times.\",\"width\":900},\"id\":\"4264\",\"type\":\"Paragraph\"}],\"root_ids\":[\"4264\"]},\"title\":\"Bokeh Application\",\"version\":\"2.2.3\"}};\n",
       "  var render_items = [{\"docid\":\"360ae7e0-dd99-46b3-a5ad-08bf0f0f5745\",\"root_ids\":[\"4264\"],\"roots\":{\"4264\":\"4fa58cf3-64b8-4322-b0cc-e08e6d70ad4e\"}}];\n",
       "  root.Bokeh.embed.embed_items_notebook(docs_json, render_items);\n",
       "\n",
       "  }\n",
       "  if (root.Bokeh !== undefined) {\n",
       "    embed_document(root);\n",
       "  } else {\n",
       "    var attempts = 0;\n",
       "    var timer = setInterval(function(root) {\n",
       "      if (root.Bokeh !== undefined) {\n",
       "        clearInterval(timer);\n",
       "        embed_document(root);\n",
       "      } else {\n",
       "        attempts++;\n",
       "        if (attempts > 100) {\n",
       "          clearInterval(timer);\n",
       "          console.log(\"Bokeh: ERROR: Unable to run BokehJS code because BokehJS library is missing\");\n",
       "        }\n",
       "      }\n",
       "    }, 10, root)\n",
       "  }\n",
       "})(window);"
      ],
      "application/vnd.bokehjs_exec.v0+json": ""
     },
     "metadata": {
      "application/vnd.bokehjs_exec.v0+json": {
       "id": "4264"
      }
     },
     "output_type": "display_data"
    }
   ],
   "source": [
    "if analyse_phase == \"training\": \n",
    "    display(Markdown(\"\"\"### CPU bottlenecks\\n\\n\"\"\"))\n",
    "\n",
    "    report = load_report('CPUBottleneck')\n",
    "    if report:\n",
    "        params = report['RuleParameters'].split('\\n')\n",
    "        threshold = int(params[0].split(':')[1])\n",
    "        cpu_threshold = int(params[1].split(':')[1])\n",
    "        gpu_threshold = int(params[2].split(':')[1])\n",
    "        patience = int(params[3].split(':')[1])\n",
    "        violations = report['Violations']\n",
    "        triggered = report['RuleTriggered']\n",
    "        datapoints = report['Datapoints']\n",
    "        \n",
    "        if report['Violations'] > 0:\n",
    "            perc = int(report['Violations']/report['Datapoints']*100)\n",
    "        else:\n",
    "            perc = 0\n",
    "        if perc < threshold:\n",
    "            string = 'below'\n",
    "        else:\n",
    "            string = 'above'\n",
    "        text = f\"\"\"The CPUBottleneck rule checked when the CPU utilization was above cpu_threshold of {cpu_threshold}% \n",
    "        and GPU utilization was below gpu_threshold of {gpu_threshold}%. \n",
    "        During initialization utilization is likely to be zero, so the rule skipped the first {patience} datapoints.\n",
    "        With this configuration the rule found {violations} CPU bottlenecks which is {perc}% of the total time. This is {string} the threshold of {threshold}%\n",
    "        The rule analysed {datapoints} data points and triggered {triggered} times.\"\"\"\n",
    "        \n",
    "        paragraph = Paragraph(text=text, width=900)\n",
    "        show(paragraph)\n",
    "        if report:\n",
    "\n",
    "            plots = []\n",
    "            text = \"\"\n",
    "            if report['RuleTriggered'] > 0:\n",
    "\n",
    "                low_gpu = report['Details']['low_gpu_utilization']\n",
    "                cpu_bottleneck = {}\n",
    "                cpu_bottleneck[\"GPU usage above threshold\"] = report[\"Datapoints\"] - report[\"Details\"][\"low_gpu_utilization\"]\n",
    "                cpu_bottleneck[\"GPU usage below threshold\"] = report[\"Details\"][\"low_gpu_utilization\"] - len(report[\"Details\"])\n",
    "                cpu_bottleneck[\"Low GPU usage due to CPU bottlenecks\"] = len(report[\"Details\"][\"bottlenecks\"])\n",
    "\n",
    "                n_bottlenecks = round(len(report['Details']['bottlenecks'])/datapoints * 100, 2)\n",
    "                text = f\"\"\"The following chart (left) shows how many datapoints were below the gpu_threshold of {gpu_threshold}%\n",
    "                and how many of those datapoints were likely caused by a CPU bottleneck. The rule found {low_gpu} out of {datapoints} datapoints which had a GPU utilization \n",
    "                below {gpu_threshold}%. Out of those datapoints {n_bottlenecks}% were likely caused by CPU bottlenecks. \n",
    "                \"\"\"\n",
    "\n",
    "                plot = create_piechart(cpu_bottleneck, \n",
    "                                    height=350,\n",
    "                                    width=600,\n",
    "                                    x1=0.2,\n",
    "                                    x2=0.6,\n",
    "                                    radius=0.3, \n",
    "                                    title=\"Low GPU usage caused by CPU bottlenecks\")\n",
    "\n",
    "                plots.append(plot)\n",
    "\n",
    "                if 'phase' in report['Details']:\n",
    "                    text = f\"\"\"{text} The chart (in the middle) shows whether CPU bottlenecks mainly \n",
    "                    happened during train/validation phase.\n",
    "                    \"\"\"\n",
    "\n",
    "                    plot = create_piechart(report['Details']['phase'], \n",
    "                                        height=350,\n",
    "                                        width=600,\n",
    "                                        x1=0.2,\n",
    "                                        x2=0.6,\n",
    "                                        radius=0.3, \n",
    "                                        title=\"The ratio between time spent on TRAIN/EVAL phase\")\n",
    "                    plots.append(plot)\n",
    "\n",
    "                if 'forward_backward' in report['Details'] and  len(report['Details']['forward_backward']) > 0:\n",
    "\n",
    "                    event = max(report['Details']['forward_backward'], key=report['Details']['forward_backward'].get)\n",
    "                    perc = report['Details']['forward_backward'][event]\n",
    "\n",
    "                    text = f\"\"\"{text} The pie charts on the right shows a more detailed breakdown. \n",
    "                    It shows that {int(perc)}% of the training time was spent on event {event}\"\"\"\n",
    "\n",
    "                    plot = create_piechart(report['Details']['forward_backward'], \n",
    "                                        height=350,\n",
    "                                        width=600,\n",
    "                                        x1=0.2,\n",
    "                                        x2=0.6,\n",
    "                                        radius=0.3, \n",
    "                                        title=\"The ratio between forward and backward pass\") \n",
    "                    plots.append(plot)\n",
    "\n",
    "                if len(plots) > 0:\n",
    "                    paragraph = Paragraph(text=text, width=900)\n",
    "                    show(column(paragraph, row(plots)))\n",
    "\n",
    "                plots = []\n",
    "                text = \"\"\n",
    "                if 'ratio' in report['Details'] and len(report['Details']['ratio']) > 0:\n",
    "\n",
    "                    key = list(report['Details']['ratio'].keys())[0]\n",
    "                    ratio = report['Details']['ratio'][key]\n",
    "\n",
    "                    text = f\"\"\"The following pie chart shows a breakdown of the CPU/GPU operators that happened during CPU bottlenecks. \n",
    "                        It shows that {int(ratio)}% of the training time was spent on executing operators in \"{key}\".\"\"\"\n",
    "\n",
    "                    plot = create_piechart(report['Details']['ratio'], \n",
    "                                            height=350,\n",
    "                                            width=600,\n",
    "                                            x1=0.2,\n",
    "                                            x2=0.6,\n",
    "                                            radius=0.3, \n",
    "                                            title=\"The ratio between CPU/GPU operators\")\n",
    "                    plots.append(plot)\n",
    "\n",
    "\n",
    "                if 'general' in report['Details'] and len(report['Details']['general']) > 0:\n",
    "\n",
    "                    event = max(report['Details']['general'], key=report['Details']['general'].get)\n",
    "                    perc = report['Details']['general'][event]\n",
    "                \n",
    "                    plot = create_piechart(report['Details']['general'], \n",
    "                                        height=350,\n",
    "                                        width=600,\n",
    "                                        x1=0.2,\n",
    "                                        x2=0.6,\n",
    "                                        radius=0.3, \n",
    "                                        title=\"General metrics recorded in framework \")\n",
    "                    plots.append(plot)\n",
    "\n",
    "                if len(plots) > 0:\n",
    "                    paragraph = Paragraph(text=text, width=900)\n",
    "                    show(column(paragraph, row(plots)))\n",
    "\n",
    "                plots = []\n",
    "                text = \"\"\n",
    "                if 'horovod' in report['Details'] and len(report['Details']['horovod']) > 0:\n",
    "\n",
    "                    event = max(report['Details']['horovod'], key=report['Details']['horovod'].get)\n",
    "                    perc = report['Details']['horovod'][event]\n",
    "                    text = f\"\"\"The following pie chart shows a detailed breakdown of the Horovod metrics \n",
    "                    that have been recorded when the CPU bottleneck happened. The most expensive function was \n",
    "                    {event} with {int(perc)}%\"\"\"\n",
    "\n",
    "                    plot = create_piechart(report['Details']['horovod'], \n",
    "                                        height=350,\n",
    "                                        width=600,\n",
    "                                        x1=0.2,\n",
    "                                        x2=0.6,\n",
    "                                        radius=0.3, \n",
    "                                        title=\"General metrics recorded in framework \")\n",
    "\n",
    "                    paragraph = Paragraph(text=text, width=900)\n",
    "                    show(column(paragraph, row(plot)))"
   ]
  },
  {
   "cell_type": "code",
   "execution_count": 28,
   "metadata": {
    "execution": {
     "iopub.execute_input": "2025-07-04T00:04:15.611682Z",
     "iopub.status.busy": "2025-07-04T00:04:15.592504Z",
     "iopub.status.idle": "2025-07-04T00:04:15.649457Z",
     "shell.execute_reply": "2025-07-04T00:04:15.649864Z"
    },
    "papermill": {
     "duration": 0.099314,
     "end_time": "2025-07-04T00:04:15.649996",
     "exception": false,
     "start_time": "2025-07-04T00:04:15.550682",
     "status": "completed"
    },
    "tags": [
     "hide-input"
    ]
   },
   "outputs": [
    {
     "data": {
      "text/markdown": [
       "### I/O bottlenecks\n",
       "\n"
      ],
      "text/plain": [
       "<IPython.core.display.Markdown object>"
      ]
     },
     "metadata": {},
     "output_type": "display_data"
    },
    {
     "data": {
      "text/html": [
       "\n",
       "\n",
       "\n",
       "\n",
       "\n",
       "\n",
       "  <div class=\"bk-root\" id=\"270bc239-927d-4052-96d2-ee1a0ddc3194\" data-root-id=\"4427\"></div>\n"
      ]
     },
     "metadata": {},
     "output_type": "display_data"
    },
    {
     "data": {
      "application/javascript": [
       "(function(root) {\n",
       "  function embed_document(root) {\n",
       "    \n",
       "  var docs_json = {\"0a9828b2-32fd-406d-b3ae-c3cf03646165\":{\"roots\":{\"references\":[{\"attributes\":{\"text\":\"The IOBottleneck rule checked when I/O wait time was above io_threshold of 50% \\n        and GPU utilization was below gpu_threshold of 10. During initialization utilization is likely to be zero, so the rule skipped the first 1000 datapoints. \\n        With this configuration the rule found 43 I/O bottlenecks which is 1% of the total time. This is below the threshold of 50%.\\n        The rule analysed 2973 datapoints and triggered 0 times.\",\"width\":900},\"id\":\"4427\",\"type\":\"Paragraph\"}],\"root_ids\":[\"4427\"]},\"title\":\"Bokeh Application\",\"version\":\"2.2.3\"}};\n",
       "  var render_items = [{\"docid\":\"0a9828b2-32fd-406d-b3ae-c3cf03646165\",\"root_ids\":[\"4427\"],\"roots\":{\"4427\":\"270bc239-927d-4052-96d2-ee1a0ddc3194\"}}];\n",
       "  root.Bokeh.embed.embed_items_notebook(docs_json, render_items);\n",
       "\n",
       "  }\n",
       "  if (root.Bokeh !== undefined) {\n",
       "    embed_document(root);\n",
       "  } else {\n",
       "    var attempts = 0;\n",
       "    var timer = setInterval(function(root) {\n",
       "      if (root.Bokeh !== undefined) {\n",
       "        clearInterval(timer);\n",
       "        embed_document(root);\n",
       "      } else {\n",
       "        attempts++;\n",
       "        if (attempts > 100) {\n",
       "          clearInterval(timer);\n",
       "          console.log(\"Bokeh: ERROR: Unable to run BokehJS code because BokehJS library is missing\");\n",
       "        }\n",
       "      }\n",
       "    }, 10, root)\n",
       "  }\n",
       "})(window);"
      ],
      "application/vnd.bokehjs_exec.v0+json": ""
     },
     "metadata": {
      "application/vnd.bokehjs_exec.v0+json": {
       "id": "4427"
      }
     },
     "output_type": "display_data"
    }
   ],
   "source": [
    "if analyse_phase == \"training\": \n",
    "    display(Markdown(\"\"\"### I/O bottlenecks\\n\\n\"\"\"))\n",
    "\n",
    "    report = load_report('IOBottleneck')\n",
    "    if report:\n",
    "        params = report['RuleParameters'].split('\\n')\n",
    "        threshold = int(params[0].split(':')[1])\n",
    "        io_threshold = int(params[1].split(':')[1])\n",
    "        gpu_threshold = int(params[2].split(':')[1])\n",
    "        patience = int(params[3].split(':')[1])\n",
    "        violations = report['Violations']\n",
    "        triggered = report['RuleTriggered']\n",
    "        datapoints = report['Datapoints']\n",
    "    \n",
    "        if report['Violations'] > 0:\n",
    "            perc = int(report['Violations']/report['Datapoints']*100)\n",
    "        else:\n",
    "            perc = 0\n",
    "        if perc < threshold:\n",
    "            string = 'below'\n",
    "        else:\n",
    "            string = 'above'\n",
    "        text = f\"\"\"The IOBottleneck rule checked when I/O wait time was above io_threshold of {io_threshold}% \n",
    "        and GPU utilization was below gpu_threshold of {gpu_threshold}. During initialization utilization is likely to be zero, so the rule skipped the first {patience} datapoints. \n",
    "        With this configuration the rule found {violations} I/O bottlenecks which is {perc}% of the total time. This is {string} the threshold of {threshold}%.\n",
    "        The rule analysed {datapoints} datapoints and triggered {triggered} times.\"\"\"\n",
    "        paragraph = Paragraph(text=text, width=900)\n",
    "        show(paragraph)\n",
    "        \n",
    "        if report:\n",
    "\n",
    "            plots = []\n",
    "            text = \"\"\n",
    "            if report['RuleTriggered'] > 0:\n",
    "\n",
    "                low_gpu = report['Details']['low_gpu_utilization']\n",
    "                cpu_bottleneck = {}\n",
    "                cpu_bottleneck[\"GPU usage above threshold\"] = report[\"Datapoints\"] - report[\"Details\"][\"low_gpu_utilization\"]\n",
    "                cpu_bottleneck[\"GPU usage below threshold\"] = report[\"Details\"][\"low_gpu_utilization\"] - len(report[\"Details\"])\n",
    "                cpu_bottleneck[\"Low GPU usage due to I/O bottlenecks\"] = len(report[\"Details\"][\"bottlenecks\"])\n",
    "\n",
    "                n_bottlenecks = round(len(report['Details']['bottlenecks'])/datapoints * 100, 2)\n",
    "                text = f\"\"\"The following chart (left) shows how many datapoints were below the gpu_threshold of {gpu_threshold}%\n",
    "                and how many of those datapoints were likely caused by a I/O bottleneck. The rule found {low_gpu} out of {datapoints} datapoints which had a GPU utilization \n",
    "                below {gpu_threshold}%. Out of those datapoints {n_bottlenecks}% were likely caused by I/O bottlenecks. \n",
    "                \"\"\"\n",
    "\n",
    "                plot = create_piechart(cpu_bottleneck, \n",
    "                                    height=350,\n",
    "                                    width=600,\n",
    "                                    x1=0.2,\n",
    "                                    x2=0.6,\n",
    "                                    radius=0.3, \n",
    "                                    title=\"Low GPU usage caused by I/O bottlenecks\")\n",
    "\n",
    "                plots.append(plot)\n",
    "\n",
    "                if 'phase' in report['Details']:\n",
    "                    text = f\"\"\"{text} The chart (in the middle) shows whether I/O bottlenecks mainly happened during the training or validation phase.\n",
    "                    \"\"\"\n",
    "\n",
    "                    plot = create_piechart(report['Details']['phase'], \n",
    "                                        height=350,\n",
    "                                        width=600,\n",
    "                                        x1=0.2,\n",
    "                                        x2=0.6,\n",
    "                                        radius=0.3, \n",
    "                                        title=\"The ratio between the time spent on the TRAIN/EVAL phase\")\n",
    "                    plots.append(plot)\n",
    "\n",
    "                if 'forward_backward' in report['Details'] and  len(report['Details']['forward_backward']) > 0:\n",
    "\n",
    "                    event = max(report['Details']['forward_backward'], key=report['Details']['forward_backward'].get)\n",
    "                    perc = report['Details']['forward_backward'][event]\n",
    "\n",
    "                    text = f\"\"\"{text} The pie charts on the right shows a more detailed breakdown. \n",
    "                    It shows that {int(perc)}% of the training time was spent on event \"{event}\".\"\"\"\n",
    "\n",
    "                    plot = create_piechart(report['Details']['forward_backward'], \n",
    "                                        height=350,\n",
    "                                        width=600,\n",
    "                                        x1=0.2,\n",
    "                                        x2=0.6,\n",
    "                                        radius=0.3, \n",
    "                                        title=\"The ratio between forward and backward pass\") \n",
    "                    plots.append(plot)\n",
    "\n",
    "                if len(plots) > 0:\n",
    "                    paragraph = Paragraph(text=text, width=900)\n",
    "                    show(column(paragraph, row(plots)))\n",
    "\n",
    "                plots = []\n",
    "                text = \"\"\n",
    "                if 'ratio' in report['Details'] and len(report['Details']['ratio']) > 0:\n",
    "\n",
    "                    key = list(report['Details']['ratio'].keys())[0]\n",
    "                    ratio = report['Details']['ratio'][key]\n",
    "\n",
    "                    text = f\"\"\"The following pie chart shows a breakdown of the CPU/GPU operators that happened \n",
    "                    during I/O bottlenecks. It shows that {int(ratio)}% of the training time was spent on executing operators in \"{key}\".\"\"\"\n",
    "\n",
    "                    plot = create_piechart(report['Details']['ratio'], \n",
    "                                            height=350,\n",
    "                                            width=600,\n",
    "                                            x1=0.2,\n",
    "                                            x2=0.6,\n",
    "                                            radius=0.3, \n",
    "                                            title=\"Ratio between CPU/GPU operators\")\n",
    "                    plots.append(plot)\n",
    "\n",
    "\n",
    "                if 'general' in report['Details'] and len(report['Details']['general']) > 0:\n",
    "\n",
    "                    event = max(report['Details']['general'], key=report['Details']['general'].get)\n",
    "                    perc = report['Details']['general'][event]\n",
    "\n",
    "                    plot = create_piechart(report['Details']['general'], \n",
    "                                        height=350,\n",
    "                                        width=600,\n",
    "                                        x1=0.2,\n",
    "                                        x2=0.6,\n",
    "                                        radius=0.3, \n",
    "                                        title=\"General metrics recorded in framework \")\n",
    "                    plots.append(plot)\n",
    "\n",
    "                if len(plots) > 0:\n",
    "                    paragraph = Paragraph(text=text, width=900)\n",
    "                    show(column(paragraph, row(plots)))\n",
    "\n",
    "                plots = []\n",
    "                text = \"\"\n",
    "                if 'horovod' in report['Details'] and len(report['Details']['horovod']) > 0:\n",
    "\n",
    "                    event = max(report['Details']['horovod'], key=report['Details']['horovod'].get)\n",
    "                    perc = report['Details']['horovod'][event]\n",
    "                    text = f\"\"\"The following pie chart shows a detailed breakdown of the Horovod metrics that have been\n",
    "                    recorded when I/O bottleneck happened. The most expensive function was {event} with {int(perc)}%\"\"\"\n",
    "\n",
    "                    plot = create_piechart(report['Details']['horovod'], \n",
    "                                        height=350,\n",
    "                                        width=600,\n",
    "                                        x1=0.2,\n",
    "                                        x2=0.6,\n",
    "                                        radius=0.3, \n",
    "                                        title=\"General metrics recorded in framework \")\n",
    "\n",
    "                    paragraph = Paragraph(text=text, width=900)\n",
    "                    show(column(paragraph, row(plot)))    \n"
   ]
  },
  {
   "cell_type": "code",
   "execution_count": 29,
   "metadata": {
    "execution": {
     "iopub.execute_input": "2025-07-04T00:04:15.746978Z",
     "iopub.status.busy": "2025-07-04T00:04:15.738518Z",
     "iopub.status.idle": "2025-07-04T00:04:15.927861Z",
     "shell.execute_reply": "2025-07-04T00:04:15.928265Z"
    },
    "papermill": {
     "duration": 0.237747,
     "end_time": "2025-07-04T00:04:15.928395",
     "exception": false,
     "start_time": "2025-07-04T00:04:15.690648",
     "status": "completed"
    },
    "tags": [
     "hide-input"
    ]
   },
   "outputs": [
    {
     "data": {
      "text/markdown": [
       "### GPU memory\n",
       "\n"
      ],
      "text/plain": [
       "<IPython.core.display.Markdown object>"
      ]
     },
     "metadata": {},
     "output_type": "display_data"
    },
    {
     "data": {
      "text/html": [
       "\n",
       "\n",
       "\n",
       "\n",
       "\n",
       "\n",
       "  <div class=\"bk-root\" id=\"54bc17ac-d20e-4a82-8e64-f9da2d3f1d6b\" data-root-id=\"4590\"></div>\n"
      ]
     },
     "metadata": {},
     "output_type": "display_data"
    },
    {
     "data": {
      "application/javascript": [
       "(function(root) {\n",
       "  function embed_document(root) {\n",
       "    \n",
       "  var docs_json = {\"5738fa70-00b7-4b05-bd7a-fdcdff11bbf5\":{\"roots\":{\"references\":[{\"attributes\":{\"text\":\"The GPUMemoryIncrease rule helps to detect large increase in memory usage on GPUs. \\n        The rule checked if the moving average of memory increased by more than 5.0%. \\n        So if the moving average increased for instance from 10% to 16.0%, \\n        the rule would have triggered. During initialization utilization  is likely 0, so the rule skipped the first 1000 datapoints.\\n        The moving average was computed on a window size of 10 continuous datapoints. The rule detected 38 violations\\n        where the moving average between previous and current time window increased by more than 5.0%.\\n        The rule analysed 2972 datapoints and triggered 38 times.\",\"width\":900},\"id\":\"4590\",\"type\":\"Paragraph\"}],\"root_ids\":[\"4590\"]},\"title\":\"Bokeh Application\",\"version\":\"2.2.3\"}};\n",
       "  var render_items = [{\"docid\":\"5738fa70-00b7-4b05-bd7a-fdcdff11bbf5\",\"root_ids\":[\"4590\"],\"roots\":{\"4590\":\"54bc17ac-d20e-4a82-8e64-f9da2d3f1d6b\"}}];\n",
       "  root.Bokeh.embed.embed_items_notebook(docs_json, render_items);\n",
       "\n",
       "  }\n",
       "  if (root.Bokeh !== undefined) {\n",
       "    embed_document(root);\n",
       "  } else {\n",
       "    var attempts = 0;\n",
       "    var timer = setInterval(function(root) {\n",
       "      if (root.Bokeh !== undefined) {\n",
       "        clearInterval(timer);\n",
       "        embed_document(root);\n",
       "      } else {\n",
       "        attempts++;\n",
       "        if (attempts > 100) {\n",
       "          clearInterval(timer);\n",
       "          console.log(\"Bokeh: ERROR: Unable to run BokehJS code because BokehJS library is missing\");\n",
       "        }\n",
       "      }\n",
       "    }, 10, root)\n",
       "  }\n",
       "})(window);"
      ],
      "application/vnd.bokehjs_exec.v0+json": ""
     },
     "metadata": {
      "application/vnd.bokehjs_exec.v0+json": {
       "id": "4590"
      }
     },
     "output_type": "display_data"
    },
    {
     "data": {
      "text/html": [
       "\n",
       "\n",
       "\n",
       "\n",
       "\n",
       "\n",
       "  <div class=\"bk-root\" id=\"9aa0edf3-bc07-48a9-9fcc-b8b6675d2da6\" data-root-id=\"4753\"></div>\n"
      ]
     },
     "metadata": {},
     "output_type": "display_data"
    },
    {
     "data": {
      "application/javascript": [
       "(function(root) {\n",
       "  function embed_document(root) {\n",
       "    \n",
       "  var docs_json = {\"8ab51e4f-a3a8-45a1-b2c4-4c07f033e9ec\":{\"roots\":{\"references\":[{\"attributes\":{\"text\":\"Your training job triggered memory spikes. \\n            The last time the GPUMemoryIncrease rule triggered in your training job was on 07/04/2025 at 00:03:00.\\n            The following boxplots are a snapshot from the timestamps. They show for each node and GPU the corresponding\\n            memory utilization (without outliers).\",\"width\":900},\"id\":\"4753\",\"type\":\"Paragraph\"}],\"root_ids\":[\"4753\"]},\"title\":\"Bokeh Application\",\"version\":\"2.2.3\"}};\n",
       "  var render_items = [{\"docid\":\"8ab51e4f-a3a8-45a1-b2c4-4c07f033e9ec\",\"root_ids\":[\"4753\"],\"roots\":{\"4753\":\"9aa0edf3-bc07-48a9-9fcc-b8b6675d2da6\"}}];\n",
       "  root.Bokeh.embed.embed_items_notebook(docs_json, render_items);\n",
       "\n",
       "  }\n",
       "  if (root.Bokeh !== undefined) {\n",
       "    embed_document(root);\n",
       "  } else {\n",
       "    var attempts = 0;\n",
       "    var timer = setInterval(function(root) {\n",
       "      if (root.Bokeh !== undefined) {\n",
       "        clearInterval(timer);\n",
       "        embed_document(root);\n",
       "      } else {\n",
       "        attempts++;\n",
       "        if (attempts > 100) {\n",
       "          clearInterval(timer);\n",
       "          console.log(\"Bokeh: ERROR: Unable to run BokehJS code because BokehJS library is missing\");\n",
       "        }\n",
       "      }\n",
       "    }, 10, root)\n",
       "  }\n",
       "})(window);"
      ],
      "application/vnd.bokehjs_exec.v0+json": ""
     },
     "metadata": {
      "application/vnd.bokehjs_exec.v0+json": {
       "id": "4753"
      }
     },
     "output_type": "display_data"
    },
    {
     "data": {
      "text/markdown": [
       "**Memory utilization of gpu0 on node algo-1:**"
      ],
      "text/plain": [
       "<IPython.core.display.Markdown object>"
      ]
     },
     "metadata": {},
     "output_type": "display_data"
    },
    {
     "data": {
      "text/html": [
       "\n",
       "\n",
       "\n",
       "\n",
       "\n",
       "\n",
       "  <div class=\"bk-root\" id=\"de49a9fa-99ff-48b4-97fd-40333ab70d94\" data-root-id=\"4944\"></div>\n"
      ]
     },
     "metadata": {},
     "output_type": "display_data"
    },
    {
     "data": {
      "application/javascript": [
       "(function(root) {\n",
       "  function embed_document(root) {\n",
       "    \n",
       "  var docs_json = {\"50d3052c-a95e-49f4-9888-541da3f8d39e\":{\"roots\":{\"references\":[{\"attributes\":{\"text\":\" The max memory utilization of gpu0 on node algo-1 was 38.0%. The 95th percentile was only 38%. The 5th percentile was only 0.0%.\",\"width\":900},\"id\":\"4944\",\"type\":\"Paragraph\"}],\"root_ids\":[\"4944\"]},\"title\":\"Bokeh Application\",\"version\":\"2.2.3\"}};\n",
       "  var render_items = [{\"docid\":\"50d3052c-a95e-49f4-9888-541da3f8d39e\",\"root_ids\":[\"4944\"],\"roots\":{\"4944\":\"de49a9fa-99ff-48b4-97fd-40333ab70d94\"}}];\n",
       "  root.Bokeh.embed.embed_items_notebook(docs_json, render_items);\n",
       "\n",
       "  }\n",
       "  if (root.Bokeh !== undefined) {\n",
       "    embed_document(root);\n",
       "  } else {\n",
       "    var attempts = 0;\n",
       "    var timer = setInterval(function(root) {\n",
       "      if (root.Bokeh !== undefined) {\n",
       "        clearInterval(timer);\n",
       "        embed_document(root);\n",
       "      } else {\n",
       "        attempts++;\n",
       "        if (attempts > 100) {\n",
       "          clearInterval(timer);\n",
       "          console.log(\"Bokeh: ERROR: Unable to run BokehJS code because BokehJS library is missing\");\n",
       "        }\n",
       "      }\n",
       "    }, 10, root)\n",
       "  }\n",
       "})(window);"
      ],
      "application/vnd.bokehjs_exec.v0+json": ""
     },
     "metadata": {
      "application/vnd.bokehjs_exec.v0+json": {
       "id": "4944"
      }
     },
     "output_type": "display_data"
    },
    {
     "data": {
      "text/html": [
       "\n",
       "\n",
       "\n",
       "\n",
       "\n",
       "\n",
       "  <div class=\"bk-root\" id=\"8a4b1525-cf1a-4aae-b4f9-b4e1b540e8f3\" data-root-id=\"4916\"></div>\n"
      ]
     },
     "metadata": {},
     "output_type": "display_data"
    },
    {
     "data": {
      "application/javascript": [
       "(function(root) {\n",
       "  function embed_document(root) {\n",
       "    \n",
       "  var docs_json = {\"f8b0b31a-a762-4578-90b4-67d7c5362ddd\":{\"roots\":{\"references\":[{\"attributes\":{\"below\":[{\"id\":\"4927\"}],\"center\":[{\"id\":\"4930\"},{\"id\":\"4934\"}],\"left\":[{\"id\":\"4931\"}],\"plot_height\":350,\"plot_width\":1000,\"renderers\":[{\"id\":\"5110\"},{\"id\":\"5115\"},{\"id\":\"5120\"},{\"id\":\"5125\"},{\"id\":\"5130\"},{\"id\":\"5135\"}],\"title\":{\"id\":\"4917\"},\"toolbar\":{\"id\":\"4939\"},\"x_range\":{\"id\":\"4919\"},\"x_scale\":{\"id\":\"4923\"},\"y_range\":{\"id\":\"4921\"},\"y_scale\":{\"id\":\"4925\"}},\"id\":\"4916\",\"subtype\":\"Figure\",\"type\":\"Plot\"},{\"attributes\":{\"bottom\":{\"value\":3.0},\"fill_color\":{\"value\":\"#440154\"},\"top\":{\"value\":0.0},\"width\":{\"value\":0.7},\"x\":{\"value\":1}},\"id\":\"5123\",\"type\":\"VBar\"},{\"attributes\":{},\"id\":\"5302\",\"type\":\"BasicTickFormatter\"},{\"attributes\":{\"source\":{\"id\":\"5117\"}},\"id\":\"5121\",\"type\":\"CDSView\"},{\"attributes\":{},\"id\":\"5307\",\"type\":\"UnionRenderers\"},{\"attributes\":{},\"id\":\"5313\",\"type\":\"UnionRenderers\"},{\"attributes\":{\"data\":{},\"selected\":{\"id\":\"5312\"},\"selection_policy\":{\"id\":\"5311\"}},\"id\":\"5122\",\"type\":\"ColumnDataSource\"},{\"attributes\":{\"callback\":null},\"id\":\"4935\",\"type\":\"HoverTool\"},{\"attributes\":{},\"id\":\"5306\",\"type\":\"Selection\"},{\"attributes\":{},\"id\":\"5316\",\"type\":\"Selection\"},{\"attributes\":{\"formatter\":{\"id\":\"5304\"},\"major_label_overrides\":{\"1\":\"gpu0\"},\"major_label_text_font_size\":\"10px\",\"ticker\":{\"id\":\"5137\"}},\"id\":\"4927\",\"type\":\"LinearAxis\"},{\"attributes\":{\"data\":{},\"selected\":{\"id\":\"5306\"},\"selection_policy\":{\"id\":\"5305\"}},\"id\":\"5107\",\"type\":\"ColumnDataSource\"},{\"attributes\":{\"data_source\":{\"id\":\"5117\"},\"glyph\":{\"id\":\"5118\"},\"hover_glyph\":null,\"muted_glyph\":null,\"nonselection_glyph\":{\"id\":\"5119\"},\"selection_glyph\":null,\"view\":{\"id\":\"5121\"}},\"id\":\"5120\",\"type\":\"GlyphRenderer\"},{\"attributes\":{\"data_source\":{\"id\":\"5122\"},\"glyph\":{\"id\":\"5123\"},\"hover_glyph\":null,\"muted_glyph\":null,\"nonselection_glyph\":{\"id\":\"5124\"},\"selection_glyph\":null,\"view\":{\"id\":\"5126\"}},\"id\":\"5125\",\"type\":\"GlyphRenderer\"},{\"attributes\":{\"x0\":{\"value\":1},\"x1\":{\"value\":1},\"y0\":{\"value\":0.0},\"y1\":{\"value\":0.0}},\"id\":\"5113\",\"type\":\"Segment\"},{\"attributes\":{\"source\":{\"id\":\"5132\"}},\"id\":\"5136\",\"type\":\"CDSView\"},{\"attributes\":{},\"id\":\"4937\",\"type\":\"ResetTool\"},{\"attributes\":{},\"id\":\"4925\",\"type\":\"LinearScale\"},{\"attributes\":{\"data\":{},\"selected\":{\"id\":\"5308\"},\"selection_policy\":{\"id\":\"5307\"}},\"id\":\"5112\",\"type\":\"ColumnDataSource\"},{\"attributes\":{},\"id\":\"5309\",\"type\":\"UnionRenderers\"},{\"attributes\":{\"text\":\"Node algo-1\"},\"id\":\"4917\",\"type\":\"Title\"},{\"attributes\":{},\"id\":\"5305\",\"type\":\"UnionRenderers\"},{\"attributes\":{\"fill_color\":{\"value\":\"#1f77b4\"},\"height\":{\"units\":\"data\",\"value\":0.01},\"width\":{\"units\":\"data\",\"value\":0.2},\"x\":{\"value\":1},\"y\":{\"value\":0.0}},\"id\":\"5128\",\"type\":\"Rect\"},{\"attributes\":{},\"id\":\"4932\",\"type\":\"BasicTicker\"},{\"attributes\":{},\"id\":\"5304\",\"type\":\"BasicTickFormatter\"},{\"attributes\":{},\"id\":\"5315\",\"type\":\"UnionRenderers\"},{\"attributes\":{\"axis_label\":\"Utilization in %\",\"formatter\":{\"id\":\"5302\"},\"ticker\":{\"id\":\"4932\"}},\"id\":\"4931\",\"type\":\"LinearAxis\"},{\"attributes\":{},\"id\":\"5308\",\"type\":\"Selection\"},{\"attributes\":{\"source\":{\"id\":\"5107\"}},\"id\":\"5111\",\"type\":\"CDSView\"},{\"attributes\":{\"source\":{\"id\":\"5122\"}},\"id\":\"5126\",\"type\":\"CDSView\"},{\"attributes\":{},\"id\":\"4936\",\"type\":\"WheelZoomTool\"},{\"attributes\":{\"bottom\":{\"value\":3.0},\"fill_alpha\":{\"value\":0.1},\"fill_color\":{\"value\":\"#440154\"},\"line_alpha\":{\"value\":0.1},\"top\":{\"value\":0.0},\"width\":{\"value\":0.7},\"x\":{\"value\":1}},\"id\":\"5124\",\"type\":\"VBar\"},{\"attributes\":{\"data\":{},\"selected\":{\"id\":\"5314\"},\"selection_policy\":{\"id\":\"5313\"}},\"id\":\"5127\",\"type\":\"ColumnDataSource\"},{\"attributes\":{\"data_source\":{\"id\":\"5107\"},\"glyph\":{\"id\":\"5108\"},\"hover_glyph\":null,\"muted_glyph\":null,\"nonselection_glyph\":{\"id\":\"5109\"},\"selection_glyph\":null,\"view\":{\"id\":\"5111\"}},\"id\":\"5110\",\"type\":\"GlyphRenderer\"},{\"attributes\":{\"end\":17},\"id\":\"4919\",\"type\":\"Range1d\"},{\"attributes\":{\"source\":{\"id\":\"5127\"}},\"id\":\"5131\",\"type\":\"CDSView\"},{\"attributes\":{},\"id\":\"4938\",\"type\":\"PanTool\"},{\"attributes\":{\"line_alpha\":{\"value\":0.1},\"x0\":{\"value\":1},\"x1\":{\"value\":1},\"y0\":{\"value\":38.0},\"y1\":{\"value\":22.0}},\"id\":\"5109\",\"type\":\"Segment\"},{\"attributes\":{},\"id\":\"5314\",\"type\":\"Selection\"},{\"attributes\":{},\"id\":\"4921\",\"type\":\"DataRange1d\"},{\"attributes\":{\"bottom\":{\"value\":22.0},\"fill_color\":{\"value\":\"#FDE725\"},\"top\":{\"value\":3.0},\"width\":{\"value\":0.7},\"x\":{\"value\":1}},\"id\":\"5118\",\"type\":\"VBar\"},{\"attributes\":{},\"id\":\"5310\",\"type\":\"Selection\"},{\"attributes\":{\"data_source\":{\"id\":\"5127\"},\"glyph\":{\"id\":\"5128\"},\"hover_glyph\":null,\"muted_glyph\":null,\"nonselection_glyph\":{\"id\":\"5129\"},\"selection_glyph\":null,\"view\":{\"id\":\"5131\"}},\"id\":\"5130\",\"type\":\"GlyphRenderer\"},{\"attributes\":{},\"id\":\"5311\",\"type\":\"UnionRenderers\"},{\"attributes\":{\"active_drag\":\"auto\",\"active_inspect\":\"auto\",\"active_multi\":null,\"active_scroll\":\"auto\",\"active_tap\":\"auto\",\"tools\":[{\"id\":\"4935\"},{\"id\":\"4936\"},{\"id\":\"4937\"},{\"id\":\"4938\"}]},\"id\":\"4939\",\"type\":\"Toolbar\"},{\"attributes\":{},\"id\":\"4923\",\"type\":\"LinearScale\"},{\"attributes\":{\"source\":{\"id\":\"5112\"}},\"id\":\"5116\",\"type\":\"CDSView\"},{\"attributes\":{\"ticks\":[0,1]},\"id\":\"5137\",\"type\":\"FixedTicker\"},{\"attributes\":{\"fill_alpha\":{\"value\":0.1},\"fill_color\":{\"value\":\"#1f77b4\"},\"height\":{\"units\":\"data\",\"value\":0.01},\"line_alpha\":{\"value\":0.1},\"width\":{\"units\":\"data\",\"value\":0.2},\"x\":{\"value\":1},\"y\":{\"value\":0.0}},\"id\":\"5129\",\"type\":\"Rect\"},{\"attributes\":{\"line_alpha\":{\"value\":0.1},\"x0\":{\"value\":1},\"x1\":{\"value\":1},\"y0\":{\"value\":0.0},\"y1\":{\"value\":0.0}},\"id\":\"5114\",\"type\":\"Segment\"},{\"attributes\":{},\"id\":\"5312\",\"type\":\"Selection\"},{\"attributes\":{\"x0\":{\"value\":1},\"x1\":{\"value\":1},\"y0\":{\"value\":38.0},\"y1\":{\"value\":22.0}},\"id\":\"5108\",\"type\":\"Segment\"},{\"attributes\":{\"data\":{},\"selected\":{\"id\":\"5316\"},\"selection_policy\":{\"id\":\"5315\"}},\"id\":\"5132\",\"type\":\"ColumnDataSource\"},{\"attributes\":{\"fill_color\":{\"value\":\"#1f77b4\"},\"height\":{\"units\":\"data\",\"value\":0.01},\"width\":{\"units\":\"data\",\"value\":0.2},\"x\":{\"value\":1},\"y\":{\"value\":38.0}},\"id\":\"5133\",\"type\":\"Rect\"},{\"attributes\":{\"bottom\":{\"value\":22.0},\"fill_alpha\":{\"value\":0.1},\"fill_color\":{\"value\":\"#FDE725\"},\"line_alpha\":{\"value\":0.1},\"top\":{\"value\":3.0},\"width\":{\"value\":0.7},\"x\":{\"value\":1}},\"id\":\"5119\",\"type\":\"VBar\"},{\"attributes\":{\"data_source\":{\"id\":\"5112\"},\"glyph\":{\"id\":\"5113\"},\"hover_glyph\":null,\"muted_glyph\":null,\"nonselection_glyph\":{\"id\":\"5114\"},\"selection_glyph\":null,\"view\":{\"id\":\"5116\"}},\"id\":\"5115\",\"type\":\"GlyphRenderer\"},{\"attributes\":{\"axis\":{\"id\":\"4931\"},\"dimension\":1,\"grid_line_color\":\"white\",\"grid_line_width\":0,\"ticker\":null},\"id\":\"4934\",\"type\":\"Grid\"},{\"attributes\":{\"data\":{},\"selected\":{\"id\":\"5310\"},\"selection_policy\":{\"id\":\"5309\"}},\"id\":\"5117\",\"type\":\"ColumnDataSource\"},{\"attributes\":{\"fill_alpha\":{\"value\":0.1},\"fill_color\":{\"value\":\"#1f77b4\"},\"height\":{\"units\":\"data\",\"value\":0.01},\"line_alpha\":{\"value\":0.1},\"width\":{\"units\":\"data\",\"value\":0.2},\"x\":{\"value\":1},\"y\":{\"value\":38.0}},\"id\":\"5134\",\"type\":\"Rect\"},{\"attributes\":{\"axis\":{\"id\":\"4927\"},\"grid_line_color\":null,\"grid_line_width\":0,\"ticker\":null},\"id\":\"4930\",\"type\":\"Grid\"},{\"attributes\":{\"data_source\":{\"id\":\"5132\"},\"glyph\":{\"id\":\"5133\"},\"hover_glyph\":null,\"muted_glyph\":null,\"nonselection_glyph\":{\"id\":\"5134\"},\"selection_glyph\":null,\"view\":{\"id\":\"5136\"}},\"id\":\"5135\",\"type\":\"GlyphRenderer\"}],\"root_ids\":[\"4916\"]},\"title\":\"Bokeh Application\",\"version\":\"2.2.3\"}};\n",
       "  var render_items = [{\"docid\":\"f8b0b31a-a762-4578-90b4-67d7c5362ddd\",\"root_ids\":[\"4916\"],\"roots\":{\"4916\":\"8a4b1525-cf1a-4aae-b4f9-b4e1b540e8f3\"}}];\n",
       "  root.Bokeh.embed.embed_items_notebook(docs_json, render_items);\n",
       "\n",
       "  }\n",
       "  if (root.Bokeh !== undefined) {\n",
       "    embed_document(root);\n",
       "  } else {\n",
       "    var attempts = 0;\n",
       "    var timer = setInterval(function(root) {\n",
       "      if (root.Bokeh !== undefined) {\n",
       "        clearInterval(timer);\n",
       "        embed_document(root);\n",
       "      } else {\n",
       "        attempts++;\n",
       "        if (attempts > 100) {\n",
       "          clearInterval(timer);\n",
       "          console.log(\"Bokeh: ERROR: Unable to run BokehJS code because BokehJS library is missing\");\n",
       "        }\n",
       "      }\n",
       "    }, 10, root)\n",
       "  }\n",
       "})(window);"
      ],
      "application/vnd.bokehjs_exec.v0+json": ""
     },
     "metadata": {
      "application/vnd.bokehjs_exec.v0+json": {
       "id": "4916"
      }
     },
     "output_type": "display_data"
    }
   ],
   "source": [
    "if analyse_phase == \"training\":\n",
    "    display(Markdown(\"\"\"### GPU memory\\n\\n\"\"\"))\n",
    "    \n",
    "    report = load_report('GPUMemoryIncrease')\n",
    "    if report:\n",
    "        params = report['RuleParameters'].split('\\n')\n",
    "        increase = float(params[0].split(':')[1])\n",
    "        patience = params[1].split(':')[1]\n",
    "        window = params[2].split(':')[1]\n",
    "        violations = report['Violations']\n",
    "        triggered = report['RuleTriggered']\n",
    "        datapoints = report['Datapoints']\n",
    "    \n",
    "        text=Paragraph(text=f\"\"\"The GPUMemoryIncrease rule helps to detect large increase in memory usage on GPUs. \n",
    "        The rule checked if the moving average of memory increased by more than {increase}%. \n",
    "        So if the moving average increased for instance from 10% to {11+increase}%, \n",
    "        the rule would have triggered. During initialization utilization  is likely 0, so the rule skipped the first {patience} datapoints.\n",
    "        The moving average was computed on a window size of {window} continuous datapoints. The rule detected {violations} violations\n",
    "        where the moving average between previous and current time window increased by more than {increase}%.\n",
    "        The rule analysed {datapoints} datapoints and triggered {triggered} times.\"\"\",\n",
    "                       width=900)\n",
    "        show(text)\n",
    "\n",
    "        if len(report['Details']) > 0:\n",
    "            \n",
    "            timestamp = us_since_epoch_to_human_readable_time(report['Details']['last_timestamp'])\n",
    "            date = datetime.datetime.strptime(timestamp, '%Y-%m-%dT%H:%M:%S:%f')\n",
    "            day = date.date().strftime(\"%m/%d/%Y\")\n",
    "            hour = date.time().strftime(\"%H:%M:%S\")\n",
    "            text = Paragraph(text=f\"\"\"Your training job triggered memory spikes. \n",
    "            The last time the GPUMemoryIncrease rule triggered in your training job was on {day} at {hour}.\n",
    "            The following boxplots are a snapshot from the timestamps. They show for each node and GPU the corresponding\n",
    "            memory utilization (without outliers).\"\"\", width=900)\n",
    "            show(text)\n",
    "            \n",
    "            del report['Details']['last_timestamp']\n",
    "            \n",
    "            for node_id in report['Details']:\n",
    "    \n",
    "                plot = figure(plot_height=350, \n",
    "                          plot_width=1000,\n",
    "                          toolbar_location='right',\n",
    "                          tools=\"hover,wheel_zoom,reset,pan\", \n",
    "                          title=f\"Node {node_id}\",\n",
    "                          x_range=(0,17),\n",
    "                          )\n",
    "\n",
    "                for index, key in enumerate(report['Details'][node_id]):\n",
    "                    display(Markdown(f\"\"\"**Memory utilization of {key} on node {node_id}:**\"\"\"))\n",
    "                    text = \"\"\n",
    "                    gpu_max = report['Details'][node_id][key]['gpu_max']\n",
    "                    text = f\"\"\"{text} The max memory utilization of {key} on node {node_id} was {gpu_max}%.\"\"\"\n",
    "                    \n",
    "                    p_95 = int(report['Details'][node_id][key]['p95'])\n",
    "                    p_5 = report['Details'][node_id][key]['p05']\n",
    "                    if p_95 < int(50): \n",
    "                        text = f\"\"\"{text} The 95th percentile was only {p_95}%.\"\"\"\n",
    "                    if p_5 < int(5): \n",
    "                        text = f\"\"\"{text} The 5th percentile was only {p_5}%.\"\"\"\n",
    "                    if p_95 - p_5 > 50:\n",
    "                        text = f\"\"\"{text} The difference between 5th percentile {p_5}% and 95th percentile {p_95}% is quite \n",
    "                        significant, which means that memory utilization on {key} is fluctuating quite a lot.\"\"\"\n",
    "                        \n",
    "                    text = Paragraph(text=f\"\"\"{text}\"\"\", width=900)\n",
    "                    show(text)\n",
    "                    \n",
    "                    upper = report['Details'][node_id][key]['upper']\n",
    "                    lower = report['Details'][node_id][key]['lower']\n",
    "                    p75 = report['Details'][node_id][key]['p75']\n",
    "                    p25 = report['Details'][node_id][key]['p25']\n",
    "                    p50 = report['Details'][node_id][key]['p50']\n",
    "\n",
    "                    plot.segment(index+1, upper, index+1, p75, line_color=\"black\")\n",
    "                    plot.segment(index+1, lower, index+1, p25, line_color=\"black\")\n",
    "\n",
    "                    plot.vbar(index+1, 0.7, p50, p75, fill_color=\"#FDE725\", line_color=\"black\")\n",
    "                    plot.vbar(index+1, 0.7, p25, p50, fill_color=\"#440154\", line_color=\"black\")\n",
    "\n",
    "                    plot.rect(index+1, lower, 0.2, 0.01, line_color=\"black\")\n",
    "                    plot.rect(index+1, upper, 0.2, 0.01, line_color=\"black\")\n",
    "\n",
    "                    plot.xaxis.major_label_overrides[index+1] = key\n",
    "                    plot.xgrid.grid_line_color = None\n",
    "                    plot.ygrid.grid_line_color = \"white\"\n",
    "                    plot.grid.grid_line_width = 0\n",
    "\n",
    "                    plot.xaxis.major_label_text_font_size=\"10px\"\n",
    "                plot.xaxis.ticker = np.arange(index+2)\n",
    "                plot.yaxis.axis_label = \"Utilization in %\"\n",
    "                show(plot)"
   ]
  }
 ],
 "metadata": {
  "celltoolbar": "Tags",
  "kernelspec": {
   "display_name": "Python 3",
   "language": "python",
   "name": "python3"
  },
  "language_info": {
   "codemirror_mode": {
    "name": "ipython",
    "version": 3
   },
   "file_extension": ".py",
   "mimetype": "text/x-python",
   "name": "python",
   "nbconvert_exporter": "python",
   "pygments_lexer": "ipython3",
   "version": "3.7.10"
  },
  "papermill": {
   "duration": 4.766427,
   "end_time": "2025-07-04T00:04:16.178349",
   "environment_variables": {},
   "exception": null,
   "input_path": "/opt/ml/code/profiler_report.ipynb",
   "output_path": "/opt/ml/processing/output/rule/profiler-output/.sagemaker-ignore/out.tmp",
   "parameters": {
    "processing_job_arn": "arn:aws:sagemaker:us-east-1:266735838622:processing-job/IMPROVED-2025-07-03-23-38--ProfilerReport-42498f82"
   },
   "start_time": "2025-07-04T00:04:11.411922",
   "version": "2.1.2"
  }
 },
 "nbformat": 4,
 "nbformat_minor": 4
}